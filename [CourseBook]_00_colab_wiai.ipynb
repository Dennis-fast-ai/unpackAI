{
  "nbformat": 4,
  "nbformat_minor": 0,
  "metadata": {
    "kernelspec": {
      "display_name": "Python 3",
      "language": "python",
      "name": "python3"
    },
    "colab": {
      "name": "[CourseBook]_00_colab_wiai.ipynb",
      "provenance": [],
      "include_colab_link": true
    }
  },
  "cells": [
    {
      "cell_type": "markdown",
      "metadata": {
        "id": "view-in-github",
        "colab_type": "text"
      },
      "source": [
        "<a href=\"https://colab.research.google.com/github/Dennis-fast-ai/unpackAI/blob/unpackAI/%5BCourseBook%5D_00_colab_wiai.ipynb\" target=\"_parent\"><img src=\"https://colab.research.google.com/assets/colab-badge.svg\" alt=\"Open In Colab\"/></a>"
      ]
    },
    {
      "cell_type": "markdown",
      "metadata": {
        "id": "nnR8WlORtm0r"
      },
      "source": [
        "# Welcome to the unpackAI Bootcamp for Girls unpackingAI! 🌍\n",
        "\n",
        "**Congratulations** on being part of the unpackAI Bootcamp. We are excited to learn and progress with you throughout the upcoming weeks. This course will put you ahead of more then than 99% of the rest of the world in in AI. In the next 10 weeks we will do a deep dive into the ML (machine learning) area of Computer Vision. As a group we will be building a model that will be ready for deploymnet in a real life situation.\n"
      ]
    },
    {
      "cell_type": "markdown",
      "metadata": {
        "id": "vA2QAeinRvbS"
      },
      "source": [
        "### 📕 Learning Objectives\n",
        "\n",
        "* 👉 Understand the context of the Bootcamp (i.e. organizer, requirements structure, etc.)\n",
        "* 👉 Understand the method of learning that we will be using the teaching philisophy of fastai\n",
        "* 👉 Learn how to interact and use with Google Collab.\n",
        "* 👉 A breif introduction to Python and some basic Python code"
      ]
    },
    {
      "cell_type": "markdown",
      "metadata": {
        "id": "AYnYdw7P9oS3"
      },
      "source": [
        "## Who is unpackAI?\n",
        "\n",
        "unpackAI is a community-based AI education platform with the vision to enable as many people as possible to break into AI. Our goal is to educate 1 million students within the first 5 years since the company started. We have done various AI Bootcamps and are continuously improving the entire student experience as well as adding new disciplines to our education repertoire. You can find out more about us via our [Website](https://unpackai.com/) or [LinkedIn](https://www.linkedin.com/company/14590931/admin/)."
      ]
    },
    {
      "cell_type": "markdown",
      "metadata": {
        "id": "Q6LX21L-C4Dq"
      },
      "source": [
        "## Bootcamp Code of Conduct\n",
        "\n",
        "1. 1️⃣**Be a Student** - We are here to learn so do not hold back any questions or problems that you are facing. We can help.\n",
        "2. 2️⃣**Be persistent** - In order to achieve your learning goals you will have to persistently invest enough time to complete all learning materials and deliverables.\n",
        "3. 3️⃣**Be respectful** - Everyone who is part of this Bootcamp is here to help you. We ask you to be respectful to your fellow students and mentors, and to stick to the class timings."
      ]
    },
    {
      "cell_type": "markdown",
      "metadata": {
        "id": "w_fS7_In_pvK"
      },
      "source": [
        "## Bootcamp Structure\n",
        "\n",
        "Below you can find out more about the entire Bootcamp structure divided into weeks. For every week we have a clear learning objective, paired with a class notebook, a deliverables notebook and a video. In total you will have to invest around 14 hours per week.\n",
        "\n",
        "\n",
        "|Week | Content | Learning Objectives|\n",
        "|:--- |:--- | :--- |\n",
        "|**0** | **00 Introduction to the Course** | **Get to know more about your classmates, the mentors, and learn about the fundamental concepts of Machine Learning, how it works, its limitations, and potential**\n",
        "|1 |01 Introduction to Deep Learning | In this chapeter we will have a look at a global overview of Deep Learning methods - History\n",
        "|2 |02 Production | In this chapeter we are going to build a deep learning model that we will train to recognise cats in photos - We can use our own pictures as well\n",
        "|3 |03 Ethics | This chapter is about ethics and how it applies to AI - Don't abuse the responsibility consider others\n",
        "|4 |04 MNIST Basics | We will use the MNIST data set to dig deeper into how AI works - don't be afraid we have computers\n",
        "|5 |05 Pet Breeds | How do we improve our models and get them to learn to be more accurate - wow world class and better\n",
        "|6 |06 Multi-Category | We will be training models that have more than one thing in the picture that we want to know about - isn't that amazing\n",
        "|7 |07 Sizing and TTA | We will be looking at more ways to improve accuracy of the models - and that it is, now you know all about CV\n",
        "|8 |Group Project | Now that we know so much about CV we can take all the data we have been collecting and start to make differnt models to find the best one\n",
        "|9 |Group Prject | Making it into a web app - we need other people to be able to use it\n",
        "|10 |Graduation | You have made it to the end - 10 weeks of fun and hard work CONGRATULATIONS!!"
      ]
    },
    {
      "cell_type": "markdown",
      "metadata": {
        "id": "WGVLOHyJAP1L"
      },
      "source": [
        "## Weekly Structure\n",
        "\n",
        "Below you can find out more about the weekly structure that is being initiated during the warm-up session. Every week we will have two sessions with their own specific purpose. These sessions will be conducted on Zoom.\n",
        "\n",
        "|  |Monday| Tuesday | Wednesday | Thursday | Friday | Saturday | Sunday |\n",
        "| --- |:--- | :--- | :--- | :--- | :--- | :--- | :--- |\n",
        "|**Type**| **Lecture Session**| Individual study | Individual study | Individual study |**Review Session** |Individual study | Individual study |\n",
        "|**Time**|tba | Self-paced |Self-paced | Self-paced| tba| Self-paced  | Self-paced|\n",
        "\n",
        "👨‍🏫**Lecture Content:** The lecture will cover the key content of the notebook, students may ask questions during the lectures.\n",
        "\n",
        "👨‍💻**Self-Study** Students are required to read the notebook and read the notebook and complete the workbook with assignments.\n",
        "\n",
        "👩‍🏫**Review Session** Discuss lesson content & workbook Discuss questions and problems encountered during the week and review notebook content.\n",
        "\n",
        "🤦‍♀️**Homework Deadline** All questions and assignments must be uploaded on your GitHub repo and links put into the spreadsheet."
      ]
    },
    {
      "cell_type": "markdown",
      "metadata": {
        "id": "LYJiEC8f0v7d"
      },
      "source": [
        "#Teaching Philosopy#"
      ]
    },
    {
      "cell_type": "markdown",
      "metadata": {
        "id": "XdDYZA-I0kRr"
      },
      "source": [
        "You are all familier with the traditional teaching method where you start at the bottom and you build a foundation of understanding and step by step you become more familear with the subject you are being taught. Which is a great way of learning but it takes forever and by the time you know what you are doing you are old and some of the foundations that you learned have changed ... ug what a waste of time.\n",
        "\n",
        "But wait we didn't learn everything like this, some things we learned from the top down, for instance when you learned to ride a bicycle or drive a car you didn't study engineering and physics to learn how a bicyce or a car works and is built. \n",
        "\n",
        "Your mom or dad put you onto the bicycle and helped you find your balance, maybe you had training wheels but you had no idea of the forces involved in keeping you from falling over or how pneumatics work to make your ride more comfortable and the energy ransfer more effective, you just know how to ride a bicycle. \n",
        "\n",
        "You might want to study engineering later to design and build a better bike but that didn't stop you from learning to ride a bicycle. \n",
        "\n",
        "fastai is written by Jeremy Howard with the same learning philosophy, we will be teaching you how to ride a bicycle, write a Deep Learning program, and at the same time we will also be teaching you some of the details of how that program works, In the end you will be able to write your own Deep Learning program and train your own image classifier. \n",
        "\n",
        "If you want to go further and this course has excited you about deep learning there will be opportunties to take further courses. \n",
        "\n",
        "The most important part of learning to ride a bicycle and learning ai is to have fun with it, even though it might be a struggle sometimes and I fell off my bicycle plenty of times while learning you can only become good if you get back up and practice."
      ]
    },
    {
      "cell_type": "markdown",
      "metadata": {
        "id": "jz9aPt4oFmwW"
      },
      "source": [
        "## Software Requirements for the Bootcamp\n",
        "\n",
        "In order to ensure a good learning experience, you will need to use the software listed out below. All of them except the VPN are for free.\n",
        "\n",
        "1. **Zoom**. In order to join live sessions with mentors and fellow students you have to install Zoom on your laptop. You can download it [here](https://zoom.us/download).\n",
        "\n",
        "> *We don't recommend to use your phone to join live sessions as your phone doesn't provide a proper online session environment, and will compromise the quality of live group interactions and you cannot share your notebooks with is required.*\n",
        "\n",
        "\n",
        "2. **WeChat**. It's our main communication tool for every day communication. You will receive instructions, announcements, ask all sorts of questions related to the content, Bootcamp, and recieve answers on a timely manner in the WeChat group. \n",
        "\n",
        "3. **Google Colab**. You will be able to access all the class content within Google Collab as well as execute and write your own code. It is the main tool for building your AI models, freely provides GPU resources and has other benefits that will be described below."
      ]
    },
    {
      "cell_type": "markdown",
      "metadata": {
        "id": "sjF1RBCqCd43"
      },
      "source": [
        "# Your Bootcamp learning journey starts here!\n",
        "\n",
        "To get started with the Bootcamp carefully go through the points below. "
      ]
    },
    {
      "cell_type": "markdown",
      "metadata": {
        "id": "oG02Z-8svGAX"
      },
      "source": [
        "Every Colab Notebook we will use during the course will have the following lines of code. These lines of code call the libraries that we will be using. Do not worry about what a library is a this stage all you need to know is that these libraries contain all the functions and features we need in order to be able to use fastai"
      ]
    },
    {
      "cell_type": "code",
      "metadata": {
        "id": "yFmEKu_eVO2q",
        "colab": {
          "base_uri": "https://localhost:8080/"
        },
        "outputId": "1d1767d1-31f9-447c-97ac-c295765fb06a"
      },
      "source": [
        "!pip install -Uqq fastbook\n",
        "import fastbook\n",
        "fastbook.setup_book()"
      ],
      "execution_count": 1,
      "outputs": [
        {
          "output_type": "stream",
          "name": "stdout",
          "text": [
            "\u001b[K     |████████████████████████████████| 720 kB 8.1 MB/s \n",
            "\u001b[K     |████████████████████████████████| 46 kB 4.2 MB/s \n",
            "\u001b[K     |████████████████████████████████| 1.2 MB 51.2 MB/s \n",
            "\u001b[K     |████████████████████████████████| 186 kB 57.5 MB/s \n",
            "\u001b[K     |████████████████████████████████| 56 kB 4.5 MB/s \n",
            "\u001b[K     |████████████████████████████████| 51 kB 350 kB/s \n",
            "\u001b[?25hMounted at /content/gdrive\n"
          ]
        }
      ]
    },
    {
      "cell_type": "code",
      "metadata": {
        "id": "ev7EblD0VO2x"
      },
      "source": [
        "from fastbook import *"
      ],
      "execution_count": 2,
      "outputs": []
    },
    {
      "cell_type": "markdown",
      "metadata": {
        "id": "y2q_mQhUVO20"
      },
      "source": [
        "# Introduction to Colab Notebook"
      ]
    },
    {
      "cell_type": "markdown",
      "metadata": {
        "id": "ul9xJiScVO23"
      },
      "source": [
        "You can read this tutorial in the book, but we strongly suggest reading it in a (yes, you guessed it) Colab Notebook. This way, you will be able to actually *try* the different commands we will introduce here. \n"
      ]
    },
    {
      "cell_type": "markdown",
      "metadata": {
        "id": "uvkqu5l8VO26"
      },
      "source": [
        "## Introduction"
      ]
    },
    {
      "cell_type": "markdown",
      "metadata": {
        "id": "csADTC4MVO29"
      },
      "source": [
        "Let's build up from the basics: what is a Colab Notebook? Well, we wrote this book using Colab Notebooks. A notebook is a document made of cells. You can write in some of them (text cells) or you can perform calculations in Python (code cells) and run them like this:"
      ]
    },
    {
      "cell_type": "code",
      "metadata": {
        "id": "no1jqhkOVO2_",
        "colab": {
          "base_uri": "https://localhost:8080/"
        },
        "outputId": "f7b3dc8a-c59a-4b37-e394-57c8d31ed5dc"
      },
      "source": [
        "1+1"
      ],
      "execution_count": 3,
      "outputs": [
        {
          "output_type": "execute_result",
          "data": {
            "text/plain": [
              "2"
            ]
          },
          "metadata": {},
          "execution_count": 3
        }
      ]
    },
    {
      "cell_type": "markdown",
      "metadata": {
        "id": "WsMoRmwpVO3B"
      },
      "source": [
        "Cool, huh? This combination of prose and code makes Colab Notebook ideal for experimentation: we can see the rationale for each experiment, the code, and the results in one comprehensive document. \n",
        "\n",
        "Other renowned institutions in academia and industry use Colab Notebook, including Google, Microsoft, IBM, Bloomberg, Berkeley and NASA among others. Even Nobel-winning economists [use Colab Notebooks](https://paulromer.net/Colab-mathematica-and-the-future-of-the-research-paper/)  for their experiments and some suggest that Colab Notebooks will be the [new format for research papers](https://www.theatlantic.com/science/archive/2018/04/the-scientific-paper-is-obsolete/556676/).\n"
      ]
    },
    {
      "cell_type": "markdown",
      "metadata": {
        "id": "Fyvlkis6VO3E"
      },
      "source": [
        "## Writing"
      ]
    },
    {
      "cell_type": "markdown",
      "metadata": {
        "id": "ZwEAYk1BVO3E"
      },
      "source": [
        "A type of cell in which you can write text is called a _Textl_. [_Text_](https://en.wikipedia.org/wiki/Text) is a very popular markup language. To specify that a cell is Text you need to click in the drop-down menu in the toolbar and select Text.\n",
        "\n",
        "Click on the the '+ Text' button on the top left. Now you can type your first Text cell. Write 'My first Text cell' and click back in this text box.\n",
        "\n",
        "![add](https://github.com/Dennis-fast-ai/unpackAI/blob/unpackAI/girls_unpackingAI/images/Colab-Header_1.JPG?raw=1)\n",
        "\n",
        "You should see something like this:"
      ]
    },
    {
      "cell_type": "markdown",
      "metadata": {
        "id": "GLhhFJoxClly"
      },
      "source": [
        ""
      ]
    },
    {
      "cell_type": "markdown",
      "metadata": {
        "id": "UF2dM6gBVO3G"
      },
      "source": [
        "Now try making your first _Code_ cell: follow the same steps as before but don't change the cell type (when you add a cell its default type is _Code_). Type something like 3/2. You should see '1.5' as output."
      ]
    },
    {
      "cell_type": "code",
      "metadata": {
        "id": "rqfQBQBsVO3H",
        "colab": {
          "base_uri": "https://localhost:8080/"
        },
        "outputId": "600542ff-9bbd-4cba-b01f-e36212505797"
      },
      "source": [
        "3/2"
      ],
      "execution_count": 4,
      "outputs": [
        {
          "output_type": "execute_result",
          "data": {
            "text/plain": [
              "1.5"
            ]
          },
          "metadata": {},
          "execution_count": 4
        }
      ]
    },
    {
      "cell_type": "markdown",
      "metadata": {
        "id": "KoNhblUFVO3I"
      },
      "source": [
        "## Editing"
      ]
    },
    {
      "cell_type": "markdown",
      "metadata": {
        "id": "cF1pRfSnVO3I"
      },
      "source": [
        "If you made a mistake in your *Text* cell and you have already exited it, you will notice that you cannot edit it just by clicking on it, you need to double click then you will notice that you are in a split screen mode, one side is the edit mode the other side is the display mode.\n",
        "Once you finish editing you will be able to exit by simply clicking on any other cell and the screen will retun to full display mode.\n"
      ]
    },
    {
      "cell_type": "markdown",
      "metadata": {
        "id": "nVwF2a3aiPz6"
      },
      "source": [
        "#### Some useful tricks that are absolutely important for a better Google Colab experience"
      ]
    },
    {
      "cell_type": "markdown",
      "metadata": {
        "id": "OJNlG2glitD_"
      },
      "source": [
        "##### **1. Save time with keyboard shortcuts**\n",
        "\n",
        "You can access all the shortcuts selecting ***“Tools” → “Keyboard Shortcuts”***.\n",
        "\n",
        "![image.png](data:image/png;base64,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)"
      ]
    },
    {
      "cell_type": "markdown",
      "metadata": {
        "id": "05ueachzmSdm"
      },
      "source": [
        "##### **2. Activate your GPU**\n",
        "The default hardware of Google Colab is CPU. Though in order to train computationally heavy Deep Learning models, you need to utilize GPU hardware which is **free** up to 12 hours of non-stop model training. \n",
        "\n",
        "Click on: ***“Runtime” → “Change runtime type” → “Hardware accelerator”***. Then select the desired hardware.\n",
        "\n",
        "![image.png](https://dl.dropboxusercontent.com/s/klwi5m49m9gpvax/gpu_choose.png)\n",
        "\n",
        "You can easily check if the GPU is enabled by executing the following code (if it returns ' ' your GPU is not enabled):"
      ]
    },
    {
      "cell_type": "markdown",
      "metadata": {
        "id": "kqJ-hYJd_QYq"
      },
      "source": [
        "##### **3. Open the table of contents**\n",
        "\n",
        "Click on the **Table of contents** indicated by the three-lines symbol on the left to see the entire Content. "
      ]
    },
    {
      "cell_type": "markdown",
      "metadata": {
        "id": "ImCgTul2kLxI"
      },
      "source": [
        "##### **4. Light or Dark**\n",
        "\n",
        "If you prefer, you can change Google Colab to dark theme.\n",
        "\n",
        "Go to ***Tools → Settings → Site*** and under **Theme**, pick **dark**."
      ]
    },
    {
      "cell_type": "markdown",
      "metadata": {
        "id": "IXusOliam7bv"
      },
      "source": [
        "## AI & Machine Learning - The Theory everyone needs to know."
      ]
    },
    {
      "cell_type": "markdown",
      "metadata": {
        "id": "LlsE7_lIGBTO"
      },
      "source": [
        "During this course we will be following the [fast.ai](https://course.fast.ai) notebooks that we have made some changes in order to make the course more accessible to students and we have added workbooks where you will be given outlines to help you complete the course work.\n",
        "\n",
        "The prerecorded lessons from Jeremy are also part of the course, students can supliment the lessons with these lectures."
      ]
    },
    {
      "cell_type": "markdown",
      "metadata": {
        "id": "hrFurT0bVO3J"
      },
      "source": [
        "## Other Important Considerations"
      ]
    },
    {
      "cell_type": "markdown",
      "metadata": {
        "id": "kxLg0Oo7VO3K"
      },
      "source": [
        "Your notebook is autosaves with a slight delay as you are typing. If you want to manually save it you can just select \"File\" then select where and how you want to save your notebook. \n",
        "\n",
        "To know if your *kernel* (the Python engine executing your instructions behind the scenes) is computing or not, you can check the dot on the top left of the code cell, if it is working it will show an animated counter, if it has been executed there will be a green chek mark next to the dot. There is also a cell number that turns into a play button. \n",
        "\n",
        "There are a couple of shortcuts you must know about which we use **all** the time. These are:\n",
        "\n",
        " - Shift+Enter: Run the code or Text on a cell\n",
        " \n",
        " - Up Arrow+Down Arrow: Toggle across cells\n",
        " \n"
      ]
    },
    {
      "cell_type": "markdown",
      "metadata": {
        "id": "jz6SwKMZVO3L"
      },
      "source": [
        "That's it. This is all you need to know to use Colab Notebooks. That said, we have more tips and tricks below, so don't jump to the next section just yet.\n"
      ]
    },
    {
      "cell_type": "markdown",
      "metadata": {
        "id": "BjOxwWWnVO3M"
      },
      "source": [
        "## Text Formatting\n"
      ]
    },
    {
      "cell_type": "markdown",
      "metadata": {
        "id": "nkawdn34VO3M"
      },
      "source": [
        "### Headings, Italics, Bold, Inline, Blockquotes and Links"
      ]
    },
    {
      "cell_type": "markdown",
      "metadata": {
        "id": "1iGx5mc-VO3N"
      },
      "source": [
        "A few important concepts to format your code appropriately when using Text are:\n",
        "\n",
        "## #Headings level 1# #\n",
        "## ##Headings level 2## ##\n",
        "### ###Headings level 3### ###\n",
        "    \n",
        "- *Italics* Surround your text with \\_ or \\*.\n",
        "\n",
        "- **Bold** Surround your text with \\__ or \\**.\n",
        "\n",
        "> - Place \\> before your text.\n",
        "\n",
        "- [Links](https://colab.research.google.com/notebooks/intro.ipynb#) Surround the text you want to link with \\[links](*place link here*) \n",
        "\n",
        "\n"
      ]
    },
    {
      "cell_type": "markdown",
      "metadata": {
        "id": "Lle-1SyhVO3P"
      },
      "source": [
        "Notice that including a hashtag before the text in a Text cell makes the text a heading. The number of hashtags you include will determine the priority of the header (# is level one, ## is level two, ### is level three and #### is level four). We will add three new cells with the + button on the left to see how every level of heading looks.\n",
        "\n",
        "In the notebook, double click on some headings and find out what level they are!\n"
      ]
    },
    {
      "cell_type": "markdown",
      "metadata": {
        "id": "dyyly0kyVO3P"
      },
      "source": [
        "### Lists"
      ]
    },
    {
      "cell_type": "markdown",
      "metadata": {
        "id": "S8DHljcVVO3Q"
      },
      "source": [
        "There are three types of lists in Text.\n",
        "\n",
        "Ordered list:\n",
        "\n",
        "1. Step 1\n",
        "  2. Step 1B (use tab)\n",
        "    3. Step 1C (use tab+tab)\n",
        "2. Step 2\n",
        "\n",
        "Unordered list\n",
        "\n",
        "* learning rate\n",
        "* cycle length\n",
        "* weight decay\n",
        "\n",
        "Task list\n",
        "\n",
        "- [x] Learn Colab Notebooks\n",
        "    - [x] Writing\n",
        "    - [x] Modes\n",
        "    - [x] Other Considerations\n",
        "- [ ] Change the world\n",
        "\n",
        "In the notebook, double click on them to see how they are built! \n"
      ]
    },
    {
      "cell_type": "markdown",
      "metadata": {
        "id": "HAk3nKfXVO3Q"
      },
      "source": [
        "## Code Capabilities"
      ]
    },
    {
      "cell_type": "markdown",
      "metadata": {
        "id": "iq3dSMwEVO3Q"
      },
      "source": [
        "**Code** cells are different than **Text** cells in that they have an output cell. This means that we can _keep_ the results of our code within the notebook and share them. Let's say we want to show a graph that explains the result of an experiment. We can just run the necessary cells and save the notebook. The output will be there when we open it again! Try it out by running the next four cells."
      ]
    },
    {
      "cell_type": "code",
      "metadata": {
        "id": "NUQ9hafHVO3Q"
      },
      "source": [
        "# Import necessary libraries\n",
        "from fastai.vision.all import * \n",
        "import matplotlib.pyplot as plt"
      ],
      "execution_count": 5,
      "outputs": []
    },
    {
      "cell_type": "code",
      "metadata": {
        "id": "cuhDknIaVO3R"
      },
      "source": [
        "from PIL import Image"
      ],
      "execution_count": 6,
      "outputs": []
    },
    {
      "cell_type": "code",
      "metadata": {
        "id": "3P2z5-PtVO3R",
        "colab": {
          "base_uri": "https://localhost:8080/"
        },
        "outputId": "d13608ed-3fe5-4761-85d0-02127498e20e"
      },
      "source": [
        "a = 1\n",
        "b = a + 2\n",
        "c = b + a + 3\n",
        "d = c + b + a + 4\n",
        "a, b, c ,d"
      ],
      "execution_count": 7,
      "outputs": [
        {
          "output_type": "execute_result",
          "data": {
            "text/plain": [
              "(1, 3, 7, 15)"
            ]
          },
          "metadata": {},
          "execution_count": 7
        }
      ]
    },
    {
      "cell_type": "code",
      "metadata": {
        "id": "ncMQGA-9VO3S",
        "colab": {
          "base_uri": "https://localhost:8080/",
          "height": 265
        },
        "outputId": "a3335a5f-f1d8-4a69-9c19-c5a42f3fdbda"
      },
      "source": [
        "plt.plot([a,b,c,d])\n",
        "plt.show()"
      ],
      "execution_count": 8,
      "outputs": [
        {
          "output_type": "display_data",
          "data": {
            "image/png": "[encoded data removed]",
            "text/plain": [
              "<Figure size 432x288 with 1 Axes>"
            ]
          },
          "metadata": {
            "needs_background": "light"
          }
        }
      ]
    },
    {
      "cell_type": "code",
      "metadata": {
        "colab": {
          "base_uri": "https://localhost:8080/"
        },
        "id": "HZMPtloyJQJI",
        "outputId": "b2eacbde-642f-4a3d-aebf-2e381407b05b"
      },
      "source": [
        "a = 1\n",
        "b = a + 1\n",
        "c = b + a + 1\n",
        "d = c + b + a + 1\n",
        "a, b, c ,d"
      ],
      "execution_count": 9,
      "outputs": [
        {
          "output_type": "execute_result",
          "data": {
            "text/plain": [
              "(1, 2, 4, 8)"
            ]
          },
          "metadata": {},
          "execution_count": 9
        }
      ]
    },
    {
      "cell_type": "markdown",
      "metadata": {
        "id": "TKTCjr-_VO3T"
      },
      "source": [
        "We can also print images while experimenting."
      ]
    },
    {
      "cell_type": "code",
      "metadata": {
        "id": "5JZTy9e0VO3T",
        "colab": {
          "base_uri": "https://localhost:8080/",
          "height": 267
        },
        "outputId": "e15fa011-fed7-425c-9a5f-ee6ba53425fb"
      },
      "source": [
        "Image.open(image_cat())"
      ],
      "execution_count": 10,
      "outputs": [
        {
          "output_type": "execute_result",
          "data": {
            "image/png": "[encoded data removed]",
            "text/plain": [
              "<PIL.JpegImagePlugin.JpegImageFile image mode=RGB size=197x250 at 0x7F747C881D50>"
            ]
          },
          "metadata": {},
          "execution_count": 10
        }
      ]
    },
    {
      "cell_type": "markdown",
      "metadata": {
        "id": "QXPbqFJXVO3U"
      },
      "source": [
        "## Running the App"
      ]
    },
    {
      "cell_type": "markdown",
      "metadata": {
        "id": "XCuU2mvZVO3U"
      },
      "source": [
        "You will be running a Colab Notebook server from your local computer.\n",
        "\n",
        "You do not need to install any othere app on your computer everything is done for you in the cloud.\n",
        "\n",
        "We Suggest that you bookmark [Colab](https://colab.research.google.com/notebooks/intro.ipynb#) in your browser and suggest using Google Chrome browser to run Colab "
      ]
    },
    {
      "cell_type": "markdown",
      "metadata": {
        "id": "bneebkI9VO3U"
      },
      "source": [
        "## Creating a Notebook"
      ]
    },
    {
      "cell_type": "markdown",
      "metadata": {
        "id": "4f655WzvVO3U"
      },
      "source": [
        "Now that you have your own Colab Notebook running on the Google server, you will probably want to write your own notebook. Click on 'File' + 'New Notebook' in the upper left corner and a new tab will open with a new notebook ready to use. \n",
        "Don't forget to give your notebook a name so that you can find it again later."
      ]
    },
    {
      "cell_type": "markdown",
      "metadata": {
        "id": "un5iDsDNVO3V"
      },
      "source": [
        "### Cell Tricks"
      ]
    },
    {
      "cell_type": "markdown",
      "metadata": {
        "id": "PC6z2YoQVO3W"
      },
      "source": [
        "There are also some tricks that you can code into a cell:\n",
        "\n",
        "- `?function-name`:: Shows the definition and docstring for that function\n",
        "- `??function-name`:: Shows the source code for that function\n",
        "- `doc(function-name)`:: Shows the definition, docstring **and links to the documentation** of the function\n",
        "(only works with fastai library imported)"
      ]
    },
    {
      "cell_type": "markdown",
      "metadata": {
        "id": "5SpF07yrVO3W"
      },
      "source": [
        "### Line Magics"
      ]
    },
    {
      "cell_type": "markdown",
      "metadata": {
        "id": "dpfj_kstVO3W"
      },
      "source": [
        "Line magics are functions that you can run on cells. They should be at the beginning of a line and take as an argument the rest of the line from where they are called. You call them by placing a '%' sign before the command. The most useful ones are:\n",
        "\n",
        "- `%matplotlib inline`:: Ensures that all matplotlib plots will be plotted in the output cell within the notebook and will be kept in the notebook when saved.\n",
        "\n",
        "This command is always called together at the beginning of every notebook of the fast.ai course.\n",
        "\n",
        "- `%timeit`:: Runs a line ten thousand times and displays the average time it took to run."
      ]
    },
    {
      "cell_type": "code",
      "metadata": {
        "id": "fZ6pS8FXVO3X",
        "colab": {
          "base_uri": "https://localhost:8080/"
        },
        "outputId": "cec4269d-527b-4662-f256-0a0f1436c59e"
      },
      "source": [
        "%timeit [i+1 for i in range(1000)]"
      ],
      "execution_count": null,
      "outputs": [
        {
          "output_type": "stream",
          "name": "stdout",
          "text": [
            "10000 loops, best of 5: 70.5 µs per loop\n"
          ]
        }
      ]
    },
    {
      "cell_type": "markdown",
      "metadata": {
        "id": "XpZ1C1l2VO3X"
      },
      "source": [
        "`%debug`: Inspects a function which is showing an error using the [Python debugger](https://docs.python.org/3/library/pdb.html). If you type this in a cell just after an error, you will be directed to a console where you can inspect the values of all the variables.\n"
      ]
    },
    {
      "cell_type": "markdown",
      "metadata": {
        "id": "mwe0aOBsnTMI"
      },
      "source": [
        "You can click on the link here to open [[Workbook]](https://colab.research.google.com/drive/1sVf8gI4dO-XNPoMuer1avq32_nKzOBdd#scrollTo=qHtYKxjF4JO2)_00_colab_wiai.ipynb and you can begin working on answering the questions and asignements"
      ]
    },
    {
      "cell_type": "markdown",
      "metadata": {
        "id": "DrM-whHAwHJ3"
      },
      "source": [
        "#End of the introduction lesson#\n",
        "\n",
        "You will now need to open the course workbook and go over the questions and assignments that have been prepared for you. \n",
        "Remember that you can ask questions in the group chat about anything covered in the course, do not ask your instructors pivately. If you have an administrative or personal issue please contact Janet directly she will attend to the non course related issues. \n",
        "This course is designed to have fun, don't struggle with questions you might have ask them in the group, there are no stupid questions no matter how trivial they might seam the course mentors and leaders will make every effor to answer your questions and remember if someone else in the group knows the answer don't be shy to share it we grow better together. "
      ]
    }
  ]
}