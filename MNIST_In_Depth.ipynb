{
  "nbformat": 4,
  "nbformat_minor": 0,
  "metadata": {
    "colab": {
      "name": "MNIST_In_Depth.ipynb",
      "provenance": [],
      "authorship_tag": "ABX9TyMP/S19mEMnBFCCLpDSdZ1y",
      "include_colab_link": true
    },
    "kernelspec": {
      "name": "python3",
      "display_name": "Python 3"
    },
    "language_info": {
      "name": "python"
    },
    "accelerator": "GPU"
  },
  "cells": [
    {
      "cell_type": "markdown",
      "metadata": {
        "id": "view-in-github",
        "colab_type": "text"
      },
      "source": [
        "<a href=\"https://colab.research.google.com/github/Dennis-fast-ai/unpackAI/blob/main/MNIST_In_Depth.ipynb\" target=\"_parent\"><img src=\"https://colab.research.google.com/assets/colab-badge.svg\" alt=\"Open In Colab\"/></a>"
      ]
    },
    {
      "cell_type": "code",
      "metadata": {
        "colab": {
          "base_uri": "https://localhost:8080/"
        },
        "id": "PDDQbjFN6fU4",
        "outputId": "779b2def-c17e-40e9-c906-d8af0a760da1"
      },
      "source": [
        "#hide\n",
        "!pip install -Uqq fastbook\n",
        "import fastbook\n",
        "fastbook.setup_book()"
      ],
      "execution_count": null,
      "outputs": [
        {
          "output_type": "stream",
          "text": [
            "\u001b[K     |████████████████████████████████| 727kB 10.4MB/s \n",
            "\u001b[K     |████████████████████████████████| 1.2MB 41.5MB/s \n",
            "\u001b[K     |████████████████████████████████| 51kB 8.0MB/s \n",
            "\u001b[K     |████████████████████████████████| 204kB 51.8MB/s \n",
            "\u001b[K     |████████████████████████████████| 51kB 8.3MB/s \n",
            "\u001b[K     |████████████████████████████████| 61kB 8.6MB/s \n",
            "\u001b[?25hMounted at /content/gdrive\n"
          ],
          "name": "stdout"
        }
      ]
    },
    {
      "cell_type": "code",
      "metadata": {
        "id": "8zXL5JSkUNXF"
      },
      "source": [
        "#hide\n",
        "from fastai.vision.all import *\n",
        "from fastbook import *\n",
        "\n",
        "matplotlib.rc('image', cmap='Greys')"
      ],
      "execution_count": null,
      "outputs": []
    },
    {
      "cell_type": "markdown",
      "metadata": {
        "id": "SU9zeJcTUhnD"
      },
      "source": [
        "Time Stamp 1:05 Lesson 3"
      ]
    },
    {
      "cell_type": "code",
      "metadata": {
        "colab": {
          "base_uri": "https://localhost:8080/",
          "height": 17
        },
        "id": "C4xfUBVXUmer",
        "outputId": "c5fda025-a23e-4105-9850-683ec654461a"
      },
      "source": [
        "path = untar_data(URLs.MNIST_SAMPLE)"
      ],
      "execution_count": null,
      "outputs": [
        {
          "output_type": "display_data",
          "data": {
            "text/html": [
              ""
            ],
            "text/plain": [
              "<IPython.core.display.HTML object>"
            ]
          },
          "metadata": {
            "tags": []
          }
        }
      ]
    },
    {
      "cell_type": "code",
      "metadata": {
        "id": "8KmqMKRBVKw4"
      },
      "source": [
        "Path.BASE_PATH = path"
      ],
      "execution_count": null,
      "outputs": []
    },
    {
      "cell_type": "code",
      "metadata": {
        "colab": {
          "base_uri": "https://localhost:8080/"
        },
        "id": "Kllyb34uVQg5",
        "outputId": "d3a79632-3998-4a0c-deb9-da3f489a11ba"
      },
      "source": [
        "path.ls()"
      ],
      "execution_count": null,
      "outputs": [
        {
          "output_type": "execute_result",
          "data": {
            "text/plain": [
              "(#3) [Path('valid'),Path('train'),Path('labels.csv')]"
            ]
          },
          "metadata": {
            "tags": []
          },
          "execution_count": 5
        }
      ]
    },
    {
      "cell_type": "code",
      "metadata": {
        "colab": {
          "base_uri": "https://localhost:8080/"
        },
        "id": "WL2dBzeyVSyr",
        "outputId": "ffe2ed58-eda4-40aa-c687-418ba73b4631"
      },
      "source": [
        "type(path)"
      ],
      "execution_count": null,
      "outputs": [
        {
          "output_type": "execute_result",
          "data": {
            "text/plain": [
              "pathlib.PosixPath"
            ]
          },
          "metadata": {
            "tags": []
          },
          "execution_count": 6
        }
      ]
    },
    {
      "cell_type": "code",
      "metadata": {
        "colab": {
          "base_uri": "https://localhost:8080/",
          "height": 146
        },
        "id": "ISLmSpQDVhLH",
        "outputId": "c3c34b51-a76d-41e7-e64b-e3dab71d7b22"
      },
      "source": [
        "doc(path.ls)"
      ],
      "execution_count": null,
      "outputs": [
        {
          "output_type": "display_data",
          "data": {
            "text/html": [
              "<h4 id=\"Path.ls\" class=\"doc_header\"><code>Path.ls</code><a href=\"https://github.com/fastai/fastcore/tree/master/fastcore/xtras.py#L227\" class=\"source_link\" style=\"float:right\">[source]</a></h4><blockquote><p><code>Path.ls</code>(<strong><code>n_max</code></strong>=<em><code>None</code></em>, <strong><code>file_type</code></strong>=<em><code>None</code></em>, <strong><code>file_exts</code></strong>=<em><code>None</code></em>)</p>\n",
              "</blockquote>\n",
              "<p>Contents of path as a list</p>\n",
              "<p><a href=\"https://fastcore.fast.ai/xtras#Path.ls\" target=\"_blank\" rel=\"noreferrer noopener\">Show in docs</a></p>\n"
            ],
            "text/plain": [
              "<IPython.core.display.HTML object>"
            ]
          },
          "metadata": {
            "tags": []
          }
        }
      ]
    },
    {
      "cell_type": "code",
      "metadata": {
        "colab": {
          "base_uri": "https://localhost:8080/"
        },
        "id": "JVexMu4bWe2Z",
        "outputId": "fe9e340a-1d9b-400f-e848-5e8944373e5e"
      },
      "source": [
        "(path/'train').ls()"
      ],
      "execution_count": null,
      "outputs": [
        {
          "output_type": "execute_result",
          "data": {
            "text/plain": [
              "(#2) [Path('train/7'),Path('train/3')]"
            ]
          },
          "metadata": {
            "tags": []
          },
          "execution_count": 8
        }
      ]
    },
    {
      "cell_type": "code",
      "metadata": {
        "colab": {
          "base_uri": "https://localhost:8080/"
        },
        "id": "GUthWKhSXy2w",
        "outputId": "64fce7dc-ada2-4a37-866f-f3aa14e57117"
      },
      "source": [
        "threes = (path/'train'/'3').ls().sorted()\n",
        "sevens = (path/'train'/'7').ls().sorted()\n",
        "threes"
      ],
      "execution_count": null,
      "outputs": [
        {
          "output_type": "execute_result",
          "data": {
            "text/plain": [
              "(#6131) [Path('train/3/10.png'),Path('train/3/10000.png'),Path('train/3/10011.png'),Path('train/3/10031.png'),Path('train/3/10034.png'),Path('train/3/10042.png'),Path('train/3/10052.png'),Path('train/3/1007.png'),Path('train/3/10074.png'),Path('train/3/10091.png')...]"
            ]
          },
          "metadata": {
            "tags": []
          },
          "execution_count": 9
        }
      ]
    },
    {
      "cell_type": "code",
      "metadata": {
        "colab": {
          "base_uri": "https://localhost:8080/",
          "height": 45
        },
        "id": "8EEHBwCQXyrt",
        "outputId": "6c7ced3e-2c0b-420c-ad73-dc9af130c255"
      },
      "source": [
        "im3_path = threes[1]\n",
        "im3 = Image.open(im3_path)\n",
        "im3"
      ],
      "execution_count": null,
      "outputs": [
        {
          "output_type": "execute_result",
          "data": {
            "image/png": "[encoded data removed]",
            "text/plain": [
              "<PIL.PngImagePlugin.PngImageFile image mode=L size=28x28 at 0x7FF049797BD0>"
            ]
          },
          "metadata": {
            "tags": []
          },
          "execution_count": 10
        }
      ]
    },
    {
      "cell_type": "code",
      "metadata": {
        "colab": {
          "base_uri": "https://localhost:8080/"
        },
        "id": "AXGSnB17Xyj7",
        "outputId": "5f08ef83-ca40-4079-bd97-fc704bf7fc08"
      },
      "source": [
        "im3.shape"
      ],
      "execution_count": null,
      "outputs": [
        {
          "output_type": "execute_result",
          "data": {
            "text/plain": [
              "(28, 28)"
            ]
          },
          "metadata": {
            "tags": []
          },
          "execution_count": 11
        }
      ]
    },
    {
      "cell_type": "code",
      "metadata": {
        "colab": {
          "base_uri": "https://localhost:8080/"
        },
        "id": "3vEh3pelXyZR",
        "outputId": "2ebf5eef-835c-40a7-c94e-5809c205bc84"
      },
      "source": [
        "array(im3)[4:10,4:10]"
      ],
      "execution_count": null,
      "outputs": [
        {
          "output_type": "execute_result",
          "data": {
            "text/plain": [
              "array([[  0,   0,   0,   0,   0,   0],\n",
              "       [  0,   0,   0,   0,   0,  29],\n",
              "       [  0,   0,   0,  48, 166, 224],\n",
              "       [  0,  93, 244, 249, 253, 187],\n",
              "       [  0, 107, 253, 253, 230,  48],\n",
              "       [  0,   3,  20,  20,  15,   0]], dtype=uint8)"
            ]
          },
          "metadata": {
            "tags": []
          },
          "execution_count": 12
        }
      ]
    },
    {
      "cell_type": "code",
      "metadata": {
        "colab": {
          "base_uri": "https://localhost:8080/"
        },
        "id": "91kU47ikadw9",
        "outputId": "96c530cc-8ceb-4f5f-9b3b-a8c5b4285657"
      },
      "source": [
        "tensor(im3)[4:10,4:10]"
      ],
      "execution_count": null,
      "outputs": [
        {
          "output_type": "execute_result",
          "data": {
            "text/plain": [
              "tensor([[  0,   0,   0,   0,   0,   0],\n",
              "        [  0,   0,   0,   0,   0,  29],\n",
              "        [  0,   0,   0,  48, 166, 224],\n",
              "        [  0,  93, 244, 249, 253, 187],\n",
              "        [  0, 107, 253, 253, 230,  48],\n",
              "        [  0,   3,  20,  20,  15,   0]], dtype=torch.uint8)"
            ]
          },
          "metadata": {
            "tags": []
          },
          "execution_count": 13
        }
      ]
    },
    {
      "cell_type": "code",
      "metadata": {
        "colab": {
          "base_uri": "https://localhost:8080/",
          "height": 500
        },
        "id": "3PuXNRRXa1xC",
        "outputId": "01236829-0c9b-4e8c-a1b9-4bc8b6f2038a"
      },
      "source": [
        "im3_t = tensor(im3)\n",
        "df = pd.DataFrame(im3_t[4:26,4:22])\n",
        "df.style.set_properties(**{'font-size':'6pt'}).background_gradient('Greys')"
      ],
      "execution_count": null,
      "outputs": [
        {
          "output_type": "execute_result",
          "data": {
            "text/html": [
              "<style  type=\"text/css\" >\n",
              "#T_8c1f7a20_b5f8_11eb_9daa_0242ac1c0002row0_col0,#T_8c1f7a20_b5f8_11eb_9daa_0242ac1c0002row0_col1,#T_8c1f7a20_b5f8_11eb_9daa_0242ac1c0002row0_col2,#T_8c1f7a20_b5f8_11eb_9daa_0242ac1c0002row0_col3,#T_8c1f7a20_b5f8_11eb_9daa_0242ac1c0002row0_col4,#T_8c1f7a20_b5f8_11eb_9daa_0242ac1c0002row0_col5,#T_8c1f7a20_b5f8_11eb_9daa_0242ac1c0002row0_col6,#T_8c1f7a20_b5f8_11eb_9daa_0242ac1c0002row0_col7,#T_8c1f7a20_b5f8_11eb_9daa_0242ac1c0002row0_col8,#T_8c1f7a20_b5f8_11eb_9daa_0242ac1c0002row0_col9,#T_8c1f7a20_b5f8_11eb_9daa_0242ac1c0002row0_col10,#T_8c1f7a20_b5f8_11eb_9daa_0242ac1c0002row0_col11,#T_8c1f7a20_b5f8_11eb_9daa_0242ac1c0002row0_col12,#T_8c1f7a20_b5f8_11eb_9daa_0242ac1c0002row0_col13,#T_8c1f7a20_b5f8_11eb_9daa_0242ac1c0002row0_col14,#T_8c1f7a20_b5f8_11eb_9daa_0242ac1c0002row0_col15,#T_8c1f7a20_b5f8_11eb_9daa_0242ac1c0002row0_col16,#T_8c1f7a20_b5f8_11eb_9daa_0242ac1c0002row0_col17,#T_8c1f7a20_b5f8_11eb_9daa_0242ac1c0002row1_col0,#T_8c1f7a20_b5f8_11eb_9daa_0242ac1c0002row1_col1,#T_8c1f7a20_b5f8_11eb_9daa_0242ac1c0002row1_col2,#T_8c1f7a20_b5f8_11eb_9daa_0242ac1c0002row1_col3,#T_8c1f7a20_b5f8_11eb_9daa_0242ac1c0002row1_col4,#T_8c1f7a20_b5f8_11eb_9daa_0242ac1c0002row1_col15,#T_8c1f7a20_b5f8_11eb_9daa_0242ac1c0002row1_col16,#T_8c1f7a20_b5f8_11eb_9daa_0242ac1c0002row1_col17,#T_8c1f7a20_b5f8_11eb_9daa_0242ac1c0002row2_col0,#T_8c1f7a20_b5f8_11eb_9daa_0242ac1c0002row2_col1,#T_8c1f7a20_b5f8_11eb_9daa_0242ac1c0002row2_col2,#T_8c1f7a20_b5f8_11eb_9daa_0242ac1c0002row2_col15,#T_8c1f7a20_b5f8_11eb_9daa_0242ac1c0002row2_col16,#T_8c1f7a20_b5f8_11eb_9daa_0242ac1c0002row2_col17,#T_8c1f7a20_b5f8_11eb_9daa_0242ac1c0002row3_col0,#T_8c1f7a20_b5f8_11eb_9daa_0242ac1c0002row3_col15,#T_8c1f7a20_b5f8_11eb_9daa_0242ac1c0002row3_col16,#T_8c1f7a20_b5f8_11eb_9daa_0242ac1c0002row3_col17,#T_8c1f7a20_b5f8_11eb_9daa_0242ac1c0002row4_col0,#T_8c1f7a20_b5f8_11eb_9daa_0242ac1c0002row4_col6,#T_8c1f7a20_b5f8_11eb_9daa_0242ac1c0002row4_col7,#T_8c1f7a20_b5f8_11eb_9daa_0242ac1c0002row4_col8,#T_8c1f7a20_b5f8_11eb_9daa_0242ac1c0002row4_col9,#T_8c1f7a20_b5f8_11eb_9daa_0242ac1c0002row4_col10,#T_8c1f7a20_b5f8_11eb_9daa_0242ac1c0002row4_col15,#T_8c1f7a20_b5f8_11eb_9daa_0242ac1c0002row4_col16,#T_8c1f7a20_b5f8_11eb_9daa_0242ac1c0002row4_col17,#T_8c1f7a20_b5f8_11eb_9daa_0242ac1c0002row5_col0,#T_8c1f7a20_b5f8_11eb_9daa_0242ac1c0002row5_col5,#T_8c1f7a20_b5f8_11eb_9daa_0242ac1c0002row5_col6,#T_8c1f7a20_b5f8_11eb_9daa_0242ac1c0002row5_col7,#T_8c1f7a20_b5f8_11eb_9daa_0242ac1c0002row5_col8,#T_8c1f7a20_b5f8_11eb_9daa_0242ac1c0002row5_col9,#T_8c1f7a20_b5f8_11eb_9daa_0242ac1c0002row5_col15,#T_8c1f7a20_b5f8_11eb_9daa_0242ac1c0002row5_col16,#T_8c1f7a20_b5f8_11eb_9daa_0242ac1c0002row5_col17,#T_8c1f7a20_b5f8_11eb_9daa_0242ac1c0002row6_col0,#T_8c1f7a20_b5f8_11eb_9daa_0242ac1c0002row6_col1,#T_8c1f7a20_b5f8_11eb_9daa_0242ac1c0002row6_col2,#T_8c1f7a20_b5f8_11eb_9daa_0242ac1c0002row6_col3,#T_8c1f7a20_b5f8_11eb_9daa_0242ac1c0002row6_col4,#T_8c1f7a20_b5f8_11eb_9daa_0242ac1c0002row6_col5,#T_8c1f7a20_b5f8_11eb_9daa_0242ac1c0002row6_col6,#T_8c1f7a20_b5f8_11eb_9daa_0242ac1c0002row6_col7,#T_8c1f7a20_b5f8_11eb_9daa_0242ac1c0002row6_col8,#T_8c1f7a20_b5f8_11eb_9daa_0242ac1c0002row6_col9,#T_8c1f7a20_b5f8_11eb_9daa_0242ac1c0002row6_col14,#T_8c1f7a20_b5f8_11eb_9daa_0242ac1c0002row6_col15,#T_8c1f7a20_b5f8_11eb_9daa_0242ac1c0002row6_col16,#T_8c1f7a20_b5f8_11eb_9daa_0242ac1c0002row6_col17,#T_8c1f7a20_b5f8_11eb_9daa_0242ac1c0002row7_col0,#T_8c1f7a20_b5f8_11eb_9daa_0242ac1c0002row7_col1,#T_8c1f7a20_b5f8_11eb_9daa_0242ac1c0002row7_col2,#T_8c1f7a20_b5f8_11eb_9daa_0242ac1c0002row7_col3,#T_8c1f7a20_b5f8_11eb_9daa_0242ac1c0002row7_col4,#T_8c1f7a20_b5f8_11eb_9daa_0242ac1c0002row7_col5,#T_8c1f7a20_b5f8_11eb_9daa_0242ac1c0002row7_col6,#T_8c1f7a20_b5f8_11eb_9daa_0242ac1c0002row7_col13,#T_8c1f7a20_b5f8_11eb_9daa_0242ac1c0002row7_col14,#T_8c1f7a20_b5f8_11eb_9daa_0242ac1c0002row7_col15,#T_8c1f7a20_b5f8_11eb_9daa_0242ac1c0002row7_col16,#T_8c1f7a20_b5f8_11eb_9daa_0242ac1c0002row7_col17,#T_8c1f7a20_b5f8_11eb_9daa_0242ac1c0002row8_col0,#T_8c1f7a20_b5f8_11eb_9daa_0242ac1c0002row8_col1,#T_8c1f7a20_b5f8_11eb_9daa_0242ac1c0002row8_col2,#T_8c1f7a20_b5f8_11eb_9daa_0242ac1c0002row8_col3,#T_8c1f7a20_b5f8_11eb_9daa_0242ac1c0002row8_col4,#T_8c1f7a20_b5f8_11eb_9daa_0242ac1c0002row8_col13,#T_8c1f7a20_b5f8_11eb_9daa_0242ac1c0002row8_col14,#T_8c1f7a20_b5f8_11eb_9daa_0242ac1c0002row8_col15,#T_8c1f7a20_b5f8_11eb_9daa_0242ac1c0002row8_col16,#T_8c1f7a20_b5f8_11eb_9daa_0242ac1c0002row8_col17,#T_8c1f7a20_b5f8_11eb_9daa_0242ac1c0002row9_col0,#T_8c1f7a20_b5f8_11eb_9daa_0242ac1c0002row9_col1,#T_8c1f7a20_b5f8_11eb_9daa_0242ac1c0002row9_col2,#T_8c1f7a20_b5f8_11eb_9daa_0242ac1c0002row9_col3,#T_8c1f7a20_b5f8_11eb_9daa_0242ac1c0002row9_col4,#T_8c1f7a20_b5f8_11eb_9daa_0242ac1c0002row9_col16,#T_8c1f7a20_b5f8_11eb_9daa_0242ac1c0002row9_col17,#T_8c1f7a20_b5f8_11eb_9daa_0242ac1c0002row10_col0,#T_8c1f7a20_b5f8_11eb_9daa_0242ac1c0002row10_col1,#T_8c1f7a20_b5f8_11eb_9daa_0242ac1c0002row10_col2,#T_8c1f7a20_b5f8_11eb_9daa_0242ac1c0002row10_col3,#T_8c1f7a20_b5f8_11eb_9daa_0242ac1c0002row10_col4,#T_8c1f7a20_b5f8_11eb_9daa_0242ac1c0002row10_col5,#T_8c1f7a20_b5f8_11eb_9daa_0242ac1c0002row10_col6,#T_8c1f7a20_b5f8_11eb_9daa_0242ac1c0002row10_col17,#T_8c1f7a20_b5f8_11eb_9daa_0242ac1c0002row11_col0,#T_8c1f7a20_b5f8_11eb_9daa_0242ac1c0002row11_col1,#T_8c1f7a20_b5f8_11eb_9daa_0242ac1c0002row11_col2,#T_8c1f7a20_b5f8_11eb_9daa_0242ac1c0002row11_col3,#T_8c1f7a20_b5f8_11eb_9daa_0242ac1c0002row11_col4,#T_8c1f7a20_b5f8_11eb_9daa_0242ac1c0002row11_col5,#T_8c1f7a20_b5f8_11eb_9daa_0242ac1c0002row11_col6,#T_8c1f7a20_b5f8_11eb_9daa_0242ac1c0002row11_col7,#T_8c1f7a20_b5f8_11eb_9daa_0242ac1c0002row11_col8,#T_8c1f7a20_b5f8_11eb_9daa_0242ac1c0002row11_col9,#T_8c1f7a20_b5f8_11eb_9daa_0242ac1c0002row11_col17,#T_8c1f7a20_b5f8_11eb_9daa_0242ac1c0002row12_col0,#T_8c1f7a20_b5f8_11eb_9daa_0242ac1c0002row12_col1,#T_8c1f7a20_b5f8_11eb_9daa_0242ac1c0002row12_col2,#T_8c1f7a20_b5f8_11eb_9daa_0242ac1c0002row12_col3,#T_8c1f7a20_b5f8_11eb_9daa_0242ac1c0002row12_col4,#T_8c1f7a20_b5f8_11eb_9daa_0242ac1c0002row12_col5,#T_8c1f7a20_b5f8_11eb_9daa_0242ac1c0002row12_col6,#T_8c1f7a20_b5f8_11eb_9daa_0242ac1c0002row12_col7,#T_8c1f7a20_b5f8_11eb_9daa_0242ac1c0002row12_col8,#T_8c1f7a20_b5f8_11eb_9daa_0242ac1c0002row12_col9,#T_8c1f7a20_b5f8_11eb_9daa_0242ac1c0002row12_col10,#T_8c1f7a20_b5f8_11eb_9daa_0242ac1c0002row12_col11,#T_8c1f7a20_b5f8_11eb_9daa_0242ac1c0002row12_col12,#T_8c1f7a20_b5f8_11eb_9daa_0242ac1c0002row12_col17,#T_8c1f7a20_b5f8_11eb_9daa_0242ac1c0002row13_col0,#T_8c1f7a20_b5f8_11eb_9daa_0242ac1c0002row13_col1,#T_8c1f7a20_b5f8_11eb_9daa_0242ac1c0002row13_col2,#T_8c1f7a20_b5f8_11eb_9daa_0242ac1c0002row13_col3,#T_8c1f7a20_b5f8_11eb_9daa_0242ac1c0002row13_col4,#T_8c1f7a20_b5f8_11eb_9daa_0242ac1c0002row13_col5,#T_8c1f7a20_b5f8_11eb_9daa_0242ac1c0002row13_col6,#T_8c1f7a20_b5f8_11eb_9daa_0242ac1c0002row13_col7,#T_8c1f7a20_b5f8_11eb_9daa_0242ac1c0002row13_col8,#T_8c1f7a20_b5f8_11eb_9daa_0242ac1c0002row13_col9,#T_8c1f7a20_b5f8_11eb_9daa_0242ac1c0002row13_col10,#T_8c1f7a20_b5f8_11eb_9daa_0242ac1c0002row13_col11,#T_8c1f7a20_b5f8_11eb_9daa_0242ac1c0002row13_col12,#T_8c1f7a20_b5f8_11eb_9daa_0242ac1c0002row13_col17,#T_8c1f7a20_b5f8_11eb_9daa_0242ac1c0002row14_col0,#T_8c1f7a20_b5f8_11eb_9daa_0242ac1c0002row14_col1,#T_8c1f7a20_b5f8_11eb_9daa_0242ac1c0002row14_col2,#T_8c1f7a20_b5f8_11eb_9daa_0242ac1c0002row14_col3,#T_8c1f7a20_b5f8_11eb_9daa_0242ac1c0002row14_col4,#T_8c1f7a20_b5f8_11eb_9daa_0242ac1c0002row14_col5,#T_8c1f7a20_b5f8_11eb_9daa_0242ac1c0002row14_col6,#T_8c1f7a20_b5f8_11eb_9daa_0242ac1c0002row14_col7,#T_8c1f7a20_b5f8_11eb_9daa_0242ac1c0002row14_col8,#T_8c1f7a20_b5f8_11eb_9daa_0242ac1c0002row14_col9,#T_8c1f7a20_b5f8_11eb_9daa_0242ac1c0002row14_col10,#T_8c1f7a20_b5f8_11eb_9daa_0242ac1c0002row14_col11,#T_8c1f7a20_b5f8_11eb_9daa_0242ac1c0002row14_col17,#T_8c1f7a20_b5f8_11eb_9daa_0242ac1c0002row15_col0,#T_8c1f7a20_b5f8_11eb_9daa_0242ac1c0002row15_col1,#T_8c1f7a20_b5f8_11eb_9daa_0242ac1c0002row15_col2,#T_8c1f7a20_b5f8_11eb_9daa_0242ac1c0002row15_col3,#T_8c1f7a20_b5f8_11eb_9daa_0242ac1c0002row15_col4,#T_8c1f7a20_b5f8_11eb_9daa_0242ac1c0002row15_col5,#T_8c1f7a20_b5f8_11eb_9daa_0242ac1c0002row15_col6,#T_8c1f7a20_b5f8_11eb_9daa_0242ac1c0002row15_col7,#T_8c1f7a20_b5f8_11eb_9daa_0242ac1c0002row15_col8,#T_8c1f7a20_b5f8_11eb_9daa_0242ac1c0002row15_col9,#T_8c1f7a20_b5f8_11eb_9daa_0242ac1c0002row15_col10,#T_8c1f7a20_b5f8_11eb_9daa_0242ac1c0002row15_col17,#T_8c1f7a20_b5f8_11eb_9daa_0242ac1c0002row16_col0,#T_8c1f7a20_b5f8_11eb_9daa_0242ac1c0002row16_col1,#T_8c1f7a20_b5f8_11eb_9daa_0242ac1c0002row16_col2,#T_8c1f7a20_b5f8_11eb_9daa_0242ac1c0002row16_col3,#T_8c1f7a20_b5f8_11eb_9daa_0242ac1c0002row16_col4,#T_8c1f7a20_b5f8_11eb_9daa_0242ac1c0002row16_col5,#T_8c1f7a20_b5f8_11eb_9daa_0242ac1c0002row16_col6,#T_8c1f7a20_b5f8_11eb_9daa_0242ac1c0002row16_col7,#T_8c1f7a20_b5f8_11eb_9daa_0242ac1c0002row16_col8,#T_8c1f7a20_b5f8_11eb_9daa_0242ac1c0002row16_col9,#T_8c1f7a20_b5f8_11eb_9daa_0242ac1c0002row16_col16,#T_8c1f7a20_b5f8_11eb_9daa_0242ac1c0002row16_col17,#T_8c1f7a20_b5f8_11eb_9daa_0242ac1c0002row17_col0,#T_8c1f7a20_b5f8_11eb_9daa_0242ac1c0002row17_col1,#T_8c1f7a20_b5f8_11eb_9daa_0242ac1c0002row17_col2,#T_8c1f7a20_b5f8_11eb_9daa_0242ac1c0002row17_col3,#T_8c1f7a20_b5f8_11eb_9daa_0242ac1c0002row17_col4,#T_8c1f7a20_b5f8_11eb_9daa_0242ac1c0002row17_col5,#T_8c1f7a20_b5f8_11eb_9daa_0242ac1c0002row17_col6,#T_8c1f7a20_b5f8_11eb_9daa_0242ac1c0002row17_col7,#T_8c1f7a20_b5f8_11eb_9daa_0242ac1c0002row17_col15,#T_8c1f7a20_b5f8_11eb_9daa_0242ac1c0002row17_col16,#T_8c1f7a20_b5f8_11eb_9daa_0242ac1c0002row17_col17,#T_8c1f7a20_b5f8_11eb_9daa_0242ac1c0002row18_col0,#T_8c1f7a20_b5f8_11eb_9daa_0242ac1c0002row18_col1,#T_8c1f7a20_b5f8_11eb_9daa_0242ac1c0002row18_col14,#T_8c1f7a20_b5f8_11eb_9daa_0242ac1c0002row18_col15,#T_8c1f7a20_b5f8_11eb_9daa_0242ac1c0002row18_col16,#T_8c1f7a20_b5f8_11eb_9daa_0242ac1c0002row18_col17,#T_8c1f7a20_b5f8_11eb_9daa_0242ac1c0002row19_col0,#T_8c1f7a20_b5f8_11eb_9daa_0242ac1c0002row19_col1,#T_8c1f7a20_b5f8_11eb_9daa_0242ac1c0002row19_col12,#T_8c1f7a20_b5f8_11eb_9daa_0242ac1c0002row19_col13,#T_8c1f7a20_b5f8_11eb_9daa_0242ac1c0002row19_col14,#T_8c1f7a20_b5f8_11eb_9daa_0242ac1c0002row19_col15,#T_8c1f7a20_b5f8_11eb_9daa_0242ac1c0002row19_col16,#T_8c1f7a20_b5f8_11eb_9daa_0242ac1c0002row19_col17,#T_8c1f7a20_b5f8_11eb_9daa_0242ac1c0002row20_col0,#T_8c1f7a20_b5f8_11eb_9daa_0242ac1c0002row20_col1,#T_8c1f7a20_b5f8_11eb_9daa_0242ac1c0002row20_col10,#T_8c1f7a20_b5f8_11eb_9daa_0242ac1c0002row20_col11,#T_8c1f7a20_b5f8_11eb_9daa_0242ac1c0002row20_col12,#T_8c1f7a20_b5f8_11eb_9daa_0242ac1c0002row20_col13,#T_8c1f7a20_b5f8_11eb_9daa_0242ac1c0002row20_col14,#T_8c1f7a20_b5f8_11eb_9daa_0242ac1c0002row20_col15,#T_8c1f7a20_b5f8_11eb_9daa_0242ac1c0002row20_col16,#T_8c1f7a20_b5f8_11eb_9daa_0242ac1c0002row20_col17,#T_8c1f7a20_b5f8_11eb_9daa_0242ac1c0002row21_col0,#T_8c1f7a20_b5f8_11eb_9daa_0242ac1c0002row21_col1,#T_8c1f7a20_b5f8_11eb_9daa_0242ac1c0002row21_col2,#T_8c1f7a20_b5f8_11eb_9daa_0242ac1c0002row21_col3,#T_8c1f7a20_b5f8_11eb_9daa_0242ac1c0002row21_col4,#T_8c1f7a20_b5f8_11eb_9daa_0242ac1c0002row21_col5,#T_8c1f7a20_b5f8_11eb_9daa_0242ac1c0002row21_col6,#T_8c1f7a20_b5f8_11eb_9daa_0242ac1c0002row21_col7,#T_8c1f7a20_b5f8_11eb_9daa_0242ac1c0002row21_col8,#T_8c1f7a20_b5f8_11eb_9daa_0242ac1c0002row21_col9,#T_8c1f7a20_b5f8_11eb_9daa_0242ac1c0002row21_col10,#T_8c1f7a20_b5f8_11eb_9daa_0242ac1c0002row21_col11,#T_8c1f7a20_b5f8_11eb_9daa_0242ac1c0002row21_col12,#T_8c1f7a20_b5f8_11eb_9daa_0242ac1c0002row21_col13,#T_8c1f7a20_b5f8_11eb_9daa_0242ac1c0002row21_col14,#T_8c1f7a20_b5f8_11eb_9daa_0242ac1c0002row21_col15,#T_8c1f7a20_b5f8_11eb_9daa_0242ac1c0002row21_col16,#T_8c1f7a20_b5f8_11eb_9daa_0242ac1c0002row21_col17{\n",
              "            font-size:  6pt;\n",
              "            background-color:  #ffffff;\n",
              "            color:  #000000;\n",
              "        }#T_8c1f7a20_b5f8_11eb_9daa_0242ac1c0002row1_col5,#T_8c1f7a20_b5f8_11eb_9daa_0242ac1c0002row8_col12{\n",
              "            font-size:  6pt;\n",
              "            background-color:  #f1f1f1;\n",
              "            color:  #000000;\n",
              "        }#T_8c1f7a20_b5f8_11eb_9daa_0242ac1c0002row1_col6,#T_8c1f7a20_b5f8_11eb_9daa_0242ac1c0002row1_col13{\n",
              "            font-size:  6pt;\n",
              "            background-color:  #7c7c7c;\n",
              "            color:  #000000;\n",
              "        }#T_8c1f7a20_b5f8_11eb_9daa_0242ac1c0002row1_col7{\n",
              "            font-size:  6pt;\n",
              "            background-color:  #4a4a4a;\n",
              "            color:  #f1f1f1;\n",
              "        }#T_8c1f7a20_b5f8_11eb_9daa_0242ac1c0002row1_col8,#T_8c1f7a20_b5f8_11eb_9daa_0242ac1c0002row1_col9,#T_8c1f7a20_b5f8_11eb_9daa_0242ac1c0002row1_col10,#T_8c1f7a20_b5f8_11eb_9daa_0242ac1c0002row2_col6,#T_8c1f7a20_b5f8_11eb_9daa_0242ac1c0002row2_col7,#T_8c1f7a20_b5f8_11eb_9daa_0242ac1c0002row2_col11,#T_8c1f7a20_b5f8_11eb_9daa_0242ac1c0002row2_col12,#T_8c1f7a20_b5f8_11eb_9daa_0242ac1c0002row2_col13,#T_8c1f7a20_b5f8_11eb_9daa_0242ac1c0002row3_col4,#T_8c1f7a20_b5f8_11eb_9daa_0242ac1c0002row3_col12,#T_8c1f7a20_b5f8_11eb_9daa_0242ac1c0002row3_col13,#T_8c1f7a20_b5f8_11eb_9daa_0242ac1c0002row4_col1,#T_8c1f7a20_b5f8_11eb_9daa_0242ac1c0002row4_col2,#T_8c1f7a20_b5f8_11eb_9daa_0242ac1c0002row4_col3,#T_8c1f7a20_b5f8_11eb_9daa_0242ac1c0002row4_col12,#T_8c1f7a20_b5f8_11eb_9daa_0242ac1c0002row4_col13,#T_8c1f7a20_b5f8_11eb_9daa_0242ac1c0002row5_col12,#T_8c1f7a20_b5f8_11eb_9daa_0242ac1c0002row6_col11,#T_8c1f7a20_b5f8_11eb_9daa_0242ac1c0002row9_col11,#T_8c1f7a20_b5f8_11eb_9daa_0242ac1c0002row10_col11,#T_8c1f7a20_b5f8_11eb_9daa_0242ac1c0002row10_col12,#T_8c1f7a20_b5f8_11eb_9daa_0242ac1c0002row10_col13,#T_8c1f7a20_b5f8_11eb_9daa_0242ac1c0002row10_col14,#T_8c1f7a20_b5f8_11eb_9daa_0242ac1c0002row11_col13,#T_8c1f7a20_b5f8_11eb_9daa_0242ac1c0002row11_col14,#T_8c1f7a20_b5f8_11eb_9daa_0242ac1c0002row11_col15,#T_8c1f7a20_b5f8_11eb_9daa_0242ac1c0002row12_col14,#T_8c1f7a20_b5f8_11eb_9daa_0242ac1c0002row12_col15,#T_8c1f7a20_b5f8_11eb_9daa_0242ac1c0002row12_col16,#T_8c1f7a20_b5f8_11eb_9daa_0242ac1c0002row13_col14,#T_8c1f7a20_b5f8_11eb_9daa_0242ac1c0002row13_col15,#T_8c1f7a20_b5f8_11eb_9daa_0242ac1c0002row14_col14,#T_8c1f7a20_b5f8_11eb_9daa_0242ac1c0002row14_col15,#T_8c1f7a20_b5f8_11eb_9daa_0242ac1c0002row15_col13,#T_8c1f7a20_b5f8_11eb_9daa_0242ac1c0002row15_col14,#T_8c1f7a20_b5f8_11eb_9daa_0242ac1c0002row16_col12,#T_8c1f7a20_b5f8_11eb_9daa_0242ac1c0002row16_col13,#T_8c1f7a20_b5f8_11eb_9daa_0242ac1c0002row17_col11,#T_8c1f7a20_b5f8_11eb_9daa_0242ac1c0002row17_col12,#T_8c1f7a20_b5f8_11eb_9daa_0242ac1c0002row19_col3,#T_8c1f7a20_b5f8_11eb_9daa_0242ac1c0002row19_col4,#T_8c1f7a20_b5f8_11eb_9daa_0242ac1c0002row19_col5,#T_8c1f7a20_b5f8_11eb_9daa_0242ac1c0002row19_col6,#T_8c1f7a20_b5f8_11eb_9daa_0242ac1c0002row19_col7,#T_8c1f7a20_b5f8_11eb_9daa_0242ac1c0002row20_col3,#T_8c1f7a20_b5f8_11eb_9daa_0242ac1c0002row20_col4,#T_8c1f7a20_b5f8_11eb_9daa_0242ac1c0002row20_col5,#T_8c1f7a20_b5f8_11eb_9daa_0242ac1c0002row20_col6,#T_8c1f7a20_b5f8_11eb_9daa_0242ac1c0002row20_col7{\n",
              "            font-size:  6pt;\n",
              "            background-color:  #000000;\n",
              "            color:  #f1f1f1;\n",
              "        }#T_8c1f7a20_b5f8_11eb_9daa_0242ac1c0002row1_col11{\n",
              "            font-size:  6pt;\n",
              "            background-color:  #606060;\n",
              "            color:  #f1f1f1;\n",
              "        }#T_8c1f7a20_b5f8_11eb_9daa_0242ac1c0002row1_col12{\n",
              "            font-size:  6pt;\n",
              "            background-color:  #4d4d4d;\n",
              "            color:  #f1f1f1;\n",
              "        }#T_8c1f7a20_b5f8_11eb_9daa_0242ac1c0002row1_col14{\n",
              "            font-size:  6pt;\n",
              "            background-color:  #bbbbbb;\n",
              "            color:  #000000;\n",
              "        }#T_8c1f7a20_b5f8_11eb_9daa_0242ac1c0002row2_col3,#T_8c1f7a20_b5f8_11eb_9daa_0242ac1c0002row4_col5{\n",
              "            font-size:  6pt;\n",
              "            background-color:  #e4e4e4;\n",
              "            color:  #000000;\n",
              "        }#T_8c1f7a20_b5f8_11eb_9daa_0242ac1c0002row2_col4,#T_8c1f7a20_b5f8_11eb_9daa_0242ac1c0002row8_col6{\n",
              "            font-size:  6pt;\n",
              "            background-color:  #6b6b6b;\n",
              "            color:  #000000;\n",
              "        }#T_8c1f7a20_b5f8_11eb_9daa_0242ac1c0002row2_col5,#T_8c1f7a20_b5f8_11eb_9daa_0242ac1c0002row5_col11{\n",
              "            font-size:  6pt;\n",
              "            background-color:  #222222;\n",
              "            color:  #f1f1f1;\n",
              "        }#T_8c1f7a20_b5f8_11eb_9daa_0242ac1c0002row2_col8,#T_8c1f7a20_b5f8_11eb_9daa_0242ac1c0002row2_col14,#T_8c1f7a20_b5f8_11eb_9daa_0242ac1c0002row3_col14,#T_8c1f7a20_b5f8_11eb_9daa_0242ac1c0002row17_col13{\n",
              "            font-size:  6pt;\n",
              "            background-color:  #171717;\n",
              "            color:  #f1f1f1;\n",
              "        }#T_8c1f7a20_b5f8_11eb_9daa_0242ac1c0002row2_col9,#T_8c1f7a20_b5f8_11eb_9daa_0242ac1c0002row3_col11{\n",
              "            font-size:  6pt;\n",
              "            background-color:  #4b4b4b;\n",
              "            color:  #f1f1f1;\n",
              "        }#T_8c1f7a20_b5f8_11eb_9daa_0242ac1c0002row2_col10,#T_8c1f7a20_b5f8_11eb_9daa_0242ac1c0002row7_col10,#T_8c1f7a20_b5f8_11eb_9daa_0242ac1c0002row8_col8,#T_8c1f7a20_b5f8_11eb_9daa_0242ac1c0002row8_col10,#T_8c1f7a20_b5f8_11eb_9daa_0242ac1c0002row9_col8,#T_8c1f7a20_b5f8_11eb_9daa_0242ac1c0002row9_col10,#T_8c1f7a20_b5f8_11eb_9daa_0242ac1c0002row18_col10,#T_8c1f7a20_b5f8_11eb_9daa_0242ac1c0002row19_col8{\n",
              "            font-size:  6pt;\n",
              "            background-color:  #010101;\n",
              "            color:  #f1f1f1;\n",
              "        }#T_8c1f7a20_b5f8_11eb_9daa_0242ac1c0002row3_col1{\n",
              "            font-size:  6pt;\n",
              "            background-color:  #272727;\n",
              "            color:  #f1f1f1;\n",
              "        }#T_8c1f7a20_b5f8_11eb_9daa_0242ac1c0002row3_col2{\n",
              "            font-size:  6pt;\n",
              "            background-color:  #0a0a0a;\n",
              "            color:  #f1f1f1;\n",
              "        }#T_8c1f7a20_b5f8_11eb_9daa_0242ac1c0002row3_col3,#T_8c1f7a20_b5f8_11eb_9daa_0242ac1c0002row14_col13{\n",
              "            font-size:  6pt;\n",
              "            background-color:  #050505;\n",
              "            color:  #f1f1f1;\n",
              "        }#T_8c1f7a20_b5f8_11eb_9daa_0242ac1c0002row3_col5,#T_8c1f7a20_b5f8_11eb_9daa_0242ac1c0002row8_col11,#T_8c1f7a20_b5f8_11eb_9daa_0242ac1c0002row10_col15,#T_8c1f7a20_b5f8_11eb_9daa_0242ac1c0002row19_col2{\n",
              "            font-size:  6pt;\n",
              "            background-color:  #545454;\n",
              "            color:  #f1f1f1;\n",
              "        }#T_8c1f7a20_b5f8_11eb_9daa_0242ac1c0002row3_col6{\n",
              "            font-size:  6pt;\n",
              "            background-color:  #e6e6e6;\n",
              "            color:  #000000;\n",
              "        }#T_8c1f7a20_b5f8_11eb_9daa_0242ac1c0002row3_col7,#T_8c1f7a20_b5f8_11eb_9daa_0242ac1c0002row3_col10,#T_8c1f7a20_b5f8_11eb_9daa_0242ac1c0002row8_col5{\n",
              "            font-size:  6pt;\n",
              "            background-color:  #fafafa;\n",
              "            color:  #000000;\n",
              "        }#T_8c1f7a20_b5f8_11eb_9daa_0242ac1c0002row3_col8,#T_8c1f7a20_b5f8_11eb_9daa_0242ac1c0002row11_col10,#T_8c1f7a20_b5f8_11eb_9daa_0242ac1c0002row16_col15{\n",
              "            font-size:  6pt;\n",
              "            background-color:  #fbfbfb;\n",
              "            color:  #000000;\n",
              "        }#T_8c1f7a20_b5f8_11eb_9daa_0242ac1c0002row3_col9{\n",
              "            font-size:  6pt;\n",
              "            background-color:  #fdfdfd;\n",
              "            color:  #000000;\n",
              "        }#T_8c1f7a20_b5f8_11eb_9daa_0242ac1c0002row4_col4{\n",
              "            font-size:  6pt;\n",
              "            background-color:  #1b1b1b;\n",
              "            color:  #f1f1f1;\n",
              "        }#T_8c1f7a20_b5f8_11eb_9daa_0242ac1c0002row4_col11{\n",
              "            font-size:  6pt;\n",
              "            background-color:  #4e4e4e;\n",
              "            color:  #f1f1f1;\n",
              "        }#T_8c1f7a20_b5f8_11eb_9daa_0242ac1c0002row4_col14{\n",
              "            font-size:  6pt;\n",
              "            background-color:  #767676;\n",
              "            color:  #000000;\n",
              "        }#T_8c1f7a20_b5f8_11eb_9daa_0242ac1c0002row5_col1{\n",
              "            font-size:  6pt;\n",
              "            background-color:  #fcfcfc;\n",
              "            color:  #000000;\n",
              "        }#T_8c1f7a20_b5f8_11eb_9daa_0242ac1c0002row5_col2,#T_8c1f7a20_b5f8_11eb_9daa_0242ac1c0002row5_col3,#T_8c1f7a20_b5f8_11eb_9daa_0242ac1c0002row15_col16{\n",
              "            font-size:  6pt;\n",
              "            background-color:  #f6f6f6;\n",
              "            color:  #000000;\n",
              "        }#T_8c1f7a20_b5f8_11eb_9daa_0242ac1c0002row5_col4,#T_8c1f7a20_b5f8_11eb_9daa_0242ac1c0002row7_col7{\n",
              "            font-size:  6pt;\n",
              "            background-color:  #f8f8f8;\n",
              "            color:  #000000;\n",
              "        }#T_8c1f7a20_b5f8_11eb_9daa_0242ac1c0002row5_col10,#T_8c1f7a20_b5f8_11eb_9daa_0242ac1c0002row10_col7{\n",
              "            font-size:  6pt;\n",
              "            background-color:  #e8e8e8;\n",
              "            color:  #000000;\n",
              "        }#T_8c1f7a20_b5f8_11eb_9daa_0242ac1c0002row5_col13,#T_8c1f7a20_b5f8_11eb_9daa_0242ac1c0002row6_col12{\n",
              "            font-size:  6pt;\n",
              "            background-color:  #090909;\n",
              "            color:  #f1f1f1;\n",
              "        }#T_8c1f7a20_b5f8_11eb_9daa_0242ac1c0002row5_col14{\n",
              "            font-size:  6pt;\n",
              "            background-color:  #d0d0d0;\n",
              "            color:  #000000;\n",
              "        }#T_8c1f7a20_b5f8_11eb_9daa_0242ac1c0002row6_col10,#T_8c1f7a20_b5f8_11eb_9daa_0242ac1c0002row7_col11,#T_8c1f7a20_b5f8_11eb_9daa_0242ac1c0002row9_col6{\n",
              "            font-size:  6pt;\n",
              "            background-color:  #060606;\n",
              "            color:  #f1f1f1;\n",
              "        }#T_8c1f7a20_b5f8_11eb_9daa_0242ac1c0002row6_col13{\n",
              "            font-size:  6pt;\n",
              "            background-color:  #979797;\n",
              "            color:  #000000;\n",
              "        }#T_8c1f7a20_b5f8_11eb_9daa_0242ac1c0002row7_col8{\n",
              "            font-size:  6pt;\n",
              "            background-color:  #b6b6b6;\n",
              "            color:  #000000;\n",
              "        }#T_8c1f7a20_b5f8_11eb_9daa_0242ac1c0002row7_col9{\n",
              "            font-size:  6pt;\n",
              "            background-color:  #252525;\n",
              "            color:  #f1f1f1;\n",
              "        }#T_8c1f7a20_b5f8_11eb_9daa_0242ac1c0002row7_col12{\n",
              "            font-size:  6pt;\n",
              "            background-color:  #999999;\n",
              "            color:  #000000;\n",
              "        }#T_8c1f7a20_b5f8_11eb_9daa_0242ac1c0002row8_col7,#T_8c1f7a20_b5f8_11eb_9daa_0242ac1c0002row18_col8{\n",
              "            font-size:  6pt;\n",
              "            background-color:  #101010;\n",
              "            color:  #f1f1f1;\n",
              "        }#T_8c1f7a20_b5f8_11eb_9daa_0242ac1c0002row8_col9,#T_8c1f7a20_b5f8_11eb_9daa_0242ac1c0002row9_col9,#T_8c1f7a20_b5f8_11eb_9daa_0242ac1c0002row17_col10,#T_8c1f7a20_b5f8_11eb_9daa_0242ac1c0002row18_col9,#T_8c1f7a20_b5f8_11eb_9daa_0242ac1c0002row19_col9{\n",
              "            font-size:  6pt;\n",
              "            background-color:  #020202;\n",
              "            color:  #f1f1f1;\n",
              "        }#T_8c1f7a20_b5f8_11eb_9daa_0242ac1c0002row9_col5{\n",
              "            font-size:  6pt;\n",
              "            background-color:  #f7f7f7;\n",
              "            color:  #000000;\n",
              "        }#T_8c1f7a20_b5f8_11eb_9daa_0242ac1c0002row9_col7,#T_8c1f7a20_b5f8_11eb_9daa_0242ac1c0002row18_col11{\n",
              "            font-size:  6pt;\n",
              "            background-color:  #030303;\n",
              "            color:  #f1f1f1;\n",
              "        }#T_8c1f7a20_b5f8_11eb_9daa_0242ac1c0002row9_col12{\n",
              "            font-size:  6pt;\n",
              "            background-color:  #181818;\n",
              "            color:  #f1f1f1;\n",
              "        }#T_8c1f7a20_b5f8_11eb_9daa_0242ac1c0002row9_col13{\n",
              "            font-size:  6pt;\n",
              "            background-color:  #303030;\n",
              "            color:  #f1f1f1;\n",
              "        }#T_8c1f7a20_b5f8_11eb_9daa_0242ac1c0002row9_col14{\n",
              "            font-size:  6pt;\n",
              "            background-color:  #a9a9a9;\n",
              "            color:  #000000;\n",
              "        }#T_8c1f7a20_b5f8_11eb_9daa_0242ac1c0002row9_col15{\n",
              "            font-size:  6pt;\n",
              "            background-color:  #fefefe;\n",
              "            color:  #000000;\n",
              "        }#T_8c1f7a20_b5f8_11eb_9daa_0242ac1c0002row10_col8,#T_8c1f7a20_b5f8_11eb_9daa_0242ac1c0002row10_col9,#T_8c1f7a20_b5f8_11eb_9daa_0242ac1c0002row16_col10{\n",
              "            font-size:  6pt;\n",
              "            background-color:  #bababa;\n",
              "            color:  #000000;\n",
              "        }#T_8c1f7a20_b5f8_11eb_9daa_0242ac1c0002row10_col10{\n",
              "            font-size:  6pt;\n",
              "            background-color:  #393939;\n",
              "            color:  #f1f1f1;\n",
              "        }#T_8c1f7a20_b5f8_11eb_9daa_0242ac1c0002row10_col16{\n",
              "            font-size:  6pt;\n",
              "            background-color:  #eaeaea;\n",
              "            color:  #000000;\n",
              "        }#T_8c1f7a20_b5f8_11eb_9daa_0242ac1c0002row11_col11{\n",
              "            font-size:  6pt;\n",
              "            background-color:  #e2e2e2;\n",
              "            color:  #000000;\n",
              "        }#T_8c1f7a20_b5f8_11eb_9daa_0242ac1c0002row11_col12{\n",
              "            font-size:  6pt;\n",
              "            background-color:  #9f9f9f;\n",
              "            color:  #000000;\n",
              "        }#T_8c1f7a20_b5f8_11eb_9daa_0242ac1c0002row11_col16{\n",
              "            font-size:  6pt;\n",
              "            background-color:  #898989;\n",
              "            color:  #000000;\n",
              "        }#T_8c1f7a20_b5f8_11eb_9daa_0242ac1c0002row12_col13{\n",
              "            font-size:  6pt;\n",
              "            background-color:  #585858;\n",
              "            color:  #f1f1f1;\n",
              "        }#T_8c1f7a20_b5f8_11eb_9daa_0242ac1c0002row13_col13{\n",
              "            font-size:  6pt;\n",
              "            background-color:  #5a5a5a;\n",
              "            color:  #f1f1f1;\n",
              "        }#T_8c1f7a20_b5f8_11eb_9daa_0242ac1c0002row13_col16{\n",
              "            font-size:  6pt;\n",
              "            background-color:  #525252;\n",
              "            color:  #f1f1f1;\n",
              "        }#T_8c1f7a20_b5f8_11eb_9daa_0242ac1c0002row14_col12,#T_8c1f7a20_b5f8_11eb_9daa_0242ac1c0002row19_col11{\n",
              "            font-size:  6pt;\n",
              "            background-color:  #c5c5c5;\n",
              "            color:  #000000;\n",
              "        }#T_8c1f7a20_b5f8_11eb_9daa_0242ac1c0002row14_col16{\n",
              "            font-size:  6pt;\n",
              "            background-color:  #d7d7d7;\n",
              "            color:  #000000;\n",
              "        }#T_8c1f7a20_b5f8_11eb_9daa_0242ac1c0002row15_col11,#T_8c1f7a20_b5f8_11eb_9daa_0242ac1c0002row18_col5{\n",
              "            font-size:  6pt;\n",
              "            background-color:  #dcdcdc;\n",
              "            color:  #000000;\n",
              "        }#T_8c1f7a20_b5f8_11eb_9daa_0242ac1c0002row15_col12{\n",
              "            font-size:  6pt;\n",
              "            background-color:  #2f2f2f;\n",
              "            color:  #f1f1f1;\n",
              "        }#T_8c1f7a20_b5f8_11eb_9daa_0242ac1c0002row15_col15{\n",
              "            font-size:  6pt;\n",
              "            background-color:  #636363;\n",
              "            color:  #f1f1f1;\n",
              "        }#T_8c1f7a20_b5f8_11eb_9daa_0242ac1c0002row16_col11{\n",
              "            font-size:  6pt;\n",
              "            background-color:  #070707;\n",
              "            color:  #f1f1f1;\n",
              "        }#T_8c1f7a20_b5f8_11eb_9daa_0242ac1c0002row16_col14{\n",
              "            font-size:  6pt;\n",
              "            background-color:  #1f1f1f;\n",
              "            color:  #f1f1f1;\n",
              "        }#T_8c1f7a20_b5f8_11eb_9daa_0242ac1c0002row17_col8,#T_8c1f7a20_b5f8_11eb_9daa_0242ac1c0002row18_col2,#T_8c1f7a20_b5f8_11eb_9daa_0242ac1c0002row18_col4{\n",
              "            font-size:  6pt;\n",
              "            background-color:  #e9e9e9;\n",
              "            color:  #000000;\n",
              "        }#T_8c1f7a20_b5f8_11eb_9daa_0242ac1c0002row17_col9{\n",
              "            font-size:  6pt;\n",
              "            background-color:  #7d7d7d;\n",
              "            color:  #000000;\n",
              "        }#T_8c1f7a20_b5f8_11eb_9daa_0242ac1c0002row17_col14{\n",
              "            font-size:  6pt;\n",
              "            background-color:  #e1e1e1;\n",
              "            color:  #000000;\n",
              "        }#T_8c1f7a20_b5f8_11eb_9daa_0242ac1c0002row18_col3,#T_8c1f7a20_b5f8_11eb_9daa_0242ac1c0002row18_col6{\n",
              "            font-size:  6pt;\n",
              "            background-color:  #a4a4a4;\n",
              "            color:  #000000;\n",
              "        }#T_8c1f7a20_b5f8_11eb_9daa_0242ac1c0002row18_col7{\n",
              "            font-size:  6pt;\n",
              "            background-color:  #727272;\n",
              "            color:  #000000;\n",
              "        }#T_8c1f7a20_b5f8_11eb_9daa_0242ac1c0002row18_col12{\n",
              "            font-size:  6pt;\n",
              "            background-color:  #616161;\n",
              "            color:  #f1f1f1;\n",
              "        }#T_8c1f7a20_b5f8_11eb_9daa_0242ac1c0002row18_col13{\n",
              "            font-size:  6pt;\n",
              "            background-color:  #f3f3f3;\n",
              "            color:  #000000;\n",
              "        }#T_8c1f7a20_b5f8_11eb_9daa_0242ac1c0002row19_col10{\n",
              "            font-size:  6pt;\n",
              "            background-color:  #484848;\n",
              "            color:  #f1f1f1;\n",
              "        }#T_8c1f7a20_b5f8_11eb_9daa_0242ac1c0002row20_col2{\n",
              "            font-size:  6pt;\n",
              "            background-color:  #b3b3b3;\n",
              "            color:  #000000;\n",
              "        }#T_8c1f7a20_b5f8_11eb_9daa_0242ac1c0002row20_col8{\n",
              "            font-size:  6pt;\n",
              "            background-color:  #1a1a1a;\n",
              "            color:  #f1f1f1;\n",
              "        }#T_8c1f7a20_b5f8_11eb_9daa_0242ac1c0002row20_col9{\n",
              "            font-size:  6pt;\n",
              "            background-color:  #d6d6d6;\n",
              "            color:  #000000;\n",
              "        }</style><table id=\"T_8c1f7a20_b5f8_11eb_9daa_0242ac1c0002\" ><thead>    <tr>        <th class=\"blank level0\" ></th>        <th class=\"col_heading level0 col0\" >0</th>        <th class=\"col_heading level0 col1\" >1</th>        <th class=\"col_heading level0 col2\" >2</th>        <th class=\"col_heading level0 col3\" >3</th>        <th class=\"col_heading level0 col4\" >4</th>        <th class=\"col_heading level0 col5\" >5</th>        <th class=\"col_heading level0 col6\" >6</th>        <th class=\"col_heading level0 col7\" >7</th>        <th class=\"col_heading level0 col8\" >8</th>        <th class=\"col_heading level0 col9\" >9</th>        <th class=\"col_heading level0 col10\" >10</th>        <th class=\"col_heading level0 col11\" >11</th>        <th class=\"col_heading level0 col12\" >12</th>        <th class=\"col_heading level0 col13\" >13</th>        <th class=\"col_heading level0 col14\" >14</th>        <th class=\"col_heading level0 col15\" >15</th>        <th class=\"col_heading level0 col16\" >16</th>        <th class=\"col_heading level0 col17\" >17</th>    </tr></thead><tbody>\n",
              "                <tr>\n",
              "                        <th id=\"T_8c1f7a20_b5f8_11eb_9daa_0242ac1c0002level0_row0\" class=\"row_heading level0 row0\" >0</th>\n",
              "                        <td id=\"T_8c1f7a20_b5f8_11eb_9daa_0242ac1c0002row0_col0\" class=\"data row0 col0\" >0</td>\n",
              "                        <td id=\"T_8c1f7a20_b5f8_11eb_9daa_0242ac1c0002row0_col1\" class=\"data row0 col1\" >0</td>\n",
              "                        <td id=\"T_8c1f7a20_b5f8_11eb_9daa_0242ac1c0002row0_col2\" class=\"data row0 col2\" >0</td>\n",
              "                        <td id=\"T_8c1f7a20_b5f8_11eb_9daa_0242ac1c0002row0_col3\" class=\"data row0 col3\" >0</td>\n",
              "                        <td id=\"T_8c1f7a20_b5f8_11eb_9daa_0242ac1c0002row0_col4\" class=\"data row0 col4\" >0</td>\n",
              "                        <td id=\"T_8c1f7a20_b5f8_11eb_9daa_0242ac1c0002row0_col5\" class=\"data row0 col5\" >0</td>\n",
              "                        <td id=\"T_8c1f7a20_b5f8_11eb_9daa_0242ac1c0002row0_col6\" class=\"data row0 col6\" >0</td>\n",
              "                        <td id=\"T_8c1f7a20_b5f8_11eb_9daa_0242ac1c0002row0_col7\" class=\"data row0 col7\" >0</td>\n",
              "                        <td id=\"T_8c1f7a20_b5f8_11eb_9daa_0242ac1c0002row0_col8\" class=\"data row0 col8\" >0</td>\n",
              "                        <td id=\"T_8c1f7a20_b5f8_11eb_9daa_0242ac1c0002row0_col9\" class=\"data row0 col9\" >0</td>\n",
              "                        <td id=\"T_8c1f7a20_b5f8_11eb_9daa_0242ac1c0002row0_col10\" class=\"data row0 col10\" >0</td>\n",
              "                        <td id=\"T_8c1f7a20_b5f8_11eb_9daa_0242ac1c0002row0_col11\" class=\"data row0 col11\" >0</td>\n",
              "                        <td id=\"T_8c1f7a20_b5f8_11eb_9daa_0242ac1c0002row0_col12\" class=\"data row0 col12\" >0</td>\n",
              "                        <td id=\"T_8c1f7a20_b5f8_11eb_9daa_0242ac1c0002row0_col13\" class=\"data row0 col13\" >0</td>\n",
              "                        <td id=\"T_8c1f7a20_b5f8_11eb_9daa_0242ac1c0002row0_col14\" class=\"data row0 col14\" >0</td>\n",
              "                        <td id=\"T_8c1f7a20_b5f8_11eb_9daa_0242ac1c0002row0_col15\" class=\"data row0 col15\" >0</td>\n",
              "                        <td id=\"T_8c1f7a20_b5f8_11eb_9daa_0242ac1c0002row0_col16\" class=\"data row0 col16\" >0</td>\n",
              "                        <td id=\"T_8c1f7a20_b5f8_11eb_9daa_0242ac1c0002row0_col17\" class=\"data row0 col17\" >0</td>\n",
              "            </tr>\n",
              "            <tr>\n",
              "                        <th id=\"T_8c1f7a20_b5f8_11eb_9daa_0242ac1c0002level0_row1\" class=\"row_heading level0 row1\" >1</th>\n",
              "                        <td id=\"T_8c1f7a20_b5f8_11eb_9daa_0242ac1c0002row1_col0\" class=\"data row1 col0\" >0</td>\n",
              "                        <td id=\"T_8c1f7a20_b5f8_11eb_9daa_0242ac1c0002row1_col1\" class=\"data row1 col1\" >0</td>\n",
              "                        <td id=\"T_8c1f7a20_b5f8_11eb_9daa_0242ac1c0002row1_col2\" class=\"data row1 col2\" >0</td>\n",
              "                        <td id=\"T_8c1f7a20_b5f8_11eb_9daa_0242ac1c0002row1_col3\" class=\"data row1 col3\" >0</td>\n",
              "                        <td id=\"T_8c1f7a20_b5f8_11eb_9daa_0242ac1c0002row1_col4\" class=\"data row1 col4\" >0</td>\n",
              "                        <td id=\"T_8c1f7a20_b5f8_11eb_9daa_0242ac1c0002row1_col5\" class=\"data row1 col5\" >29</td>\n",
              "                        <td id=\"T_8c1f7a20_b5f8_11eb_9daa_0242ac1c0002row1_col6\" class=\"data row1 col6\" >150</td>\n",
              "                        <td id=\"T_8c1f7a20_b5f8_11eb_9daa_0242ac1c0002row1_col7\" class=\"data row1 col7\" >195</td>\n",
              "                        <td id=\"T_8c1f7a20_b5f8_11eb_9daa_0242ac1c0002row1_col8\" class=\"data row1 col8\" >254</td>\n",
              "                        <td id=\"T_8c1f7a20_b5f8_11eb_9daa_0242ac1c0002row1_col9\" class=\"data row1 col9\" >255</td>\n",
              "                        <td id=\"T_8c1f7a20_b5f8_11eb_9daa_0242ac1c0002row1_col10\" class=\"data row1 col10\" >254</td>\n",
              "                        <td id=\"T_8c1f7a20_b5f8_11eb_9daa_0242ac1c0002row1_col11\" class=\"data row1 col11\" >176</td>\n",
              "                        <td id=\"T_8c1f7a20_b5f8_11eb_9daa_0242ac1c0002row1_col12\" class=\"data row1 col12\" >193</td>\n",
              "                        <td id=\"T_8c1f7a20_b5f8_11eb_9daa_0242ac1c0002row1_col13\" class=\"data row1 col13\" >150</td>\n",
              "                        <td id=\"T_8c1f7a20_b5f8_11eb_9daa_0242ac1c0002row1_col14\" class=\"data row1 col14\" >96</td>\n",
              "                        <td id=\"T_8c1f7a20_b5f8_11eb_9daa_0242ac1c0002row1_col15\" class=\"data row1 col15\" >0</td>\n",
              "                        <td id=\"T_8c1f7a20_b5f8_11eb_9daa_0242ac1c0002row1_col16\" class=\"data row1 col16\" >0</td>\n",
              "                        <td id=\"T_8c1f7a20_b5f8_11eb_9daa_0242ac1c0002row1_col17\" class=\"data row1 col17\" >0</td>\n",
              "            </tr>\n",
              "            <tr>\n",
              "                        <th id=\"T_8c1f7a20_b5f8_11eb_9daa_0242ac1c0002level0_row2\" class=\"row_heading level0 row2\" >2</th>\n",
              "                        <td id=\"T_8c1f7a20_b5f8_11eb_9daa_0242ac1c0002row2_col0\" class=\"data row2 col0\" >0</td>\n",
              "                        <td id=\"T_8c1f7a20_b5f8_11eb_9daa_0242ac1c0002row2_col1\" class=\"data row2 col1\" >0</td>\n",
              "                        <td id=\"T_8c1f7a20_b5f8_11eb_9daa_0242ac1c0002row2_col2\" class=\"data row2 col2\" >0</td>\n",
              "                        <td id=\"T_8c1f7a20_b5f8_11eb_9daa_0242ac1c0002row2_col3\" class=\"data row2 col3\" >48</td>\n",
              "                        <td id=\"T_8c1f7a20_b5f8_11eb_9daa_0242ac1c0002row2_col4\" class=\"data row2 col4\" >166</td>\n",
              "                        <td id=\"T_8c1f7a20_b5f8_11eb_9daa_0242ac1c0002row2_col5\" class=\"data row2 col5\" >224</td>\n",
              "                        <td id=\"T_8c1f7a20_b5f8_11eb_9daa_0242ac1c0002row2_col6\" class=\"data row2 col6\" >253</td>\n",
              "                        <td id=\"T_8c1f7a20_b5f8_11eb_9daa_0242ac1c0002row2_col7\" class=\"data row2 col7\" >253</td>\n",
              "                        <td id=\"T_8c1f7a20_b5f8_11eb_9daa_0242ac1c0002row2_col8\" class=\"data row2 col8\" >234</td>\n",
              "                        <td id=\"T_8c1f7a20_b5f8_11eb_9daa_0242ac1c0002row2_col9\" class=\"data row2 col9\" >196</td>\n",
              "                        <td id=\"T_8c1f7a20_b5f8_11eb_9daa_0242ac1c0002row2_col10\" class=\"data row2 col10\" >253</td>\n",
              "                        <td id=\"T_8c1f7a20_b5f8_11eb_9daa_0242ac1c0002row2_col11\" class=\"data row2 col11\" >253</td>\n",
              "                        <td id=\"T_8c1f7a20_b5f8_11eb_9daa_0242ac1c0002row2_col12\" class=\"data row2 col12\" >253</td>\n",
              "                        <td id=\"T_8c1f7a20_b5f8_11eb_9daa_0242ac1c0002row2_col13\" class=\"data row2 col13\" >253</td>\n",
              "                        <td id=\"T_8c1f7a20_b5f8_11eb_9daa_0242ac1c0002row2_col14\" class=\"data row2 col14\" >233</td>\n",
              "                        <td id=\"T_8c1f7a20_b5f8_11eb_9daa_0242ac1c0002row2_col15\" class=\"data row2 col15\" >0</td>\n",
              "                        <td id=\"T_8c1f7a20_b5f8_11eb_9daa_0242ac1c0002row2_col16\" class=\"data row2 col16\" >0</td>\n",
              "                        <td id=\"T_8c1f7a20_b5f8_11eb_9daa_0242ac1c0002row2_col17\" class=\"data row2 col17\" >0</td>\n",
              "            </tr>\n",
              "            <tr>\n",
              "                        <th id=\"T_8c1f7a20_b5f8_11eb_9daa_0242ac1c0002level0_row3\" class=\"row_heading level0 row3\" >3</th>\n",
              "                        <td id=\"T_8c1f7a20_b5f8_11eb_9daa_0242ac1c0002row3_col0\" class=\"data row3 col0\" >0</td>\n",
              "                        <td id=\"T_8c1f7a20_b5f8_11eb_9daa_0242ac1c0002row3_col1\" class=\"data row3 col1\" >93</td>\n",
              "                        <td id=\"T_8c1f7a20_b5f8_11eb_9daa_0242ac1c0002row3_col2\" class=\"data row3 col2\" >244</td>\n",
              "                        <td id=\"T_8c1f7a20_b5f8_11eb_9daa_0242ac1c0002row3_col3\" class=\"data row3 col3\" >249</td>\n",
              "                        <td id=\"T_8c1f7a20_b5f8_11eb_9daa_0242ac1c0002row3_col4\" class=\"data row3 col4\" >253</td>\n",
              "                        <td id=\"T_8c1f7a20_b5f8_11eb_9daa_0242ac1c0002row3_col5\" class=\"data row3 col5\" >187</td>\n",
              "                        <td id=\"T_8c1f7a20_b5f8_11eb_9daa_0242ac1c0002row3_col6\" class=\"data row3 col6\" >46</td>\n",
              "                        <td id=\"T_8c1f7a20_b5f8_11eb_9daa_0242ac1c0002row3_col7\" class=\"data row3 col7\" >10</td>\n",
              "                        <td id=\"T_8c1f7a20_b5f8_11eb_9daa_0242ac1c0002row3_col8\" class=\"data row3 col8\" >8</td>\n",
              "                        <td id=\"T_8c1f7a20_b5f8_11eb_9daa_0242ac1c0002row3_col9\" class=\"data row3 col9\" >4</td>\n",
              "                        <td id=\"T_8c1f7a20_b5f8_11eb_9daa_0242ac1c0002row3_col10\" class=\"data row3 col10\" >10</td>\n",
              "                        <td id=\"T_8c1f7a20_b5f8_11eb_9daa_0242ac1c0002row3_col11\" class=\"data row3 col11\" >194</td>\n",
              "                        <td id=\"T_8c1f7a20_b5f8_11eb_9daa_0242ac1c0002row3_col12\" class=\"data row3 col12\" >253</td>\n",
              "                        <td id=\"T_8c1f7a20_b5f8_11eb_9daa_0242ac1c0002row3_col13\" class=\"data row3 col13\" >253</td>\n",
              "                        <td id=\"T_8c1f7a20_b5f8_11eb_9daa_0242ac1c0002row3_col14\" class=\"data row3 col14\" >233</td>\n",
              "                        <td id=\"T_8c1f7a20_b5f8_11eb_9daa_0242ac1c0002row3_col15\" class=\"data row3 col15\" >0</td>\n",
              "                        <td id=\"T_8c1f7a20_b5f8_11eb_9daa_0242ac1c0002row3_col16\" class=\"data row3 col16\" >0</td>\n",
              "                        <td id=\"T_8c1f7a20_b5f8_11eb_9daa_0242ac1c0002row3_col17\" class=\"data row3 col17\" >0</td>\n",
              "            </tr>\n",
              "            <tr>\n",
              "                        <th id=\"T_8c1f7a20_b5f8_11eb_9daa_0242ac1c0002level0_row4\" class=\"row_heading level0 row4\" >4</th>\n",
              "                        <td id=\"T_8c1f7a20_b5f8_11eb_9daa_0242ac1c0002row4_col0\" class=\"data row4 col0\" >0</td>\n",
              "                        <td id=\"T_8c1f7a20_b5f8_11eb_9daa_0242ac1c0002row4_col1\" class=\"data row4 col1\" >107</td>\n",
              "                        <td id=\"T_8c1f7a20_b5f8_11eb_9daa_0242ac1c0002row4_col2\" class=\"data row4 col2\" >253</td>\n",
              "                        <td id=\"T_8c1f7a20_b5f8_11eb_9daa_0242ac1c0002row4_col3\" class=\"data row4 col3\" >253</td>\n",
              "                        <td id=\"T_8c1f7a20_b5f8_11eb_9daa_0242ac1c0002row4_col4\" class=\"data row4 col4\" >230</td>\n",
              "                        <td id=\"T_8c1f7a20_b5f8_11eb_9daa_0242ac1c0002row4_col5\" class=\"data row4 col5\" >48</td>\n",
              "                        <td id=\"T_8c1f7a20_b5f8_11eb_9daa_0242ac1c0002row4_col6\" class=\"data row4 col6\" >0</td>\n",
              "                        <td id=\"T_8c1f7a20_b5f8_11eb_9daa_0242ac1c0002row4_col7\" class=\"data row4 col7\" >0</td>\n",
              "                        <td id=\"T_8c1f7a20_b5f8_11eb_9daa_0242ac1c0002row4_col8\" class=\"data row4 col8\" >0</td>\n",
              "                        <td id=\"T_8c1f7a20_b5f8_11eb_9daa_0242ac1c0002row4_col9\" class=\"data row4 col9\" >0</td>\n",
              "                        <td id=\"T_8c1f7a20_b5f8_11eb_9daa_0242ac1c0002row4_col10\" class=\"data row4 col10\" >0</td>\n",
              "                        <td id=\"T_8c1f7a20_b5f8_11eb_9daa_0242ac1c0002row4_col11\" class=\"data row4 col11\" >192</td>\n",
              "                        <td id=\"T_8c1f7a20_b5f8_11eb_9daa_0242ac1c0002row4_col12\" class=\"data row4 col12\" >253</td>\n",
              "                        <td id=\"T_8c1f7a20_b5f8_11eb_9daa_0242ac1c0002row4_col13\" class=\"data row4 col13\" >253</td>\n",
              "                        <td id=\"T_8c1f7a20_b5f8_11eb_9daa_0242ac1c0002row4_col14\" class=\"data row4 col14\" >156</td>\n",
              "                        <td id=\"T_8c1f7a20_b5f8_11eb_9daa_0242ac1c0002row4_col15\" class=\"data row4 col15\" >0</td>\n",
              "                        <td id=\"T_8c1f7a20_b5f8_11eb_9daa_0242ac1c0002row4_col16\" class=\"data row4 col16\" >0</td>\n",
              "                        <td id=\"T_8c1f7a20_b5f8_11eb_9daa_0242ac1c0002row4_col17\" class=\"data row4 col17\" >0</td>\n",
              "            </tr>\n",
              "            <tr>\n",
              "                        <th id=\"T_8c1f7a20_b5f8_11eb_9daa_0242ac1c0002level0_row5\" class=\"row_heading level0 row5\" >5</th>\n",
              "                        <td id=\"T_8c1f7a20_b5f8_11eb_9daa_0242ac1c0002row5_col0\" class=\"data row5 col0\" >0</td>\n",
              "                        <td id=\"T_8c1f7a20_b5f8_11eb_9daa_0242ac1c0002row5_col1\" class=\"data row5 col1\" >3</td>\n",
              "                        <td id=\"T_8c1f7a20_b5f8_11eb_9daa_0242ac1c0002row5_col2\" class=\"data row5 col2\" >20</td>\n",
              "                        <td id=\"T_8c1f7a20_b5f8_11eb_9daa_0242ac1c0002row5_col3\" class=\"data row5 col3\" >20</td>\n",
              "                        <td id=\"T_8c1f7a20_b5f8_11eb_9daa_0242ac1c0002row5_col4\" class=\"data row5 col4\" >15</td>\n",
              "                        <td id=\"T_8c1f7a20_b5f8_11eb_9daa_0242ac1c0002row5_col5\" class=\"data row5 col5\" >0</td>\n",
              "                        <td id=\"T_8c1f7a20_b5f8_11eb_9daa_0242ac1c0002row5_col6\" class=\"data row5 col6\" >0</td>\n",
              "                        <td id=\"T_8c1f7a20_b5f8_11eb_9daa_0242ac1c0002row5_col7\" class=\"data row5 col7\" >0</td>\n",
              "                        <td id=\"T_8c1f7a20_b5f8_11eb_9daa_0242ac1c0002row5_col8\" class=\"data row5 col8\" >0</td>\n",
              "                        <td id=\"T_8c1f7a20_b5f8_11eb_9daa_0242ac1c0002row5_col9\" class=\"data row5 col9\" >0</td>\n",
              "                        <td id=\"T_8c1f7a20_b5f8_11eb_9daa_0242ac1c0002row5_col10\" class=\"data row5 col10\" >43</td>\n",
              "                        <td id=\"T_8c1f7a20_b5f8_11eb_9daa_0242ac1c0002row5_col11\" class=\"data row5 col11\" >224</td>\n",
              "                        <td id=\"T_8c1f7a20_b5f8_11eb_9daa_0242ac1c0002row5_col12\" class=\"data row5 col12\" >253</td>\n",
              "                        <td id=\"T_8c1f7a20_b5f8_11eb_9daa_0242ac1c0002row5_col13\" class=\"data row5 col13\" >245</td>\n",
              "                        <td id=\"T_8c1f7a20_b5f8_11eb_9daa_0242ac1c0002row5_col14\" class=\"data row5 col14\" >74</td>\n",
              "                        <td id=\"T_8c1f7a20_b5f8_11eb_9daa_0242ac1c0002row5_col15\" class=\"data row5 col15\" >0</td>\n",
              "                        <td id=\"T_8c1f7a20_b5f8_11eb_9daa_0242ac1c0002row5_col16\" class=\"data row5 col16\" >0</td>\n",
              "                        <td id=\"T_8c1f7a20_b5f8_11eb_9daa_0242ac1c0002row5_col17\" class=\"data row5 col17\" >0</td>\n",
              "            </tr>\n",
              "            <tr>\n",
              "                        <th id=\"T_8c1f7a20_b5f8_11eb_9daa_0242ac1c0002level0_row6\" class=\"row_heading level0 row6\" >6</th>\n",
              "                        <td id=\"T_8c1f7a20_b5f8_11eb_9daa_0242ac1c0002row6_col0\" class=\"data row6 col0\" >0</td>\n",
              "                        <td id=\"T_8c1f7a20_b5f8_11eb_9daa_0242ac1c0002row6_col1\" class=\"data row6 col1\" >0</td>\n",
              "                        <td id=\"T_8c1f7a20_b5f8_11eb_9daa_0242ac1c0002row6_col2\" class=\"data row6 col2\" >0</td>\n",
              "                        <td id=\"T_8c1f7a20_b5f8_11eb_9daa_0242ac1c0002row6_col3\" class=\"data row6 col3\" >0</td>\n",
              "                        <td id=\"T_8c1f7a20_b5f8_11eb_9daa_0242ac1c0002row6_col4\" class=\"data row6 col4\" >0</td>\n",
              "                        <td id=\"T_8c1f7a20_b5f8_11eb_9daa_0242ac1c0002row6_col5\" class=\"data row6 col5\" >0</td>\n",
              "                        <td id=\"T_8c1f7a20_b5f8_11eb_9daa_0242ac1c0002row6_col6\" class=\"data row6 col6\" >0</td>\n",
              "                        <td id=\"T_8c1f7a20_b5f8_11eb_9daa_0242ac1c0002row6_col7\" class=\"data row6 col7\" >0</td>\n",
              "                        <td id=\"T_8c1f7a20_b5f8_11eb_9daa_0242ac1c0002row6_col8\" class=\"data row6 col8\" >0</td>\n",
              "                        <td id=\"T_8c1f7a20_b5f8_11eb_9daa_0242ac1c0002row6_col9\" class=\"data row6 col9\" >0</td>\n",
              "                        <td id=\"T_8c1f7a20_b5f8_11eb_9daa_0242ac1c0002row6_col10\" class=\"data row6 col10\" >249</td>\n",
              "                        <td id=\"T_8c1f7a20_b5f8_11eb_9daa_0242ac1c0002row6_col11\" class=\"data row6 col11\" >253</td>\n",
              "                        <td id=\"T_8c1f7a20_b5f8_11eb_9daa_0242ac1c0002row6_col12\" class=\"data row6 col12\" >245</td>\n",
              "                        <td id=\"T_8c1f7a20_b5f8_11eb_9daa_0242ac1c0002row6_col13\" class=\"data row6 col13\" >126</td>\n",
              "                        <td id=\"T_8c1f7a20_b5f8_11eb_9daa_0242ac1c0002row6_col14\" class=\"data row6 col14\" >0</td>\n",
              "                        <td id=\"T_8c1f7a20_b5f8_11eb_9daa_0242ac1c0002row6_col15\" class=\"data row6 col15\" >0</td>\n",
              "                        <td id=\"T_8c1f7a20_b5f8_11eb_9daa_0242ac1c0002row6_col16\" class=\"data row6 col16\" >0</td>\n",
              "                        <td id=\"T_8c1f7a20_b5f8_11eb_9daa_0242ac1c0002row6_col17\" class=\"data row6 col17\" >0</td>\n",
              "            </tr>\n",
              "            <tr>\n",
              "                        <th id=\"T_8c1f7a20_b5f8_11eb_9daa_0242ac1c0002level0_row7\" class=\"row_heading level0 row7\" >7</th>\n",
              "                        <td id=\"T_8c1f7a20_b5f8_11eb_9daa_0242ac1c0002row7_col0\" class=\"data row7 col0\" >0</td>\n",
              "                        <td id=\"T_8c1f7a20_b5f8_11eb_9daa_0242ac1c0002row7_col1\" class=\"data row7 col1\" >0</td>\n",
              "                        <td id=\"T_8c1f7a20_b5f8_11eb_9daa_0242ac1c0002row7_col2\" class=\"data row7 col2\" >0</td>\n",
              "                        <td id=\"T_8c1f7a20_b5f8_11eb_9daa_0242ac1c0002row7_col3\" class=\"data row7 col3\" >0</td>\n",
              "                        <td id=\"T_8c1f7a20_b5f8_11eb_9daa_0242ac1c0002row7_col4\" class=\"data row7 col4\" >0</td>\n",
              "                        <td id=\"T_8c1f7a20_b5f8_11eb_9daa_0242ac1c0002row7_col5\" class=\"data row7 col5\" >0</td>\n",
              "                        <td id=\"T_8c1f7a20_b5f8_11eb_9daa_0242ac1c0002row7_col6\" class=\"data row7 col6\" >0</td>\n",
              "                        <td id=\"T_8c1f7a20_b5f8_11eb_9daa_0242ac1c0002row7_col7\" class=\"data row7 col7\" >14</td>\n",
              "                        <td id=\"T_8c1f7a20_b5f8_11eb_9daa_0242ac1c0002row7_col8\" class=\"data row7 col8\" >101</td>\n",
              "                        <td id=\"T_8c1f7a20_b5f8_11eb_9daa_0242ac1c0002row7_col9\" class=\"data row7 col9\" >223</td>\n",
              "                        <td id=\"T_8c1f7a20_b5f8_11eb_9daa_0242ac1c0002row7_col10\" class=\"data row7 col10\" >253</td>\n",
              "                        <td id=\"T_8c1f7a20_b5f8_11eb_9daa_0242ac1c0002row7_col11\" class=\"data row7 col11\" >248</td>\n",
              "                        <td id=\"T_8c1f7a20_b5f8_11eb_9daa_0242ac1c0002row7_col12\" class=\"data row7 col12\" >124</td>\n",
              "                        <td id=\"T_8c1f7a20_b5f8_11eb_9daa_0242ac1c0002row7_col13\" class=\"data row7 col13\" >0</td>\n",
              "                        <td id=\"T_8c1f7a20_b5f8_11eb_9daa_0242ac1c0002row7_col14\" class=\"data row7 col14\" >0</td>\n",
              "                        <td id=\"T_8c1f7a20_b5f8_11eb_9daa_0242ac1c0002row7_col15\" class=\"data row7 col15\" >0</td>\n",
              "                        <td id=\"T_8c1f7a20_b5f8_11eb_9daa_0242ac1c0002row7_col16\" class=\"data row7 col16\" >0</td>\n",
              "                        <td id=\"T_8c1f7a20_b5f8_11eb_9daa_0242ac1c0002row7_col17\" class=\"data row7 col17\" >0</td>\n",
              "            </tr>\n",
              "            <tr>\n",
              "                        <th id=\"T_8c1f7a20_b5f8_11eb_9daa_0242ac1c0002level0_row8\" class=\"row_heading level0 row8\" >8</th>\n",
              "                        <td id=\"T_8c1f7a20_b5f8_11eb_9daa_0242ac1c0002row8_col0\" class=\"data row8 col0\" >0</td>\n",
              "                        <td id=\"T_8c1f7a20_b5f8_11eb_9daa_0242ac1c0002row8_col1\" class=\"data row8 col1\" >0</td>\n",
              "                        <td id=\"T_8c1f7a20_b5f8_11eb_9daa_0242ac1c0002row8_col2\" class=\"data row8 col2\" >0</td>\n",
              "                        <td id=\"T_8c1f7a20_b5f8_11eb_9daa_0242ac1c0002row8_col3\" class=\"data row8 col3\" >0</td>\n",
              "                        <td id=\"T_8c1f7a20_b5f8_11eb_9daa_0242ac1c0002row8_col4\" class=\"data row8 col4\" >0</td>\n",
              "                        <td id=\"T_8c1f7a20_b5f8_11eb_9daa_0242ac1c0002row8_col5\" class=\"data row8 col5\" >11</td>\n",
              "                        <td id=\"T_8c1f7a20_b5f8_11eb_9daa_0242ac1c0002row8_col6\" class=\"data row8 col6\" >166</td>\n",
              "                        <td id=\"T_8c1f7a20_b5f8_11eb_9daa_0242ac1c0002row8_col7\" class=\"data row8 col7\" >239</td>\n",
              "                        <td id=\"T_8c1f7a20_b5f8_11eb_9daa_0242ac1c0002row8_col8\" class=\"data row8 col8\" >253</td>\n",
              "                        <td id=\"T_8c1f7a20_b5f8_11eb_9daa_0242ac1c0002row8_col9\" class=\"data row8 col9\" >253</td>\n",
              "                        <td id=\"T_8c1f7a20_b5f8_11eb_9daa_0242ac1c0002row8_col10\" class=\"data row8 col10\" >253</td>\n",
              "                        <td id=\"T_8c1f7a20_b5f8_11eb_9daa_0242ac1c0002row8_col11\" class=\"data row8 col11\" >187</td>\n",
              "                        <td id=\"T_8c1f7a20_b5f8_11eb_9daa_0242ac1c0002row8_col12\" class=\"data row8 col12\" >30</td>\n",
              "                        <td id=\"T_8c1f7a20_b5f8_11eb_9daa_0242ac1c0002row8_col13\" class=\"data row8 col13\" >0</td>\n",
              "                        <td id=\"T_8c1f7a20_b5f8_11eb_9daa_0242ac1c0002row8_col14\" class=\"data row8 col14\" >0</td>\n",
              "                        <td id=\"T_8c1f7a20_b5f8_11eb_9daa_0242ac1c0002row8_col15\" class=\"data row8 col15\" >0</td>\n",
              "                        <td id=\"T_8c1f7a20_b5f8_11eb_9daa_0242ac1c0002row8_col16\" class=\"data row8 col16\" >0</td>\n",
              "                        <td id=\"T_8c1f7a20_b5f8_11eb_9daa_0242ac1c0002row8_col17\" class=\"data row8 col17\" >0</td>\n",
              "            </tr>\n",
              "            <tr>\n",
              "                        <th id=\"T_8c1f7a20_b5f8_11eb_9daa_0242ac1c0002level0_row9\" class=\"row_heading level0 row9\" >9</th>\n",
              "                        <td id=\"T_8c1f7a20_b5f8_11eb_9daa_0242ac1c0002row9_col0\" class=\"data row9 col0\" >0</td>\n",
              "                        <td id=\"T_8c1f7a20_b5f8_11eb_9daa_0242ac1c0002row9_col1\" class=\"data row9 col1\" >0</td>\n",
              "                        <td id=\"T_8c1f7a20_b5f8_11eb_9daa_0242ac1c0002row9_col2\" class=\"data row9 col2\" >0</td>\n",
              "                        <td id=\"T_8c1f7a20_b5f8_11eb_9daa_0242ac1c0002row9_col3\" class=\"data row9 col3\" >0</td>\n",
              "                        <td id=\"T_8c1f7a20_b5f8_11eb_9daa_0242ac1c0002row9_col4\" class=\"data row9 col4\" >0</td>\n",
              "                        <td id=\"T_8c1f7a20_b5f8_11eb_9daa_0242ac1c0002row9_col5\" class=\"data row9 col5\" >16</td>\n",
              "                        <td id=\"T_8c1f7a20_b5f8_11eb_9daa_0242ac1c0002row9_col6\" class=\"data row9 col6\" >248</td>\n",
              "                        <td id=\"T_8c1f7a20_b5f8_11eb_9daa_0242ac1c0002row9_col7\" class=\"data row9 col7\" >250</td>\n",
              "                        <td id=\"T_8c1f7a20_b5f8_11eb_9daa_0242ac1c0002row9_col8\" class=\"data row9 col8\" >253</td>\n",
              "                        <td id=\"T_8c1f7a20_b5f8_11eb_9daa_0242ac1c0002row9_col9\" class=\"data row9 col9\" >253</td>\n",
              "                        <td id=\"T_8c1f7a20_b5f8_11eb_9daa_0242ac1c0002row9_col10\" class=\"data row9 col10\" >253</td>\n",
              "                        <td id=\"T_8c1f7a20_b5f8_11eb_9daa_0242ac1c0002row9_col11\" class=\"data row9 col11\" >253</td>\n",
              "                        <td id=\"T_8c1f7a20_b5f8_11eb_9daa_0242ac1c0002row9_col12\" class=\"data row9 col12\" >232</td>\n",
              "                        <td id=\"T_8c1f7a20_b5f8_11eb_9daa_0242ac1c0002row9_col13\" class=\"data row9 col13\" >213</td>\n",
              "                        <td id=\"T_8c1f7a20_b5f8_11eb_9daa_0242ac1c0002row9_col14\" class=\"data row9 col14\" >111</td>\n",
              "                        <td id=\"T_8c1f7a20_b5f8_11eb_9daa_0242ac1c0002row9_col15\" class=\"data row9 col15\" >2</td>\n",
              "                        <td id=\"T_8c1f7a20_b5f8_11eb_9daa_0242ac1c0002row9_col16\" class=\"data row9 col16\" >0</td>\n",
              "                        <td id=\"T_8c1f7a20_b5f8_11eb_9daa_0242ac1c0002row9_col17\" class=\"data row9 col17\" >0</td>\n",
              "            </tr>\n",
              "            <tr>\n",
              "                        <th id=\"T_8c1f7a20_b5f8_11eb_9daa_0242ac1c0002level0_row10\" class=\"row_heading level0 row10\" >10</th>\n",
              "                        <td id=\"T_8c1f7a20_b5f8_11eb_9daa_0242ac1c0002row10_col0\" class=\"data row10 col0\" >0</td>\n",
              "                        <td id=\"T_8c1f7a20_b5f8_11eb_9daa_0242ac1c0002row10_col1\" class=\"data row10 col1\" >0</td>\n",
              "                        <td id=\"T_8c1f7a20_b5f8_11eb_9daa_0242ac1c0002row10_col2\" class=\"data row10 col2\" >0</td>\n",
              "                        <td id=\"T_8c1f7a20_b5f8_11eb_9daa_0242ac1c0002row10_col3\" class=\"data row10 col3\" >0</td>\n",
              "                        <td id=\"T_8c1f7a20_b5f8_11eb_9daa_0242ac1c0002row10_col4\" class=\"data row10 col4\" >0</td>\n",
              "                        <td id=\"T_8c1f7a20_b5f8_11eb_9daa_0242ac1c0002row10_col5\" class=\"data row10 col5\" >0</td>\n",
              "                        <td id=\"T_8c1f7a20_b5f8_11eb_9daa_0242ac1c0002row10_col6\" class=\"data row10 col6\" >0</td>\n",
              "                        <td id=\"T_8c1f7a20_b5f8_11eb_9daa_0242ac1c0002row10_col7\" class=\"data row10 col7\" >43</td>\n",
              "                        <td id=\"T_8c1f7a20_b5f8_11eb_9daa_0242ac1c0002row10_col8\" class=\"data row10 col8\" >98</td>\n",
              "                        <td id=\"T_8c1f7a20_b5f8_11eb_9daa_0242ac1c0002row10_col9\" class=\"data row10 col9\" >98</td>\n",
              "                        <td id=\"T_8c1f7a20_b5f8_11eb_9daa_0242ac1c0002row10_col10\" class=\"data row10 col10\" >208</td>\n",
              "                        <td id=\"T_8c1f7a20_b5f8_11eb_9daa_0242ac1c0002row10_col11\" class=\"data row10 col11\" >253</td>\n",
              "                        <td id=\"T_8c1f7a20_b5f8_11eb_9daa_0242ac1c0002row10_col12\" class=\"data row10 col12\" >253</td>\n",
              "                        <td id=\"T_8c1f7a20_b5f8_11eb_9daa_0242ac1c0002row10_col13\" class=\"data row10 col13\" >253</td>\n",
              "                        <td id=\"T_8c1f7a20_b5f8_11eb_9daa_0242ac1c0002row10_col14\" class=\"data row10 col14\" >253</td>\n",
              "                        <td id=\"T_8c1f7a20_b5f8_11eb_9daa_0242ac1c0002row10_col15\" class=\"data row10 col15\" >187</td>\n",
              "                        <td id=\"T_8c1f7a20_b5f8_11eb_9daa_0242ac1c0002row10_col16\" class=\"data row10 col16\" >22</td>\n",
              "                        <td id=\"T_8c1f7a20_b5f8_11eb_9daa_0242ac1c0002row10_col17\" class=\"data row10 col17\" >0</td>\n",
              "            </tr>\n",
              "            <tr>\n",
              "                        <th id=\"T_8c1f7a20_b5f8_11eb_9daa_0242ac1c0002level0_row11\" class=\"row_heading level0 row11\" >11</th>\n",
              "                        <td id=\"T_8c1f7a20_b5f8_11eb_9daa_0242ac1c0002row11_col0\" class=\"data row11 col0\" >0</td>\n",
              "                        <td id=\"T_8c1f7a20_b5f8_11eb_9daa_0242ac1c0002row11_col1\" class=\"data row11 col1\" >0</td>\n",
              "                        <td id=\"T_8c1f7a20_b5f8_11eb_9daa_0242ac1c0002row11_col2\" class=\"data row11 col2\" >0</td>\n",
              "                        <td id=\"T_8c1f7a20_b5f8_11eb_9daa_0242ac1c0002row11_col3\" class=\"data row11 col3\" >0</td>\n",
              "                        <td id=\"T_8c1f7a20_b5f8_11eb_9daa_0242ac1c0002row11_col4\" class=\"data row11 col4\" >0</td>\n",
              "                        <td id=\"T_8c1f7a20_b5f8_11eb_9daa_0242ac1c0002row11_col5\" class=\"data row11 col5\" >0</td>\n",
              "                        <td id=\"T_8c1f7a20_b5f8_11eb_9daa_0242ac1c0002row11_col6\" class=\"data row11 col6\" >0</td>\n",
              "                        <td id=\"T_8c1f7a20_b5f8_11eb_9daa_0242ac1c0002row11_col7\" class=\"data row11 col7\" >0</td>\n",
              "                        <td id=\"T_8c1f7a20_b5f8_11eb_9daa_0242ac1c0002row11_col8\" class=\"data row11 col8\" >0</td>\n",
              "                        <td id=\"T_8c1f7a20_b5f8_11eb_9daa_0242ac1c0002row11_col9\" class=\"data row11 col9\" >0</td>\n",
              "                        <td id=\"T_8c1f7a20_b5f8_11eb_9daa_0242ac1c0002row11_col10\" class=\"data row11 col10\" >9</td>\n",
              "                        <td id=\"T_8c1f7a20_b5f8_11eb_9daa_0242ac1c0002row11_col11\" class=\"data row11 col11\" >51</td>\n",
              "                        <td id=\"T_8c1f7a20_b5f8_11eb_9daa_0242ac1c0002row11_col12\" class=\"data row11 col12\" >119</td>\n",
              "                        <td id=\"T_8c1f7a20_b5f8_11eb_9daa_0242ac1c0002row11_col13\" class=\"data row11 col13\" >253</td>\n",
              "                        <td id=\"T_8c1f7a20_b5f8_11eb_9daa_0242ac1c0002row11_col14\" class=\"data row11 col14\" >253</td>\n",
              "                        <td id=\"T_8c1f7a20_b5f8_11eb_9daa_0242ac1c0002row11_col15\" class=\"data row11 col15\" >253</td>\n",
              "                        <td id=\"T_8c1f7a20_b5f8_11eb_9daa_0242ac1c0002row11_col16\" class=\"data row11 col16\" >76</td>\n",
              "                        <td id=\"T_8c1f7a20_b5f8_11eb_9daa_0242ac1c0002row11_col17\" class=\"data row11 col17\" >0</td>\n",
              "            </tr>\n",
              "            <tr>\n",
              "                        <th id=\"T_8c1f7a20_b5f8_11eb_9daa_0242ac1c0002level0_row12\" class=\"row_heading level0 row12\" >12</th>\n",
              "                        <td id=\"T_8c1f7a20_b5f8_11eb_9daa_0242ac1c0002row12_col0\" class=\"data row12 col0\" >0</td>\n",
              "                        <td id=\"T_8c1f7a20_b5f8_11eb_9daa_0242ac1c0002row12_col1\" class=\"data row12 col1\" >0</td>\n",
              "                        <td id=\"T_8c1f7a20_b5f8_11eb_9daa_0242ac1c0002row12_col2\" class=\"data row12 col2\" >0</td>\n",
              "                        <td id=\"T_8c1f7a20_b5f8_11eb_9daa_0242ac1c0002row12_col3\" class=\"data row12 col3\" >0</td>\n",
              "                        <td id=\"T_8c1f7a20_b5f8_11eb_9daa_0242ac1c0002row12_col4\" class=\"data row12 col4\" >0</td>\n",
              "                        <td id=\"T_8c1f7a20_b5f8_11eb_9daa_0242ac1c0002row12_col5\" class=\"data row12 col5\" >0</td>\n",
              "                        <td id=\"T_8c1f7a20_b5f8_11eb_9daa_0242ac1c0002row12_col6\" class=\"data row12 col6\" >0</td>\n",
              "                        <td id=\"T_8c1f7a20_b5f8_11eb_9daa_0242ac1c0002row12_col7\" class=\"data row12 col7\" >0</td>\n",
              "                        <td id=\"T_8c1f7a20_b5f8_11eb_9daa_0242ac1c0002row12_col8\" class=\"data row12 col8\" >0</td>\n",
              "                        <td id=\"T_8c1f7a20_b5f8_11eb_9daa_0242ac1c0002row12_col9\" class=\"data row12 col9\" >0</td>\n",
              "                        <td id=\"T_8c1f7a20_b5f8_11eb_9daa_0242ac1c0002row12_col10\" class=\"data row12 col10\" >0</td>\n",
              "                        <td id=\"T_8c1f7a20_b5f8_11eb_9daa_0242ac1c0002row12_col11\" class=\"data row12 col11\" >0</td>\n",
              "                        <td id=\"T_8c1f7a20_b5f8_11eb_9daa_0242ac1c0002row12_col12\" class=\"data row12 col12\" >1</td>\n",
              "                        <td id=\"T_8c1f7a20_b5f8_11eb_9daa_0242ac1c0002row12_col13\" class=\"data row12 col13\" >183</td>\n",
              "                        <td id=\"T_8c1f7a20_b5f8_11eb_9daa_0242ac1c0002row12_col14\" class=\"data row12 col14\" >253</td>\n",
              "                        <td id=\"T_8c1f7a20_b5f8_11eb_9daa_0242ac1c0002row12_col15\" class=\"data row12 col15\" >253</td>\n",
              "                        <td id=\"T_8c1f7a20_b5f8_11eb_9daa_0242ac1c0002row12_col16\" class=\"data row12 col16\" >139</td>\n",
              "                        <td id=\"T_8c1f7a20_b5f8_11eb_9daa_0242ac1c0002row12_col17\" class=\"data row12 col17\" >0</td>\n",
              "            </tr>\n",
              "            <tr>\n",
              "                        <th id=\"T_8c1f7a20_b5f8_11eb_9daa_0242ac1c0002level0_row13\" class=\"row_heading level0 row13\" >13</th>\n",
              "                        <td id=\"T_8c1f7a20_b5f8_11eb_9daa_0242ac1c0002row13_col0\" class=\"data row13 col0\" >0</td>\n",
              "                        <td id=\"T_8c1f7a20_b5f8_11eb_9daa_0242ac1c0002row13_col1\" class=\"data row13 col1\" >0</td>\n",
              "                        <td id=\"T_8c1f7a20_b5f8_11eb_9daa_0242ac1c0002row13_col2\" class=\"data row13 col2\" >0</td>\n",
              "                        <td id=\"T_8c1f7a20_b5f8_11eb_9daa_0242ac1c0002row13_col3\" class=\"data row13 col3\" >0</td>\n",
              "                        <td id=\"T_8c1f7a20_b5f8_11eb_9daa_0242ac1c0002row13_col4\" class=\"data row13 col4\" >0</td>\n",
              "                        <td id=\"T_8c1f7a20_b5f8_11eb_9daa_0242ac1c0002row13_col5\" class=\"data row13 col5\" >0</td>\n",
              "                        <td id=\"T_8c1f7a20_b5f8_11eb_9daa_0242ac1c0002row13_col6\" class=\"data row13 col6\" >0</td>\n",
              "                        <td id=\"T_8c1f7a20_b5f8_11eb_9daa_0242ac1c0002row13_col7\" class=\"data row13 col7\" >0</td>\n",
              "                        <td id=\"T_8c1f7a20_b5f8_11eb_9daa_0242ac1c0002row13_col8\" class=\"data row13 col8\" >0</td>\n",
              "                        <td id=\"T_8c1f7a20_b5f8_11eb_9daa_0242ac1c0002row13_col9\" class=\"data row13 col9\" >0</td>\n",
              "                        <td id=\"T_8c1f7a20_b5f8_11eb_9daa_0242ac1c0002row13_col10\" class=\"data row13 col10\" >0</td>\n",
              "                        <td id=\"T_8c1f7a20_b5f8_11eb_9daa_0242ac1c0002row13_col11\" class=\"data row13 col11\" >0</td>\n",
              "                        <td id=\"T_8c1f7a20_b5f8_11eb_9daa_0242ac1c0002row13_col12\" class=\"data row13 col12\" >0</td>\n",
              "                        <td id=\"T_8c1f7a20_b5f8_11eb_9daa_0242ac1c0002row13_col13\" class=\"data row13 col13\" >182</td>\n",
              "                        <td id=\"T_8c1f7a20_b5f8_11eb_9daa_0242ac1c0002row13_col14\" class=\"data row13 col14\" >253</td>\n",
              "                        <td id=\"T_8c1f7a20_b5f8_11eb_9daa_0242ac1c0002row13_col15\" class=\"data row13 col15\" >253</td>\n",
              "                        <td id=\"T_8c1f7a20_b5f8_11eb_9daa_0242ac1c0002row13_col16\" class=\"data row13 col16\" >104</td>\n",
              "                        <td id=\"T_8c1f7a20_b5f8_11eb_9daa_0242ac1c0002row13_col17\" class=\"data row13 col17\" >0</td>\n",
              "            </tr>\n",
              "            <tr>\n",
              "                        <th id=\"T_8c1f7a20_b5f8_11eb_9daa_0242ac1c0002level0_row14\" class=\"row_heading level0 row14\" >14</th>\n",
              "                        <td id=\"T_8c1f7a20_b5f8_11eb_9daa_0242ac1c0002row14_col0\" class=\"data row14 col0\" >0</td>\n",
              "                        <td id=\"T_8c1f7a20_b5f8_11eb_9daa_0242ac1c0002row14_col1\" class=\"data row14 col1\" >0</td>\n",
              "                        <td id=\"T_8c1f7a20_b5f8_11eb_9daa_0242ac1c0002row14_col2\" class=\"data row14 col2\" >0</td>\n",
              "                        <td id=\"T_8c1f7a20_b5f8_11eb_9daa_0242ac1c0002row14_col3\" class=\"data row14 col3\" >0</td>\n",
              "                        <td id=\"T_8c1f7a20_b5f8_11eb_9daa_0242ac1c0002row14_col4\" class=\"data row14 col4\" >0</td>\n",
              "                        <td id=\"T_8c1f7a20_b5f8_11eb_9daa_0242ac1c0002row14_col5\" class=\"data row14 col5\" >0</td>\n",
              "                        <td id=\"T_8c1f7a20_b5f8_11eb_9daa_0242ac1c0002row14_col6\" class=\"data row14 col6\" >0</td>\n",
              "                        <td id=\"T_8c1f7a20_b5f8_11eb_9daa_0242ac1c0002row14_col7\" class=\"data row14 col7\" >0</td>\n",
              "                        <td id=\"T_8c1f7a20_b5f8_11eb_9daa_0242ac1c0002row14_col8\" class=\"data row14 col8\" >0</td>\n",
              "                        <td id=\"T_8c1f7a20_b5f8_11eb_9daa_0242ac1c0002row14_col9\" class=\"data row14 col9\" >0</td>\n",
              "                        <td id=\"T_8c1f7a20_b5f8_11eb_9daa_0242ac1c0002row14_col10\" class=\"data row14 col10\" >0</td>\n",
              "                        <td id=\"T_8c1f7a20_b5f8_11eb_9daa_0242ac1c0002row14_col11\" class=\"data row14 col11\" >0</td>\n",
              "                        <td id=\"T_8c1f7a20_b5f8_11eb_9daa_0242ac1c0002row14_col12\" class=\"data row14 col12\" >85</td>\n",
              "                        <td id=\"T_8c1f7a20_b5f8_11eb_9daa_0242ac1c0002row14_col13\" class=\"data row14 col13\" >249</td>\n",
              "                        <td id=\"T_8c1f7a20_b5f8_11eb_9daa_0242ac1c0002row14_col14\" class=\"data row14 col14\" >253</td>\n",
              "                        <td id=\"T_8c1f7a20_b5f8_11eb_9daa_0242ac1c0002row14_col15\" class=\"data row14 col15\" >253</td>\n",
              "                        <td id=\"T_8c1f7a20_b5f8_11eb_9daa_0242ac1c0002row14_col16\" class=\"data row14 col16\" >36</td>\n",
              "                        <td id=\"T_8c1f7a20_b5f8_11eb_9daa_0242ac1c0002row14_col17\" class=\"data row14 col17\" >0</td>\n",
              "            </tr>\n",
              "            <tr>\n",
              "                        <th id=\"T_8c1f7a20_b5f8_11eb_9daa_0242ac1c0002level0_row15\" class=\"row_heading level0 row15\" >15</th>\n",
              "                        <td id=\"T_8c1f7a20_b5f8_11eb_9daa_0242ac1c0002row15_col0\" class=\"data row15 col0\" >0</td>\n",
              "                        <td id=\"T_8c1f7a20_b5f8_11eb_9daa_0242ac1c0002row15_col1\" class=\"data row15 col1\" >0</td>\n",
              "                        <td id=\"T_8c1f7a20_b5f8_11eb_9daa_0242ac1c0002row15_col2\" class=\"data row15 col2\" >0</td>\n",
              "                        <td id=\"T_8c1f7a20_b5f8_11eb_9daa_0242ac1c0002row15_col3\" class=\"data row15 col3\" >0</td>\n",
              "                        <td id=\"T_8c1f7a20_b5f8_11eb_9daa_0242ac1c0002row15_col4\" class=\"data row15 col4\" >0</td>\n",
              "                        <td id=\"T_8c1f7a20_b5f8_11eb_9daa_0242ac1c0002row15_col5\" class=\"data row15 col5\" >0</td>\n",
              "                        <td id=\"T_8c1f7a20_b5f8_11eb_9daa_0242ac1c0002row15_col6\" class=\"data row15 col6\" >0</td>\n",
              "                        <td id=\"T_8c1f7a20_b5f8_11eb_9daa_0242ac1c0002row15_col7\" class=\"data row15 col7\" >0</td>\n",
              "                        <td id=\"T_8c1f7a20_b5f8_11eb_9daa_0242ac1c0002row15_col8\" class=\"data row15 col8\" >0</td>\n",
              "                        <td id=\"T_8c1f7a20_b5f8_11eb_9daa_0242ac1c0002row15_col9\" class=\"data row15 col9\" >0</td>\n",
              "                        <td id=\"T_8c1f7a20_b5f8_11eb_9daa_0242ac1c0002row15_col10\" class=\"data row15 col10\" >0</td>\n",
              "                        <td id=\"T_8c1f7a20_b5f8_11eb_9daa_0242ac1c0002row15_col11\" class=\"data row15 col11\" >60</td>\n",
              "                        <td id=\"T_8c1f7a20_b5f8_11eb_9daa_0242ac1c0002row15_col12\" class=\"data row15 col12\" >214</td>\n",
              "                        <td id=\"T_8c1f7a20_b5f8_11eb_9daa_0242ac1c0002row15_col13\" class=\"data row15 col13\" >253</td>\n",
              "                        <td id=\"T_8c1f7a20_b5f8_11eb_9daa_0242ac1c0002row15_col14\" class=\"data row15 col14\" >253</td>\n",
              "                        <td id=\"T_8c1f7a20_b5f8_11eb_9daa_0242ac1c0002row15_col15\" class=\"data row15 col15\" >173</td>\n",
              "                        <td id=\"T_8c1f7a20_b5f8_11eb_9daa_0242ac1c0002row15_col16\" class=\"data row15 col16\" >11</td>\n",
              "                        <td id=\"T_8c1f7a20_b5f8_11eb_9daa_0242ac1c0002row15_col17\" class=\"data row15 col17\" >0</td>\n",
              "            </tr>\n",
              "            <tr>\n",
              "                        <th id=\"T_8c1f7a20_b5f8_11eb_9daa_0242ac1c0002level0_row16\" class=\"row_heading level0 row16\" >16</th>\n",
              "                        <td id=\"T_8c1f7a20_b5f8_11eb_9daa_0242ac1c0002row16_col0\" class=\"data row16 col0\" >0</td>\n",
              "                        <td id=\"T_8c1f7a20_b5f8_11eb_9daa_0242ac1c0002row16_col1\" class=\"data row16 col1\" >0</td>\n",
              "                        <td id=\"T_8c1f7a20_b5f8_11eb_9daa_0242ac1c0002row16_col2\" class=\"data row16 col2\" >0</td>\n",
              "                        <td id=\"T_8c1f7a20_b5f8_11eb_9daa_0242ac1c0002row16_col3\" class=\"data row16 col3\" >0</td>\n",
              "                        <td id=\"T_8c1f7a20_b5f8_11eb_9daa_0242ac1c0002row16_col4\" class=\"data row16 col4\" >0</td>\n",
              "                        <td id=\"T_8c1f7a20_b5f8_11eb_9daa_0242ac1c0002row16_col5\" class=\"data row16 col5\" >0</td>\n",
              "                        <td id=\"T_8c1f7a20_b5f8_11eb_9daa_0242ac1c0002row16_col6\" class=\"data row16 col6\" >0</td>\n",
              "                        <td id=\"T_8c1f7a20_b5f8_11eb_9daa_0242ac1c0002row16_col7\" class=\"data row16 col7\" >0</td>\n",
              "                        <td id=\"T_8c1f7a20_b5f8_11eb_9daa_0242ac1c0002row16_col8\" class=\"data row16 col8\" >0</td>\n",
              "                        <td id=\"T_8c1f7a20_b5f8_11eb_9daa_0242ac1c0002row16_col9\" class=\"data row16 col9\" >0</td>\n",
              "                        <td id=\"T_8c1f7a20_b5f8_11eb_9daa_0242ac1c0002row16_col10\" class=\"data row16 col10\" >98</td>\n",
              "                        <td id=\"T_8c1f7a20_b5f8_11eb_9daa_0242ac1c0002row16_col11\" class=\"data row16 col11\" >247</td>\n",
              "                        <td id=\"T_8c1f7a20_b5f8_11eb_9daa_0242ac1c0002row16_col12\" class=\"data row16 col12\" >253</td>\n",
              "                        <td id=\"T_8c1f7a20_b5f8_11eb_9daa_0242ac1c0002row16_col13\" class=\"data row16 col13\" >253</td>\n",
              "                        <td id=\"T_8c1f7a20_b5f8_11eb_9daa_0242ac1c0002row16_col14\" class=\"data row16 col14\" >226</td>\n",
              "                        <td id=\"T_8c1f7a20_b5f8_11eb_9daa_0242ac1c0002row16_col15\" class=\"data row16 col15\" >9</td>\n",
              "                        <td id=\"T_8c1f7a20_b5f8_11eb_9daa_0242ac1c0002row16_col16\" class=\"data row16 col16\" >0</td>\n",
              "                        <td id=\"T_8c1f7a20_b5f8_11eb_9daa_0242ac1c0002row16_col17\" class=\"data row16 col17\" >0</td>\n",
              "            </tr>\n",
              "            <tr>\n",
              "                        <th id=\"T_8c1f7a20_b5f8_11eb_9daa_0242ac1c0002level0_row17\" class=\"row_heading level0 row17\" >17</th>\n",
              "                        <td id=\"T_8c1f7a20_b5f8_11eb_9daa_0242ac1c0002row17_col0\" class=\"data row17 col0\" >0</td>\n",
              "                        <td id=\"T_8c1f7a20_b5f8_11eb_9daa_0242ac1c0002row17_col1\" class=\"data row17 col1\" >0</td>\n",
              "                        <td id=\"T_8c1f7a20_b5f8_11eb_9daa_0242ac1c0002row17_col2\" class=\"data row17 col2\" >0</td>\n",
              "                        <td id=\"T_8c1f7a20_b5f8_11eb_9daa_0242ac1c0002row17_col3\" class=\"data row17 col3\" >0</td>\n",
              "                        <td id=\"T_8c1f7a20_b5f8_11eb_9daa_0242ac1c0002row17_col4\" class=\"data row17 col4\" >0</td>\n",
              "                        <td id=\"T_8c1f7a20_b5f8_11eb_9daa_0242ac1c0002row17_col5\" class=\"data row17 col5\" >0</td>\n",
              "                        <td id=\"T_8c1f7a20_b5f8_11eb_9daa_0242ac1c0002row17_col6\" class=\"data row17 col6\" >0</td>\n",
              "                        <td id=\"T_8c1f7a20_b5f8_11eb_9daa_0242ac1c0002row17_col7\" class=\"data row17 col7\" >0</td>\n",
              "                        <td id=\"T_8c1f7a20_b5f8_11eb_9daa_0242ac1c0002row17_col8\" class=\"data row17 col8\" >42</td>\n",
              "                        <td id=\"T_8c1f7a20_b5f8_11eb_9daa_0242ac1c0002row17_col9\" class=\"data row17 col9\" >150</td>\n",
              "                        <td id=\"T_8c1f7a20_b5f8_11eb_9daa_0242ac1c0002row17_col10\" class=\"data row17 col10\" >252</td>\n",
              "                        <td id=\"T_8c1f7a20_b5f8_11eb_9daa_0242ac1c0002row17_col11\" class=\"data row17 col11\" >253</td>\n",
              "                        <td id=\"T_8c1f7a20_b5f8_11eb_9daa_0242ac1c0002row17_col12\" class=\"data row17 col12\" >253</td>\n",
              "                        <td id=\"T_8c1f7a20_b5f8_11eb_9daa_0242ac1c0002row17_col13\" class=\"data row17 col13\" >233</td>\n",
              "                        <td id=\"T_8c1f7a20_b5f8_11eb_9daa_0242ac1c0002row17_col14\" class=\"data row17 col14\" >53</td>\n",
              "                        <td id=\"T_8c1f7a20_b5f8_11eb_9daa_0242ac1c0002row17_col15\" class=\"data row17 col15\" >0</td>\n",
              "                        <td id=\"T_8c1f7a20_b5f8_11eb_9daa_0242ac1c0002row17_col16\" class=\"data row17 col16\" >0</td>\n",
              "                        <td id=\"T_8c1f7a20_b5f8_11eb_9daa_0242ac1c0002row17_col17\" class=\"data row17 col17\" >0</td>\n",
              "            </tr>\n",
              "            <tr>\n",
              "                        <th id=\"T_8c1f7a20_b5f8_11eb_9daa_0242ac1c0002level0_row18\" class=\"row_heading level0 row18\" >18</th>\n",
              "                        <td id=\"T_8c1f7a20_b5f8_11eb_9daa_0242ac1c0002row18_col0\" class=\"data row18 col0\" >0</td>\n",
              "                        <td id=\"T_8c1f7a20_b5f8_11eb_9daa_0242ac1c0002row18_col1\" class=\"data row18 col1\" >0</td>\n",
              "                        <td id=\"T_8c1f7a20_b5f8_11eb_9daa_0242ac1c0002row18_col2\" class=\"data row18 col2\" >42</td>\n",
              "                        <td id=\"T_8c1f7a20_b5f8_11eb_9daa_0242ac1c0002row18_col3\" class=\"data row18 col3\" >115</td>\n",
              "                        <td id=\"T_8c1f7a20_b5f8_11eb_9daa_0242ac1c0002row18_col4\" class=\"data row18 col4\" >42</td>\n",
              "                        <td id=\"T_8c1f7a20_b5f8_11eb_9daa_0242ac1c0002row18_col5\" class=\"data row18 col5\" >60</td>\n",
              "                        <td id=\"T_8c1f7a20_b5f8_11eb_9daa_0242ac1c0002row18_col6\" class=\"data row18 col6\" >115</td>\n",
              "                        <td id=\"T_8c1f7a20_b5f8_11eb_9daa_0242ac1c0002row18_col7\" class=\"data row18 col7\" >159</td>\n",
              "                        <td id=\"T_8c1f7a20_b5f8_11eb_9daa_0242ac1c0002row18_col8\" class=\"data row18 col8\" >240</td>\n",
              "                        <td id=\"T_8c1f7a20_b5f8_11eb_9daa_0242ac1c0002row18_col9\" class=\"data row18 col9\" >253</td>\n",
              "                        <td id=\"T_8c1f7a20_b5f8_11eb_9daa_0242ac1c0002row18_col10\" class=\"data row18 col10\" >253</td>\n",
              "                        <td id=\"T_8c1f7a20_b5f8_11eb_9daa_0242ac1c0002row18_col11\" class=\"data row18 col11\" >250</td>\n",
              "                        <td id=\"T_8c1f7a20_b5f8_11eb_9daa_0242ac1c0002row18_col12\" class=\"data row18 col12\" >175</td>\n",
              "                        <td id=\"T_8c1f7a20_b5f8_11eb_9daa_0242ac1c0002row18_col13\" class=\"data row18 col13\" >25</td>\n",
              "                        <td id=\"T_8c1f7a20_b5f8_11eb_9daa_0242ac1c0002row18_col14\" class=\"data row18 col14\" >0</td>\n",
              "                        <td id=\"T_8c1f7a20_b5f8_11eb_9daa_0242ac1c0002row18_col15\" class=\"data row18 col15\" >0</td>\n",
              "                        <td id=\"T_8c1f7a20_b5f8_11eb_9daa_0242ac1c0002row18_col16\" class=\"data row18 col16\" >0</td>\n",
              "                        <td id=\"T_8c1f7a20_b5f8_11eb_9daa_0242ac1c0002row18_col17\" class=\"data row18 col17\" >0</td>\n",
              "            </tr>\n",
              "            <tr>\n",
              "                        <th id=\"T_8c1f7a20_b5f8_11eb_9daa_0242ac1c0002level0_row19\" class=\"row_heading level0 row19\" >19</th>\n",
              "                        <td id=\"T_8c1f7a20_b5f8_11eb_9daa_0242ac1c0002row19_col0\" class=\"data row19 col0\" >0</td>\n",
              "                        <td id=\"T_8c1f7a20_b5f8_11eb_9daa_0242ac1c0002row19_col1\" class=\"data row19 col1\" >0</td>\n",
              "                        <td id=\"T_8c1f7a20_b5f8_11eb_9daa_0242ac1c0002row19_col2\" class=\"data row19 col2\" >187</td>\n",
              "                        <td id=\"T_8c1f7a20_b5f8_11eb_9daa_0242ac1c0002row19_col3\" class=\"data row19 col3\" >253</td>\n",
              "                        <td id=\"T_8c1f7a20_b5f8_11eb_9daa_0242ac1c0002row19_col4\" class=\"data row19 col4\" >253</td>\n",
              "                        <td id=\"T_8c1f7a20_b5f8_11eb_9daa_0242ac1c0002row19_col5\" class=\"data row19 col5\" >253</td>\n",
              "                        <td id=\"T_8c1f7a20_b5f8_11eb_9daa_0242ac1c0002row19_col6\" class=\"data row19 col6\" >253</td>\n",
              "                        <td id=\"T_8c1f7a20_b5f8_11eb_9daa_0242ac1c0002row19_col7\" class=\"data row19 col7\" >253</td>\n",
              "                        <td id=\"T_8c1f7a20_b5f8_11eb_9daa_0242ac1c0002row19_col8\" class=\"data row19 col8\" >253</td>\n",
              "                        <td id=\"T_8c1f7a20_b5f8_11eb_9daa_0242ac1c0002row19_col9\" class=\"data row19 col9\" >253</td>\n",
              "                        <td id=\"T_8c1f7a20_b5f8_11eb_9daa_0242ac1c0002row19_col10\" class=\"data row19 col10\" >197</td>\n",
              "                        <td id=\"T_8c1f7a20_b5f8_11eb_9daa_0242ac1c0002row19_col11\" class=\"data row19 col11\" >86</td>\n",
              "                        <td id=\"T_8c1f7a20_b5f8_11eb_9daa_0242ac1c0002row19_col12\" class=\"data row19 col12\" >0</td>\n",
              "                        <td id=\"T_8c1f7a20_b5f8_11eb_9daa_0242ac1c0002row19_col13\" class=\"data row19 col13\" >0</td>\n",
              "                        <td id=\"T_8c1f7a20_b5f8_11eb_9daa_0242ac1c0002row19_col14\" class=\"data row19 col14\" >0</td>\n",
              "                        <td id=\"T_8c1f7a20_b5f8_11eb_9daa_0242ac1c0002row19_col15\" class=\"data row19 col15\" >0</td>\n",
              "                        <td id=\"T_8c1f7a20_b5f8_11eb_9daa_0242ac1c0002row19_col16\" class=\"data row19 col16\" >0</td>\n",
              "                        <td id=\"T_8c1f7a20_b5f8_11eb_9daa_0242ac1c0002row19_col17\" class=\"data row19 col17\" >0</td>\n",
              "            </tr>\n",
              "            <tr>\n",
              "                        <th id=\"T_8c1f7a20_b5f8_11eb_9daa_0242ac1c0002level0_row20\" class=\"row_heading level0 row20\" >20</th>\n",
              "                        <td id=\"T_8c1f7a20_b5f8_11eb_9daa_0242ac1c0002row20_col0\" class=\"data row20 col0\" >0</td>\n",
              "                        <td id=\"T_8c1f7a20_b5f8_11eb_9daa_0242ac1c0002row20_col1\" class=\"data row20 col1\" >0</td>\n",
              "                        <td id=\"T_8c1f7a20_b5f8_11eb_9daa_0242ac1c0002row20_col2\" class=\"data row20 col2\" >103</td>\n",
              "                        <td id=\"T_8c1f7a20_b5f8_11eb_9daa_0242ac1c0002row20_col3\" class=\"data row20 col3\" >253</td>\n",
              "                        <td id=\"T_8c1f7a20_b5f8_11eb_9daa_0242ac1c0002row20_col4\" class=\"data row20 col4\" >253</td>\n",
              "                        <td id=\"T_8c1f7a20_b5f8_11eb_9daa_0242ac1c0002row20_col5\" class=\"data row20 col5\" >253</td>\n",
              "                        <td id=\"T_8c1f7a20_b5f8_11eb_9daa_0242ac1c0002row20_col6\" class=\"data row20 col6\" >253</td>\n",
              "                        <td id=\"T_8c1f7a20_b5f8_11eb_9daa_0242ac1c0002row20_col7\" class=\"data row20 col7\" >253</td>\n",
              "                        <td id=\"T_8c1f7a20_b5f8_11eb_9daa_0242ac1c0002row20_col8\" class=\"data row20 col8\" >232</td>\n",
              "                        <td id=\"T_8c1f7a20_b5f8_11eb_9daa_0242ac1c0002row20_col9\" class=\"data row20 col9\" >67</td>\n",
              "                        <td id=\"T_8c1f7a20_b5f8_11eb_9daa_0242ac1c0002row20_col10\" class=\"data row20 col10\" >1</td>\n",
              "                        <td id=\"T_8c1f7a20_b5f8_11eb_9daa_0242ac1c0002row20_col11\" class=\"data row20 col11\" >0</td>\n",
              "                        <td id=\"T_8c1f7a20_b5f8_11eb_9daa_0242ac1c0002row20_col12\" class=\"data row20 col12\" >0</td>\n",
              "                        <td id=\"T_8c1f7a20_b5f8_11eb_9daa_0242ac1c0002row20_col13\" class=\"data row20 col13\" >0</td>\n",
              "                        <td id=\"T_8c1f7a20_b5f8_11eb_9daa_0242ac1c0002row20_col14\" class=\"data row20 col14\" >0</td>\n",
              "                        <td id=\"T_8c1f7a20_b5f8_11eb_9daa_0242ac1c0002row20_col15\" class=\"data row20 col15\" >0</td>\n",
              "                        <td id=\"T_8c1f7a20_b5f8_11eb_9daa_0242ac1c0002row20_col16\" class=\"data row20 col16\" >0</td>\n",
              "                        <td id=\"T_8c1f7a20_b5f8_11eb_9daa_0242ac1c0002row20_col17\" class=\"data row20 col17\" >0</td>\n",
              "            </tr>\n",
              "            <tr>\n",
              "                        <th id=\"T_8c1f7a20_b5f8_11eb_9daa_0242ac1c0002level0_row21\" class=\"row_heading level0 row21\" >21</th>\n",
              "                        <td id=\"T_8c1f7a20_b5f8_11eb_9daa_0242ac1c0002row21_col0\" class=\"data row21 col0\" >0</td>\n",
              "                        <td id=\"T_8c1f7a20_b5f8_11eb_9daa_0242ac1c0002row21_col1\" class=\"data row21 col1\" >0</td>\n",
              "                        <td id=\"T_8c1f7a20_b5f8_11eb_9daa_0242ac1c0002row21_col2\" class=\"data row21 col2\" >0</td>\n",
              "                        <td id=\"T_8c1f7a20_b5f8_11eb_9daa_0242ac1c0002row21_col3\" class=\"data row21 col3\" >0</td>\n",
              "                        <td id=\"T_8c1f7a20_b5f8_11eb_9daa_0242ac1c0002row21_col4\" class=\"data row21 col4\" >0</td>\n",
              "                        <td id=\"T_8c1f7a20_b5f8_11eb_9daa_0242ac1c0002row21_col5\" class=\"data row21 col5\" >0</td>\n",
              "                        <td id=\"T_8c1f7a20_b5f8_11eb_9daa_0242ac1c0002row21_col6\" class=\"data row21 col6\" >0</td>\n",
              "                        <td id=\"T_8c1f7a20_b5f8_11eb_9daa_0242ac1c0002row21_col7\" class=\"data row21 col7\" >0</td>\n",
              "                        <td id=\"T_8c1f7a20_b5f8_11eb_9daa_0242ac1c0002row21_col8\" class=\"data row21 col8\" >0</td>\n",
              "                        <td id=\"T_8c1f7a20_b5f8_11eb_9daa_0242ac1c0002row21_col9\" class=\"data row21 col9\" >0</td>\n",
              "                        <td id=\"T_8c1f7a20_b5f8_11eb_9daa_0242ac1c0002row21_col10\" class=\"data row21 col10\" >0</td>\n",
              "                        <td id=\"T_8c1f7a20_b5f8_11eb_9daa_0242ac1c0002row21_col11\" class=\"data row21 col11\" >0</td>\n",
              "                        <td id=\"T_8c1f7a20_b5f8_11eb_9daa_0242ac1c0002row21_col12\" class=\"data row21 col12\" >0</td>\n",
              "                        <td id=\"T_8c1f7a20_b5f8_11eb_9daa_0242ac1c0002row21_col13\" class=\"data row21 col13\" >0</td>\n",
              "                        <td id=\"T_8c1f7a20_b5f8_11eb_9daa_0242ac1c0002row21_col14\" class=\"data row21 col14\" >0</td>\n",
              "                        <td id=\"T_8c1f7a20_b5f8_11eb_9daa_0242ac1c0002row21_col15\" class=\"data row21 col15\" >0</td>\n",
              "                        <td id=\"T_8c1f7a20_b5f8_11eb_9daa_0242ac1c0002row21_col16\" class=\"data row21 col16\" >0</td>\n",
              "                        <td id=\"T_8c1f7a20_b5f8_11eb_9daa_0242ac1c0002row21_col17\" class=\"data row21 col17\" >0</td>\n",
              "            </tr>\n",
              "    </tbody></table>"
            ],
            "text/plain": [
              "<pandas.io.formats.style.Styler at 0x7ff04970d9d0>"
            ]
          },
          "metadata": {
            "tags": []
          },
          "execution_count": 14
        }
      ]
    },
    {
      "cell_type": "code",
      "metadata": {
        "colab": {
          "base_uri": "https://localhost:8080/"
        },
        "id": "0efGjV55bfwC",
        "outputId": "eb725a55-d812-43ef-afb4-d37c541570f6"
      },
      "source": [
        "type(im3)"
      ],
      "execution_count": null,
      "outputs": [
        {
          "output_type": "execute_result",
          "data": {
            "text/plain": [
              "PIL.PngImagePlugin.PngImageFile"
            ]
          },
          "metadata": {
            "tags": []
          },
          "execution_count": 15
        }
      ]
    },
    {
      "cell_type": "code",
      "metadata": {
        "colab": {
          "base_uri": "https://localhost:8080/"
        },
        "id": "ZRUmQTVSlHGy",
        "outputId": "eb29646a-2b77-41e1-df79-35062b7b8f6b"
      },
      "source": [
        "seven_tensors = [tensor(Image.open(o)) for o in sevens]\n",
        "three_tensors = [tensor(Image.open(o)) for o in threes]\n",
        "len(three_tensors),len(seven_tensors)"
      ],
      "execution_count": null,
      "outputs": [
        {
          "output_type": "execute_result",
          "data": {
            "text/plain": [
              "(6131, 6265)"
            ]
          },
          "metadata": {
            "tags": []
          },
          "execution_count": 16
        }
      ]
    },
    {
      "cell_type": "code",
      "metadata": {
        "colab": {
          "base_uri": "https://localhost:8080/"
        },
        "id": "nXROF3-AoxQe",
        "outputId": "a696ad70-92d2-42b2-df5d-4af5b361b08e"
      },
      "source": [
        "type(seven_tensors)"
      ],
      "execution_count": null,
      "outputs": [
        {
          "output_type": "execute_result",
          "data": {
            "text/plain": [
              "list"
            ]
          },
          "metadata": {
            "tags": []
          },
          "execution_count": 17
        }
      ]
    },
    {
      "cell_type": "markdown",
      "metadata": {
        "id": "w_dL4j5YZvL8"
      },
      "source": [
        "# Lists"
      ]
    },
    {
      "cell_type": "code",
      "metadata": {
        "colab": {
          "base_uri": "https://localhost:8080/"
        },
        "id": "Mi_3Z_4gmi5H",
        "outputId": "2c27906b-a603-4c3c-c2cb-d3cc34691e95"
      },
      "source": [
        "m_l = []\n",
        "for i in range(1,11):\n",
        "  m_l.append(i)\n",
        "print(m_l)"
      ],
      "execution_count": null,
      "outputs": [
        {
          "output_type": "stream",
          "text": [
            "[1, 2, 3, 4, 5, 6, 7, 8, 9, 10]\n"
          ],
          "name": "stdout"
        }
      ]
    },
    {
      "cell_type": "code",
      "metadata": {
        "colab": {
          "base_uri": "https://localhost:8080/"
        },
        "id": "gVinhSDBol-P",
        "outputId": "4248ff90-4675-4b3b-fb58-e04b10ab76fe"
      },
      "source": [
        "m_l[0]"
      ],
      "execution_count": null,
      "outputs": [
        {
          "output_type": "execute_result",
          "data": {
            "text/plain": [
              "1"
            ]
          },
          "metadata": {
            "tags": []
          },
          "execution_count": 19
        }
      ]
    },
    {
      "cell_type": "code",
      "metadata": {
        "colab": {
          "base_uri": "https://localhost:8080/"
        },
        "id": "ldA-FUWjpw8T",
        "outputId": "1326b334-73ff-4a0d-9276-42b22cf9d7fa"
      },
      "source": [
        "type(m_l)"
      ],
      "execution_count": null,
      "outputs": [
        {
          "output_type": "execute_result",
          "data": {
            "text/plain": [
              "list"
            ]
          },
          "metadata": {
            "tags": []
          },
          "execution_count": 20
        }
      ]
    },
    {
      "cell_type": "code",
      "metadata": {
        "id": "juFmi3wDp960"
      },
      "source": [
        "numbers=[1, 2, 3, 4, 5, 6, 7]"
      ],
      "execution_count": null,
      "outputs": []
    },
    {
      "cell_type": "code",
      "metadata": {
        "colab": {
          "base_uri": "https://localhost:8080/"
        },
        "id": "oOW4bPHZrszk",
        "outputId": "8a6a10a7-4f38-46c0-a1f2-3d5ac2572588"
      },
      "source": [
        "def challenge1():\n",
        "  numbers=[1, 2, 3, 4, 5, 6, 7]\n",
        "  double = [item*2 for item in numbers]\n",
        "  print(\"numbers \", numbers)\n",
        "  print('V')\n",
        "challenge1()"
      ],
      "execution_count": null,
      "outputs": [
        {
          "output_type": "stream",
          "text": [
            "numbers  [1, 2, 3, 4, 5, 6, 7]\n",
            "V\n"
          ],
          "name": "stdout"
        }
      ]
    },
    {
      "cell_type": "code",
      "metadata": {
        "colab": {
          "base_uri": "https://localhost:8080/"
        },
        "id": "r4ex_-klrsuU",
        "outputId": "cfb688f3-d8b3-4187-ce09-781433f70719"
      },
      "source": [
        "def challenge2():\n",
        "  numbers=[1, 2, 3, 4, 5, 6, 7]\n",
        "  squared = [item**2 for item in numbers]\n",
        "  print(\"Numbers \", numbers)\n",
        "  print(\"Squared \",squared)\n",
        "challenge2()"
      ],
      "execution_count": null,
      "outputs": [
        {
          "output_type": "stream",
          "text": [
            "Numbers  [1, 2, 3, 4, 5, 6, 7]\n",
            "Squared  [1, 4, 9, 16, 25, 36, 49]\n"
          ],
          "name": "stdout"
        }
      ]
    },
    {
      "cell_type": "code",
      "metadata": {
        "colab": {
          "base_uri": "https://localhost:8080/"
        },
        "id": "PIULxR4Rrsm7",
        "outputId": "be0fdd5a-94e6-4578-cee1-c696ee0931d2"
      },
      "source": [
        "def challenge3():\n",
        "  numbers=[1, 2, 3, 4, 5, 6, 7]\n",
        "  even = [item for item in numbers if item%2==0]\n",
        "  print(\"Numbers \",numbers)\n",
        "  print(\"Evens \",even)\n",
        "challenge3()\n"
      ],
      "execution_count": null,
      "outputs": [
        {
          "output_type": "stream",
          "text": [
            "Numbers  [1, 2, 3, 4, 5, 6, 7]\n",
            "Evens  [2, 4, 6]\n"
          ],
          "name": "stdout"
        }
      ]
    },
    {
      "cell_type": "code",
      "metadata": {
        "id": "OZ_ZxD-Vrsjx",
        "colab": {
          "base_uri": "https://localhost:8080/"
        },
        "outputId": "da6cfaab-5276-4b53-8ec9-ac923986da51"
      },
      "source": [
        "def challenge4():\n",
        "  numbers=[1, 2, 3, 4, 5, 6, 7, 8, 9, 10, 11, 12, 13, 14, 15, 16]\n",
        "  fives = [str(item) for item in numbers if item%5==0]\n",
        "  print(\"Numbers \",numbers)\n",
        "  print(\"Fives \",fives)\n",
        "challenge4()"
      ],
      "execution_count": null,
      "outputs": [
        {
          "output_type": "stream",
          "text": [
            "Numbers  [1, 2, 3, 4, 5, 6, 7, 8, 9, 10, 11, 12, 13, 14, 15, 16]\n",
            "Fives  ['5', '10', '15']\n"
          ],
          "name": "stdout"
        }
      ]
    },
    {
      "cell_type": "code",
      "metadata": {
        "id": "R7NVg6Xirsgb",
        "colab": {
          "base_uri": "https://localhost:8080/"
        },
        "outputId": "745a8486-4620-4aa6-fc57-1ec76dae3491"
      },
      "source": [
        "def challenge5():\n",
        "  sentence='The quick red fox jumped over the lazy brown dog and ran off into the forest'\n",
        "  notThe = [len(item) for item in sentence.split() if item != \"The\"]\n",
        "  print(sentence)\n",
        "  print(notThe)\n",
        "challenge5()"
      ],
      "execution_count": null,
      "outputs": [
        {
          "output_type": "stream",
          "text": [
            "The quick red fox jumped over the lazy brown dog and ran off into the forest\n",
            "[5, 3, 3, 6, 4, 3, 4, 5, 3, 3, 3, 3, 4, 3, 6]\n"
          ],
          "name": "stdout"
        }
      ]
    },
    {
      "cell_type": "code",
      "metadata": {
        "colab": {
          "base_uri": "https://localhost:8080/"
        },
        "id": "pTwTwLhlOcvU",
        "outputId": "9f849b8c-b2e8-4df5-f4f1-86ff88b2696f"
      },
      "source": [
        "def challenge6():\n",
        "  sentence='The quick red fox jumped over the lazy brown dog and ran off into the forest'\n",
        "  vowles='aeiou'\n",
        "  notVowles=[item for item in sentence if item not in vowles]\n",
        "  print(sentence)\n",
        "  print(''.join(notVowles))\n",
        "challenge6()"
      ],
      "execution_count": null,
      "outputs": [
        {
          "output_type": "stream",
          "text": [
            "The quick red fox jumped over the lazy brown dog and ran off into the forest\n",
            "Th qck rd fx jmpd vr th lzy brwn dg nd rn ff nt th frst\n"
          ],
          "name": "stdout"
        }
      ]
    },
    {
      "cell_type": "code",
      "metadata": {
        "colab": {
          "base_uri": "https://localhost:8080/"
        },
        "id": "zUsLN0QAOtgc",
        "outputId": "b2915ea9-186f-449c-81a1-a1f57c4493d8"
      },
      "source": [
        "def challenge7():\n",
        "  sentence='The quick red fox jumped over the lazy brown dog and ran off into the forest'\n",
        "  plus1 = [chr(ord(item)+1) if item != ' ' and item < 'y' else item for item in sentence]\n",
        "  print(sentence)\n",
        "  print(''.join(plus1))\n",
        "challenge7()"
      ],
      "execution_count": null,
      "outputs": [
        {
          "output_type": "stream",
          "text": [
            "The quick red fox jumped over the lazy brown dog and ran off into the forest\n",
            "Uif rvjdl sfe gpy kvnqfe pwfs uif mbzy cspxo eph boe sbo pgg joup uif gpsftu\n"
          ],
          "name": "stdout"
        }
      ]
    },
    {
      "cell_type": "code",
      "metadata": {
        "colab": {
          "base_uri": "https://localhost:8080/"
        },
        "id": "cS8-xANNOteU",
        "outputId": "7f9c77d5-aa38-44f2-bf08-4aa14db2160b"
      },
      "source": [
        "def challenge8():\n",
        "  fruit = ['apple', 'banana', 'orange', 'pineapple', 'passion fruit']\n",
        "  fruitDict={item:len(item) for item in fruit}\n",
        "  print(fruit)\n",
        "  print(fruitDict)\n",
        "challenge8()\n"
      ],
      "execution_count": null,
      "outputs": [
        {
          "output_type": "stream",
          "text": [
            "['apple', 'banana', 'orange', 'pineapple', 'passion fruit']\n",
            "{'apple': 5, 'banana': 6, 'orange': 6, 'pineapple': 9, 'passion fruit': 13}\n"
          ],
          "name": "stdout"
        }
      ]
    },
    {
      "cell_type": "markdown",
      "metadata": {
        "id": "n6Ga0zZmaAwE"
      },
      "source": [
        "# Continue MNIST"
      ]
    },
    {
      "cell_type": "code",
      "metadata": {
        "colab": {
          "base_uri": "https://localhost:8080/",
          "height": 85
        },
        "id": "r2jZAjSuaYCm",
        "outputId": "91c62a02-191d-4d9c-ec0d-91c0ab04e767"
      },
      "source": [
        "show_image(three_tensors[1]);"
      ],
      "execution_count": null,
      "outputs": [
        {
          "output_type": "display_data",
          "data": {
            "image/png": "[encoded data removed]",
            "text/plain": [
              "<Figure size 72x72 with 1 Axes>"
            ]
          },
          "metadata": {
            "tags": [],
            "needs_background": "light"
          }
        }
      ]
    },
    {
      "cell_type": "code",
      "metadata": {
        "colab": {
          "base_uri": "https://localhost:8080/"
        },
        "id": "Csop4mI8ccyv",
        "outputId": "13736692-5fac-46a2-ca63-181f0daf68ed"
      },
      "source": [
        "three_tensors[1].shape"
      ],
      "execution_count": null,
      "outputs": [
        {
          "output_type": "execute_result",
          "data": {
            "text/plain": [
              "torch.Size([28, 28])"
            ]
          },
          "metadata": {
            "tags": []
          },
          "execution_count": 31
        }
      ]
    },
    {
      "cell_type": "code",
      "metadata": {
        "colab": {
          "base_uri": "https://localhost:8080/"
        },
        "id": "QmBYHdUVccpj",
        "outputId": "dc3a49cd-5626-4ce8-ad61-3ff975980498"
      },
      "source": [
        "type(three_tensors)"
      ],
      "execution_count": null,
      "outputs": [
        {
          "output_type": "execute_result",
          "data": {
            "text/plain": [
              "list"
            ]
          },
          "metadata": {
            "tags": []
          },
          "execution_count": 32
        }
      ]
    },
    {
      "cell_type": "code",
      "metadata": {
        "colab": {
          "base_uri": "https://localhost:8080/"
        },
        "id": "zcg0_nMzZKLz",
        "outputId": "cb0737f1-0eb5-4900-868b-47bed7c1e084"
      },
      "source": [
        "stacked_sevens = torch.stack(seven_tensors).float()/255\n",
        "stacked_threes = torch.stack(three_tensors).float()/255\n",
        "stacked_threes.shape"
      ],
      "execution_count": null,
      "outputs": [
        {
          "output_type": "execute_result",
          "data": {
            "text/plain": [
              "torch.Size([6131, 28, 28])"
            ]
          },
          "metadata": {
            "tags": []
          },
          "execution_count": 33
        }
      ]
    },
    {
      "cell_type": "code",
      "metadata": {
        "colab": {
          "base_uri": "https://localhost:8080/"
        },
        "id": "GYd-hLKpajTt",
        "outputId": "089b9c5b-07a9-4905-960d-9a67e0f4db2f"
      },
      "source": [
        "type(stacked_threes)"
      ],
      "execution_count": null,
      "outputs": [
        {
          "output_type": "execute_result",
          "data": {
            "text/plain": [
              "torch.Tensor"
            ]
          },
          "metadata": {
            "tags": []
          },
          "execution_count": 34
        }
      ]
    },
    {
      "cell_type": "code",
      "metadata": {
        "colab": {
          "base_uri": "https://localhost:8080/"
        },
        "id": "QYnq61vgajW6",
        "outputId": "58f11474-b4c7-4835-85d1-3b77e1bbca04"
      },
      "source": [
        "len(stacked_threes.shape)"
      ],
      "execution_count": null,
      "outputs": [
        {
          "output_type": "execute_result",
          "data": {
            "text/plain": [
              "3"
            ]
          },
          "metadata": {
            "tags": []
          },
          "execution_count": 35
        }
      ]
    },
    {
      "cell_type": "code",
      "metadata": {
        "colab": {
          "base_uri": "https://localhost:8080/"
        },
        "id": "BljsumMpfoFP",
        "outputId": "00bb2ce6-ebf7-4fea-dd89-54cd9d4a931e"
      },
      "source": [
        "stacked_threes.ndim"
      ],
      "execution_count": null,
      "outputs": [
        {
          "output_type": "execute_result",
          "data": {
            "text/plain": [
              "3"
            ]
          },
          "metadata": {
            "tags": []
          },
          "execution_count": 36
        }
      ]
    },
    {
      "cell_type": "code",
      "metadata": {
        "colab": {
          "base_uri": "https://localhost:8080/",
          "height": 85
        },
        "id": "7clzBe03gUlX",
        "outputId": "5e82f9ee-eff0-4e0c-b2a9-eac2f4bbee24"
      },
      "source": [
        "mean3 = stacked_threes.mean(0)\n",
        "show_image(mean3);"
      ],
      "execution_count": null,
      "outputs": [
        {
          "output_type": "display_data",
          "data": {
            "image/png": "[encoded data removed]",
            "text/plain": [
              "<Figure size 72x72 with 1 Axes>"
            ]
          },
          "metadata": {
            "tags": [],
            "needs_background": "light"
          }
        }
      ]
    },
    {
      "cell_type": "code",
      "metadata": {
        "colab": {
          "base_uri": "https://localhost:8080/",
          "height": 85
        },
        "id": "VG0h275Mgo0-",
        "outputId": "30e315cf-65fd-44af-965f-a8c7e7ca10fb"
      },
      "source": [
        "mean7 = stacked_sevens.mean(0)\n",
        "show_image(mean7);"
      ],
      "execution_count": null,
      "outputs": [
        {
          "output_type": "display_data",
          "data": {
            "image/png": "[encoded data removed]",
            "text/plain": [
              "<Figure size 72x72 with 1 Axes>"
            ]
          },
          "metadata": {
            "tags": [],
            "needs_background": "light"
          }
        }
      ]
    },
    {
      "cell_type": "code",
      "metadata": {
        "colab": {
          "base_uri": "https://localhost:8080/"
        },
        "id": "RsolYzM0y_-x",
        "outputId": "f1e0a368-555c-4788-fd8f-5916a5a34365"
      },
      "source": [
        "mean3.shape"
      ],
      "execution_count": null,
      "outputs": [
        {
          "output_type": "execute_result",
          "data": {
            "text/plain": [
              "torch.Size([28, 28])"
            ]
          },
          "metadata": {
            "tags": []
          },
          "execution_count": 39
        }
      ]
    },
    {
      "cell_type": "code",
      "metadata": {
        "colab": {
          "base_uri": "https://localhost:8080/",
          "height": 85
        },
        "id": "uKCGXSB9zPko",
        "outputId": "9503fa31-b6ef-4c01-aa90-9d661d671f68"
      },
      "source": [
        "a_3 = stacked_threes[1]\n",
        "show_image(a_3);"
      ],
      "execution_count": null,
      "outputs": [
        {
          "output_type": "display_data",
          "data": {
            "image/png": "[encoded data removed]",
            "text/plain": [
              "<Figure size 72x72 with 1 Axes>"
            ]
          },
          "metadata": {
            "tags": [],
            "needs_background": "light"
          }
        }
      ]
    },
    {
      "cell_type": "code",
      "metadata": {
        "colab": {
          "base_uri": "https://localhost:8080/"
        },
        "id": "0TKVpC020vZ9",
        "outputId": "bb08e1f4-8c1d-4cfb-b005-97c95f086a4f"
      },
      "source": [
        "a_3.shape"
      ],
      "execution_count": null,
      "outputs": [
        {
          "output_type": "execute_result",
          "data": {
            "text/plain": [
              "torch.Size([28, 28])"
            ]
          },
          "metadata": {
            "tags": []
          },
          "execution_count": 41
        }
      ]
    },
    {
      "cell_type": "code",
      "metadata": {
        "colab": {
          "base_uri": "https://localhost:8080/"
        },
        "id": "U2-duLVQzY_o",
        "outputId": "6a28ae12-330d-444f-f2cf-59a11b7b5acb"
      },
      "source": [
        "#1\n",
        "#L1 norm (the distance from the ideal 3)\n",
        "dist_3_abs = (a_3 - mean3).abs().mean()\n",
        "dist_3_abs"
      ],
      "execution_count": null,
      "outputs": [
        {
          "output_type": "execute_result",
          "data": {
            "text/plain": [
              "tensor(0.1114)"
            ]
          },
          "metadata": {
            "tags": []
          },
          "execution_count": 42
        }
      ]
    },
    {
      "cell_type": "code",
      "metadata": {
        "colab": {
          "base_uri": "https://localhost:8080/"
        },
        "id": "Tk8GkaHZ3Cm6",
        "outputId": "c12c909e-e9bf-45e5-aa8d-6d58d5b70195"
      },
      "source": [
        "#2\n",
        "#L1 norm alt syntax (dist from the ideal 3)\n",
        "F.l1_loss(a_3.float(),mean3)"
      ],
      "execution_count": null,
      "outputs": [
        {
          "output_type": "execute_result",
          "data": {
            "text/plain": [
              "tensor(0.1114)"
            ]
          },
          "metadata": {
            "tags": []
          },
          "execution_count": 43
        }
      ]
    },
    {
      "cell_type": "code",
      "metadata": {
        "colab": {
          "base_uri": "https://localhost:8080/"
        },
        "id": "VPjw9z8Nz7FL",
        "outputId": "476ec234-4e73-422a-b101-86eff1c59418"
      },
      "source": [
        "#3\n",
        "#L2 norm (the distance from the ideal 3 RMSE Root Mean Square Error)\n",
        "dist_3_sqr = ((a_3 - mean3)**2).mean().sqrt()\n",
        "dist_3_sqr"
      ],
      "execution_count": null,
      "outputs": [
        {
          "output_type": "execute_result",
          "data": {
            "text/plain": [
              "tensor(0.2021)"
            ]
          },
          "metadata": {
            "tags": []
          },
          "execution_count": 44
        }
      ]
    },
    {
      "cell_type": "code",
      "metadata": {
        "colab": {
          "base_uri": "https://localhost:8080/"
        },
        "id": "S73azN3T4hTq",
        "outputId": "99e87fed-c20c-4173-a017-98bd3db1cce2"
      },
      "source": [
        "#4\n",
        "#L2 norm alt syntax (RMSE dist from ideal 3)\n",
        "F.mse_loss(a_3,mean3).sqrt()"
      ],
      "execution_count": null,
      "outputs": [
        {
          "output_type": "execute_result",
          "data": {
            "text/plain": [
              "tensor(0.2021)"
            ]
          },
          "metadata": {
            "tags": []
          },
          "execution_count": 45
        }
      ]
    },
    {
      "cell_type": "code",
      "metadata": {
        "colab": {
          "base_uri": "https://localhost:8080/"
        },
        "id": "orZvW0Pj0PwU",
        "outputId": "16171fcc-7bf9-4895-bd4d-14f7e19f6383"
      },
      "source": [
        "#5\n",
        "#L1 norm (distance from the ideal 7)\n",
        "dist_7_abs = (a_3 - mean7).abs().mean()\n",
        "dist_7_abs"
      ],
      "execution_count": null,
      "outputs": [
        {
          "output_type": "execute_result",
          "data": {
            "text/plain": [
              "tensor(0.1586)"
            ]
          },
          "metadata": {
            "tags": []
          },
          "execution_count": 46
        }
      ]
    },
    {
      "cell_type": "code",
      "metadata": {
        "colab": {
          "base_uri": "https://localhost:8080/"
        },
        "id": "oQQJ4_Qg42sr",
        "outputId": "4084a83a-b1d4-4c7c-a179-d4c5df0e80da"
      },
      "source": [
        "#6\n",
        "#L1 norm alt syntax (dist from ideal 7)\n",
        "F.l1_loss(a_3.float(),mean7)"
      ],
      "execution_count": null,
      "outputs": [
        {
          "output_type": "execute_result",
          "data": {
            "text/plain": [
              "tensor(0.1586)"
            ]
          },
          "metadata": {
            "tags": []
          },
          "execution_count": 47
        }
      ]
    },
    {
      "cell_type": "code",
      "metadata": {
        "colab": {
          "base_uri": "https://localhost:8080/"
        },
        "id": "ZpOFeVJt238Y",
        "outputId": "d3bfeb57-12eb-43c0-94bc-ae5bb694d3c7"
      },
      "source": [
        "#7\n",
        "#L2 norm (RMSE distance 3 to ideal 7)\n",
        "dist_7_sqr = ((a_3 - mean7)**2).mean().sqrt()\n",
        "dist_7_sqr"
      ],
      "execution_count": null,
      "outputs": [
        {
          "output_type": "execute_result",
          "data": {
            "text/plain": [
              "tensor(0.3021)"
            ]
          },
          "metadata": {
            "tags": []
          },
          "execution_count": 48
        }
      ]
    },
    {
      "cell_type": "code",
      "metadata": {
        "colab": {
          "base_uri": "https://localhost:8080/"
        },
        "id": "IjGdujAs5MAZ",
        "outputId": "e417de20-a122-4ead-e627-7ec883a98115"
      },
      "source": [
        "#8\n",
        "#L2 norm alt syntax (RMSE distance to ideal 7)\n",
        "F.mse_loss(a_3,mean7).sqrt()"
      ],
      "execution_count": null,
      "outputs": [
        {
          "output_type": "execute_result",
          "data": {
            "text/plain": [
              "tensor(0.3021)"
            ]
          },
          "metadata": {
            "tags": []
          },
          "execution_count": 49
        }
      ]
    },
    {
      "cell_type": "code",
      "metadata": {
        "id": "Vgk6YCSY7U9h"
      },
      "source": [
        "data = [[1,2,3],[4,5,6]]\n",
        "arr = array (data)\n",
        "tns = tensor(data)"
      ],
      "execution_count": null,
      "outputs": []
    },
    {
      "cell_type": "code",
      "metadata": {
        "colab": {
          "base_uri": "https://localhost:8080/"
        },
        "id": "GVfP-ZRv9LgI",
        "outputId": "46c5a931-f123-47dc-cf3a-e9f121e20d30"
      },
      "source": [
        "arr #numpy - can be differnt sizes in the arrays"
      ],
      "execution_count": null,
      "outputs": [
        {
          "output_type": "execute_result",
          "data": {
            "text/plain": [
              "array([[1, 2, 3],\n",
              "       [4, 5, 6]])"
            ]
          },
          "metadata": {
            "tags": []
          },
          "execution_count": 51
        }
      ]
    },
    {
      "cell_type": "code",
      "metadata": {
        "colab": {
          "base_uri": "https://localhost:8080/"
        },
        "id": "nzZFhyVl9QAU",
        "outputId": "48feda86-b7d5-4e53-f747-7c13d67d29e7"
      },
      "source": [
        "tns #pytorch - must be the same shape"
      ],
      "execution_count": null,
      "outputs": [
        {
          "output_type": "execute_result",
          "data": {
            "text/plain": [
              "tensor([[1, 2, 3],\n",
              "        [4, 5, 6]])"
            ]
          },
          "metadata": {
            "tags": []
          },
          "execution_count": 52
        }
      ]
    },
    {
      "cell_type": "code",
      "metadata": {
        "colab": {
          "base_uri": "https://localhost:8080/"
        },
        "id": "h9RBoZUM9RcH",
        "outputId": "cbea5aad-968c-4b2c-bff0-5b2511f85f19"
      },
      "source": [
        "tns[1] #slicing a tensor horizontal in this case "
      ],
      "execution_count": null,
      "outputs": [
        {
          "output_type": "execute_result",
          "data": {
            "text/plain": [
              "tensor([4, 5, 6])"
            ]
          },
          "metadata": {
            "tags": []
          },
          "execution_count": 53
        }
      ]
    },
    {
      "cell_type": "code",
      "metadata": {
        "colab": {
          "base_uri": "https://localhost:8080/"
        },
        "id": "mMpqaB98-BdP",
        "outputId": "0bc660c7-466a-4b95-d110-41bea560cbea"
      },
      "source": [
        "tns[:,1]  #slicing a tensor vertically in this case"
      ],
      "execution_count": null,
      "outputs": [
        {
          "output_type": "execute_result",
          "data": {
            "text/plain": [
              "tensor([2, 5])"
            ]
          },
          "metadata": {
            "tags": []
          },
          "execution_count": 54
        }
      ]
    },
    {
      "cell_type": "markdown",
      "metadata": {
        "id": "xzx3VjJG3YqV"
      },
      "source": [
        "tensor calculations +, -, *, /, etc"
      ]
    },
    {
      "cell_type": "code",
      "metadata": {
        "colab": {
          "base_uri": "https://localhost:8080/"
        },
        "id": "zRKlAg1H-MXo",
        "outputId": "dac032bb-183b-4339-f547-06d436f546f6"
      },
      "source": [
        "tns+5"
      ],
      "execution_count": null,
      "outputs": [
        {
          "output_type": "execute_result",
          "data": {
            "text/plain": [
              "tensor([[ 6,  7,  8],\n",
              "        [ 9, 10, 11]])"
            ]
          },
          "metadata": {
            "tags": []
          },
          "execution_count": 55
        }
      ]
    },
    {
      "cell_type": "code",
      "metadata": {
        "colab": {
          "base_uri": "https://localhost:8080/"
        },
        "id": "Di8xH6Cm-bVY",
        "outputId": "c2998ee7-40fa-4f67-b729-58092681983d"
      },
      "source": [
        "tns**2*1.25"
      ],
      "execution_count": null,
      "outputs": [
        {
          "output_type": "execute_result",
          "data": {
            "text/plain": [
              "tensor([[ 1.2500,  5.0000, 11.2500],\n",
              "        [20.0000, 31.2500, 45.0000]])"
            ]
          },
          "metadata": {
            "tags": []
          },
          "execution_count": 56
        }
      ]
    },
    {
      "cell_type": "code",
      "metadata": {
        "colab": {
          "base_uri": "https://localhost:8080/"
        },
        "id": "M5_Gj-_C-s-2",
        "outputId": "fecf5350-95e4-4473-ba8b-607b680bc13a"
      },
      "source": [
        "tns+tns"
      ],
      "execution_count": null,
      "outputs": [
        {
          "output_type": "execute_result",
          "data": {
            "text/plain": [
              "tensor([[ 2,  4,  6],\n",
              "        [ 8, 10, 12]])"
            ]
          },
          "metadata": {
            "tags": []
          },
          "execution_count": 57
        }
      ]
    },
    {
      "cell_type": "code",
      "metadata": {
        "colab": {
          "base_uri": "https://localhost:8080/"
        },
        "id": "0MtrrD2Z_D9C",
        "outputId": "c6b8b105-d743-4877-ea5d-ba60789848a4"
      },
      "source": [
        "tns*2"
      ],
      "execution_count": null,
      "outputs": [
        {
          "output_type": "execute_result",
          "data": {
            "text/plain": [
              "tensor([[ 2,  4,  6],\n",
              "        [ 8, 10, 12]])"
            ]
          },
          "metadata": {
            "tags": []
          },
          "execution_count": 58
        }
      ]
    },
    {
      "cell_type": "code",
      "metadata": {
        "id": "gQdf8JTo_Pm1",
        "colab": {
          "base_uri": "https://localhost:8080/",
          "height": 35
        },
        "outputId": "4364885f-fb44-4766-d5e2-50773312377e"
      },
      "source": [
        "tns.type()"
      ],
      "execution_count": null,
      "outputs": [
        {
          "output_type": "execute_result",
          "data": {
            "application/vnd.google.colaboratory.intrinsic+json": {
              "type": "string"
            },
            "text/plain": [
              "'torch.LongTensor'"
            ]
          },
          "metadata": {
            "tags": []
          },
          "execution_count": 59
        }
      ]
    },
    {
      "cell_type": "code",
      "metadata": {
        "colab": {
          "base_uri": "https://localhost:8080/"
        },
        "id": "pkD3MJJr3mqd",
        "outputId": "3ccdc376-1e7b-4682-f4c2-9ae1ee5ccd40"
      },
      "source": [
        "tns*1.5"
      ],
      "execution_count": null,
      "outputs": [
        {
          "output_type": "execute_result",
          "data": {
            "text/plain": [
              "tensor([[1.5000, 3.0000, 4.5000],\n",
              "        [6.0000, 7.5000, 9.0000]])"
            ]
          },
          "metadata": {
            "tags": []
          },
          "execution_count": 60
        }
      ]
    },
    {
      "cell_type": "code",
      "metadata": {
        "colab": {
          "base_uri": "https://localhost:8080/",
          "height": 35
        },
        "id": "6clcnR1N8v_0",
        "outputId": "cc650a90-8840-4da9-89ff-a7f57f00c25a"
      },
      "source": [
        "tns.type()"
      ],
      "execution_count": null,
      "outputs": [
        {
          "output_type": "execute_result",
          "data": {
            "application/vnd.google.colaboratory.intrinsic+json": {
              "type": "string"
            },
            "text/plain": [
              "'torch.LongTensor'"
            ]
          },
          "metadata": {
            "tags": []
          },
          "execution_count": 61
        }
      ]
    },
    {
      "cell_type": "code",
      "metadata": {
        "colab": {
          "base_uri": "https://localhost:8080/"
        },
        "id": "hjrnbZkH8yuS",
        "outputId": "2a52b422-88d1-453e-d133-1a932dc2245b"
      },
      "source": [
        "valid_3_tens = torch.stack([tensor(Image.open(o))\n",
        "                            for o in (path/'valid'/'3').ls()])\n",
        "valid_3_tens = valid_3_tens.float()/255\n",
        "valid_7_tens = torch.stack([tensor(Image.open(o))\n",
        "                            for o in (path/'valid'/'7').ls()])\n",
        "valid_7_tens = valid_7_tens.float()/255\n",
        "valid_3_tens.shape,valid_7_tens.shape"
      ],
      "execution_count": null,
      "outputs": [
        {
          "output_type": "execute_result",
          "data": {
            "text/plain": [
              "(torch.Size([1010, 28, 28]), torch.Size([1028, 28, 28]))"
            ]
          },
          "metadata": {
            "tags": []
          },
          "execution_count": 62
        }
      ]
    },
    {
      "cell_type": "code",
      "metadata": {
        "colab": {
          "base_uri": "https://localhost:8080/"
        },
        "id": "cXoXCSSY-bgi",
        "outputId": "023915f8-00ac-4353-c0a6-339750c8b1c6"
      },
      "source": [
        "def mnist_distance(a,b): return (a-b).abs().mean((-1,-2))\n",
        "mnist_distance(a_3, mean3)"
      ],
      "execution_count": null,
      "outputs": [
        {
          "output_type": "execute_result",
          "data": {
            "text/plain": [
              "tensor(0.1114)"
            ]
          },
          "metadata": {
            "tags": []
          },
          "execution_count": 63
        }
      ]
    },
    {
      "cell_type": "markdown",
      "metadata": {
        "id": "QUWZmGD_AvqY"
      },
      "source": [
        "Pytorch broadcasts the smaller rank tensor to match the larger rank to complete a calculation"
      ]
    },
    {
      "cell_type": "code",
      "metadata": {
        "colab": {
          "base_uri": "https://localhost:8080/"
        },
        "id": "bAzMeCVT_T-X",
        "outputId": "a895e783-9b55-4dd2-fb9d-59b2c01f7c47"
      },
      "source": [
        "valid_3_dist = mnist_distance(valid_3_tens, mean3)\n",
        "valid_3_dist, valid_3_dist.shape"
      ],
      "execution_count": null,
      "outputs": [
        {
          "output_type": "execute_result",
          "data": {
            "text/plain": [
              "(tensor([0.1107, 0.1180, 0.1203,  ..., 0.1111, 0.1259, 0.1314]),\n",
              " torch.Size([1010]))"
            ]
          },
          "metadata": {
            "tags": []
          },
          "execution_count": 64
        }
      ]
    },
    {
      "cell_type": "code",
      "metadata": {
        "colab": {
          "base_uri": "https://localhost:8080/"
        },
        "id": "2LynqpmF_8Dn",
        "outputId": "3461cef7-e6ed-40b4-8390-e0b353539cba"
      },
      "source": [
        "tensor([2,3,4,5]) ** tensor(4)"
      ],
      "execution_count": null,
      "outputs": [
        {
          "output_type": "execute_result",
          "data": {
            "text/plain": [
              "tensor([ 16,  81, 256, 625])"
            ]
          },
          "metadata": {
            "tags": []
          },
          "execution_count": 65
        }
      ]
    },
    {
      "cell_type": "code",
      "metadata": {
        "colab": {
          "base_uri": "https://localhost:8080/"
        },
        "id": "-E89xlEFBua8",
        "outputId": "76d508f6-f7ef-49d3-f109-44d38ac29766"
      },
      "source": [
        "valid_3_tens.shape"
      ],
      "execution_count": null,
      "outputs": [
        {
          "output_type": "execute_result",
          "data": {
            "text/plain": [
              "torch.Size([1010, 28, 28])"
            ]
          },
          "metadata": {
            "tags": []
          },
          "execution_count": 66
        }
      ]
    },
    {
      "cell_type": "code",
      "metadata": {
        "colab": {
          "base_uri": "https://localhost:8080/"
        },
        "id": "Ao7fqc8vBuRx",
        "outputId": "8a59664d-290b-4073-91d4-13e990ea4ac1"
      },
      "source": [
        "mean3.shape"
      ],
      "execution_count": null,
      "outputs": [
        {
          "output_type": "execute_result",
          "data": {
            "text/plain": [
              "torch.Size([28, 28])"
            ]
          },
          "metadata": {
            "tags": []
          },
          "execution_count": 67
        }
      ]
    },
    {
      "cell_type": "code",
      "metadata": {
        "colab": {
          "base_uri": "https://localhost:8080/"
        },
        "id": "aVaq87jLBt0N",
        "outputId": "961c7cb0-9ca6-4805-d9a8-97d8a2a525f5"
      },
      "source": [
        "(valid_3_tens-mean3).shape"
      ],
      "execution_count": null,
      "outputs": [
        {
          "output_type": "execute_result",
          "data": {
            "text/plain": [
              "torch.Size([1010, 28, 28])"
            ]
          },
          "metadata": {
            "tags": []
          },
          "execution_count": 68
        }
      ]
    },
    {
      "cell_type": "code",
      "metadata": {
        "id": "s62DFUZWB9qI"
      },
      "source": [
        "def is_3(x): return mnist_distance(x,mean3) < mnist_distance(x,mean7)"
      ],
      "execution_count": null,
      "outputs": []
    },
    {
      "cell_type": "code",
      "metadata": {
        "colab": {
          "base_uri": "https://localhost:8080/"
        },
        "id": "Omifox2wCiwH",
        "outputId": "4fda2e2c-118f-465b-f963-f01b7ac234d2"
      },
      "source": [
        "is_3(a_3), is_3(a_3).float()"
      ],
      "execution_count": null,
      "outputs": [
        {
          "output_type": "execute_result",
          "data": {
            "text/plain": [
              "(tensor(True), tensor(1.))"
            ]
          },
          "metadata": {
            "tags": []
          },
          "execution_count": 70
        }
      ]
    },
    {
      "cell_type": "code",
      "metadata": {
        "colab": {
          "base_uri": "https://localhost:8080/"
        },
        "id": "DqBF_tozCu3k",
        "outputId": "8f33ec28-53b8-46aa-e5bd-37a59d4213ad"
      },
      "source": [
        "is_3(valid_3_tens)"
      ],
      "execution_count": null,
      "outputs": [
        {
          "output_type": "execute_result",
          "data": {
            "text/plain": [
              "tensor([ True,  True,  True,  ...,  True, False,  True])"
            ]
          },
          "metadata": {
            "tags": []
          },
          "execution_count": 71
        }
      ]
    },
    {
      "cell_type": "code",
      "metadata": {
        "colab": {
          "base_uri": "https://localhost:8080/"
        },
        "id": "kb_PxAVXDjLt",
        "outputId": "adbc70f2-19b5-427c-9333-305749f74696"
      },
      "source": [
        "accuracy_3s = is_3(valid_3_tens).float().mean()\n",
        "accuracy_7s = (1-is_3(valid_7_tens).float()).mean()\n",
        "\n",
        "accuracy_3s,accuracy_7s,(accuracy_3s+accuracy_7s)/2"
      ],
      "execution_count": null,
      "outputs": [
        {
          "output_type": "execute_result",
          "data": {
            "text/plain": [
              "(tensor(0.9168), tensor(0.9854), tensor(0.9511))"
            ]
          },
          "metadata": {
            "tags": []
          },
          "execution_count": 72
        }
      ]
    },
    {
      "cell_type": "markdown",
      "metadata": {
        "id": "JEl4j0xSA8mR"
      },
      "source": [
        "SGD - Stochastic Gradient Descent"
      ]
    },
    {
      "cell_type": "code",
      "metadata": {
        "id": "aKFEKpYtEUmf",
        "colab": {
          "base_uri": "https://localhost:8080/",
          "height": 145
        },
        "outputId": "0fe2070b-39e5-47ad-e132-f963c2fa6d30"
      },
      "source": [
        "gv('''\n",
        "init->predict->loss->gradient->step->stop\n",
        "step->predict[label=repeat]\n",
        "''')"
      ],
      "execution_count": null,
      "outputs": [
        {
          "output_type": "execute_result",
          "data": {
            "text/plain": [
              "<graphviz.files.Source at 0x7ff048ead110>"
            ],
            "image/svg+xml": "<?xml version=\"1.0\" encoding=\"UTF-8\" standalone=\"no\"?>\n<!DOCTYPE svg PUBLIC \"-//W3C//DTD SVG 1.1//EN\"\n \"http://www.w3.org/Graphics/SVG/1.1/DTD/svg11.dtd\">\n<!-- Generated by graphviz version 2.40.1 (20161225.0304)\n -->\n<!-- Title: G Pages: 1 -->\n<svg width=\"597pt\" height=\"78pt\"\n viewBox=\"0.00 0.00 596.69 78.00\" xmlns=\"http://www.w3.org/2000/svg\" xmlns:xlink=\"http://www.w3.org/1999/xlink\">\n<g id=\"graph0\" class=\"graph\" transform=\"scale(1 1) rotate(0) translate(4 74)\">\n<title>G</title>\n<polygon fill=\"#ffffff\" stroke=\"transparent\" points=\"-4,4 -4,-74 592.6863,-74 592.6863,4 -4,4\"/>\n<!-- init -->\n<g id=\"node1\" class=\"node\">\n<title>init</title>\n<ellipse fill=\"none\" stroke=\"#000000\" cx=\"27\" cy=\"-18\" rx=\"27\" ry=\"18\"/>\n<text text-anchor=\"middle\" x=\"27\" y=\"-14.3\" font-family=\"Times,serif\" font-size=\"14.00\" fill=\"#000000\">init</text>\n</g>\n<!-- predict -->\n<g id=\"node2\" class=\"node\">\n<title>predict</title>\n<ellipse fill=\"none\" stroke=\"#000000\" cx=\"127.3968\" cy=\"-18\" rx=\"36.2938\" ry=\"18\"/>\n<text text-anchor=\"middle\" x=\"127.3968\" y=\"-14.3\" font-family=\"Times,serif\" font-size=\"14.00\" fill=\"#000000\">predict</text>\n</g>\n<!-- init&#45;&gt;predict -->\n<g id=\"edge1\" class=\"edge\">\n<title>init&#45;&gt;predict</title>\n<path fill=\"none\" stroke=\"#000000\" d=\"M54.1688,-18C62.3543,-18 71.5827,-18 80.6596,-18\"/>\n<polygon fill=\"#000000\" stroke=\"#000000\" points=\"80.7795,-21.5001 90.7795,-18 80.7795,-14.5001 80.7795,-21.5001\"/>\n</g>\n<!-- loss -->\n<g id=\"node3\" class=\"node\">\n<title>loss</title>\n<ellipse fill=\"none\" stroke=\"#000000\" cx=\"227.7935\" cy=\"-52\" rx=\"27\" ry=\"18\"/>\n<text text-anchor=\"middle\" x=\"227.7935\" y=\"-48.3\" font-family=\"Times,serif\" font-size=\"14.00\" fill=\"#000000\">loss</text>\n</g>\n<!-- predict&#45;&gt;loss -->\n<g id=\"edge2\" class=\"edge\">\n<title>predict&#45;&gt;loss</title>\n<path fill=\"none\" stroke=\"#000000\" d=\"M157.5191,-28.2011C168.9806,-32.0826 182.1139,-36.5303 193.9014,-40.5222\"/>\n<polygon fill=\"#000000\" stroke=\"#000000\" points=\"192.8259,-43.8532 203.4202,-43.7458 195.0713,-37.2231 192.8259,-43.8532\"/>\n</g>\n<!-- gradient -->\n<g id=\"node4\" class=\"node\">\n<title>gradient</title>\n<ellipse fill=\"none\" stroke=\"#000000\" cx=\"365.7399\" cy=\"-52\" rx=\"40.8928\" ry=\"18\"/>\n<text text-anchor=\"middle\" x=\"365.7399\" y=\"-48.3\" font-family=\"Times,serif\" font-size=\"14.00\" fill=\"#000000\">gradient</text>\n</g>\n<!-- loss&#45;&gt;gradient -->\n<g id=\"edge3\" class=\"edge\">\n<title>loss&#45;&gt;gradient</title>\n<path fill=\"none\" stroke=\"#000000\" d=\"M255.0473,-52C272.0415,-52 294.4481,-52 314.6545,-52\"/>\n<polygon fill=\"#000000\" stroke=\"#000000\" points=\"314.671,-55.5001 324.671,-52 314.671,-48.5001 314.671,-55.5001\"/>\n</g>\n<!-- step -->\n<g id=\"node5\" class=\"node\">\n<title>step</title>\n<ellipse fill=\"none\" stroke=\"#000000\" cx=\"470.6863\" cy=\"-18\" rx=\"27\" ry=\"18\"/>\n<text text-anchor=\"middle\" x=\"470.6863\" y=\"-14.3\" font-family=\"Times,serif\" font-size=\"14.00\" fill=\"#000000\">step</text>\n</g>\n<!-- gradient&#45;&gt;step -->\n<g id=\"edge4\" class=\"edge\">\n<title>gradient&#45;&gt;step</title>\n<path fill=\"none\" stroke=\"#000000\" d=\"M398.9456,-41.2422C410.9558,-37.3512 424.5297,-32.9536 436.6132,-29.0388\"/>\n<polygon fill=\"#000000\" stroke=\"#000000\" points=\"437.9112,-32.2975 446.3457,-25.8857 435.7537,-25.6382 437.9112,-32.2975\"/>\n</g>\n<!-- step&#45;&gt;predict -->\n<g id=\"edge6\" class=\"edge\">\n<title>step&#45;&gt;predict</title>\n<path fill=\"none\" stroke=\"#000000\" d=\"M443.4266,-18C384.9297,-18 246.7861,-18 174.0495,-18\"/>\n<polygon fill=\"#000000\" stroke=\"#000000\" points=\"173.8098,-14.5001 163.8098,-18 173.8097,-21.5001 173.8098,-14.5001\"/>\n<text text-anchor=\"middle\" x=\"289.7935\" y=\"-21.8\" font-family=\"Times,serif\" font-size=\"14.00\" fill=\"#000000\">repeat</text>\n</g>\n<!-- stop -->\n<g id=\"node6\" class=\"node\">\n<title>stop</title>\n<ellipse fill=\"none\" stroke=\"#000000\" cx=\"561.6863\" cy=\"-18\" rx=\"27\" ry=\"18\"/>\n<text text-anchor=\"middle\" x=\"561.6863\" y=\"-14.3\" font-family=\"Times,serif\" font-size=\"14.00\" fill=\"#000000\">stop</text>\n</g>\n<!-- step&#45;&gt;stop -->\n<g id=\"edge5\" class=\"edge\">\n<title>step&#45;&gt;stop</title>\n<path fill=\"none\" stroke=\"#000000\" d=\"M497.9893,-18C506.2676,-18 515.508,-18 524.3268,-18\"/>\n<polygon fill=\"#000000\" stroke=\"#000000\" points=\"524.4026,-21.5001 534.4025,-18 524.4025,-14.5001 524.4026,-21.5001\"/>\n</g>\n</g>\n</svg>\n"
          },
          "metadata": {
            "tags": []
          },
          "execution_count": 73
        }
      ]
    },
    {
      "cell_type": "code",
      "metadata": {
        "colab": {
          "base_uri": "https://localhost:8080/",
          "height": 354
        },
        "id": "GxHLEHO0Bxap",
        "outputId": "bf352f1b-58fa-4387-aa60-62846ae8072d"
      },
      "source": [
        "def f(x): return x**2\n",
        "plot_function(f, \"x\", \"x**2\")\n",
        "plt.scatter(-1.8, f(-1.8), color='red')"
      ],
      "execution_count": null,
      "outputs": [
        {
          "output_type": "stream",
          "text": [
            "/usr/local/lib/python3.7/dist-packages/fastbook/__init__.py:73: UserWarning: Not providing a value for linspace's steps is deprecated and will throw a runtime error in a future release. This warning will appear only once per process. (Triggered internally at  /pytorch/aten/src/ATen/native/RangeFactories.cpp:23.)\n",
            "  x = torch.linspace(min,max)\n"
          ],
          "name": "stderr"
        },
        {
          "output_type": "execute_result",
          "data": {
            "text/plain": [
              "<matplotlib.collections.PathCollection at 0x7ff048ec9bd0>"
            ]
          },
          "metadata": {
            "tags": []
          },
          "execution_count": 74
        },
        {
          "output_type": "display_data",
          "data": {
            "image/png": "[encoded data removed]",
            "text/plain": [
              "<Figure size 432x288 with 1 Axes>"
            ]
          },
          "metadata": {
            "tags": [],
            "needs_background": "light"
          }
        }
      ]
    },
    {
      "cell_type": "code",
      "metadata": {
        "id": "HgLzTEphC4-w"
      },
      "source": [
        "xt = tensor(3.).requires_grad_() #_ at the end means modify in place"
      ],
      "execution_count": null,
      "outputs": []
    },
    {
      "cell_type": "code",
      "metadata": {
        "colab": {
          "base_uri": "https://localhost:8080/"
        },
        "id": "0kDzgyspED9E",
        "outputId": "8cf22297-0928-4e13-c74e-1d6c058c4eb1"
      },
      "source": [
        "yt = f(xt)\n",
        "yt"
      ],
      "execution_count": null,
      "outputs": [
        {
          "output_type": "execute_result",
          "data": {
            "text/plain": [
              "tensor(9., grad_fn=<PowBackward0>)"
            ]
          },
          "metadata": {
            "tags": []
          },
          "execution_count": 76
        }
      ]
    },
    {
      "cell_type": "code",
      "metadata": {
        "id": "ClVv5-__N1hz"
      },
      "source": [
        "yt.backward()"
      ],
      "execution_count": null,
      "outputs": []
    },
    {
      "cell_type": "code",
      "metadata": {
        "colab": {
          "base_uri": "https://localhost:8080/"
        },
        "id": "Hh53CThvN2ym",
        "outputId": "4841ff38-ca61-4874-cf17-0ed047ba3e50"
      },
      "source": [
        "xt.grad  #the derivative of x**@ is 2*x, xt was 3 so xt grad is the derivative 3*x = 6"
      ],
      "execution_count": null,
      "outputs": [
        {
          "output_type": "execute_result",
          "data": {
            "text/plain": [
              "tensor(6.)"
            ]
          },
          "metadata": {
            "tags": []
          },
          "execution_count": 78
        }
      ]
    },
    {
      "cell_type": "code",
      "metadata": {
        "colab": {
          "base_uri": "https://localhost:8080/"
        },
        "id": "isQLRR51OEMO",
        "outputId": "d0b0f365-87a2-4b56-915a-5ce55efd5dc8"
      },
      "source": [
        "xt = tensor([3.,4.,10.]).requires_grad_()\n",
        "xt"
      ],
      "execution_count": null,
      "outputs": [
        {
          "output_type": "execute_result",
          "data": {
            "text/plain": [
              "tensor([ 3.,  4., 10.], requires_grad=True)"
            ]
          },
          "metadata": {
            "tags": []
          },
          "execution_count": 79
        }
      ]
    },
    {
      "cell_type": "code",
      "metadata": {
        "colab": {
          "base_uri": "https://localhost:8080/"
        },
        "id": "v0GRUmCoOzgO",
        "outputId": "5215f4c9-87ce-4e1d-bcdc-5f99045153f5"
      },
      "source": [
        "def f(x): return (x**2).sum()\n",
        "\n",
        "yt = f(xt)\n",
        "yt"
      ],
      "execution_count": null,
      "outputs": [
        {
          "output_type": "execute_result",
          "data": {
            "text/plain": [
              "tensor(125., grad_fn=<SumBackward0>)"
            ]
          },
          "metadata": {
            "tags": []
          },
          "execution_count": 80
        }
      ]
    },
    {
      "cell_type": "code",
      "metadata": {
        "colab": {
          "base_uri": "https://localhost:8080/"
        },
        "id": "O0afqXNqO71E",
        "outputId": "a7473be8-5a39-4eb7-fa86-ed001686a3f5"
      },
      "source": [
        "yt.backward()\n",
        "xt.grad"
      ],
      "execution_count": null,
      "outputs": [
        {
          "output_type": "execute_result",
          "data": {
            "text/plain": [
              "tensor([ 6.,  8., 20.])"
            ]
          },
          "metadata": {
            "tags": []
          },
          "execution_count": 81
        }
      ]
    },
    {
      "cell_type": "markdown",
      "metadata": {
        "id": "8BreVZH_QU6l"
      },
      "source": [
        "Stepping with a learning rate : time stamp 1:52"
      ]
    },
    {
      "cell_type": "code",
      "metadata": {
        "colab": {
          "base_uri": "https://localhost:8080/"
        },
        "id": "Sh9MSfCmQadc",
        "outputId": "91a9168c-b175-4a09-83ac-7710eeea2355"
      },
      "source": [
        "time = torch.arange(0,20).float(); time"
      ],
      "execution_count": null,
      "outputs": [
        {
          "output_type": "execute_result",
          "data": {
            "text/plain": [
              "tensor([ 0.,  1.,  2.,  3.,  4.,  5.,  6.,  7.,  8.,  9., 10., 11., 12., 13., 14., 15., 16., 17., 18., 19.])"
            ]
          },
          "metadata": {
            "tags": []
          },
          "execution_count": 82
        }
      ]
    },
    {
      "cell_type": "code",
      "metadata": {
        "colab": {
          "base_uri": "https://localhost:8080/",
          "height": 265
        },
        "id": "q5aurjx0MWh0",
        "outputId": "aeb38385-2e9e-41e3-c71a-dae85d42e67f"
      },
      "source": [
        "speed = torch.randn(20)*3.1 + 0.75*(time-9.5)**2 + 1\n",
        "plt.scatter(time,speed);"
      ],
      "execution_count": null,
      "outputs": [
        {
          "output_type": "display_data",
          "data": {
            "image/png": "[encoded data removed]",
            "text/plain": [
              "<Figure size 432x288 with 1 Axes>"
            ]
          },
          "metadata": {
            "tags": [],
            "needs_background": "light"
          }
        }
      ]
    },
    {
      "cell_type": "markdown",
      "metadata": {
        "id": "FL8LaonvND0E"
      },
      "source": [
        "Speed of the roller coaster is a function of the form `a*(time**2)+(b*time)+c`."
      ]
    },
    {
      "cell_type": "code",
      "metadata": {
        "id": "iJOSyzqyMY4R"
      },
      "source": [
        "def f(t, params):\n",
        "    a,b,c = params\n",
        "    return a*(t**2) + (b*t) + c"
      ],
      "execution_count": null,
      "outputs": []
    },
    {
      "cell_type": "code",
      "metadata": {
        "id": "KF3M6MtyN4I1"
      },
      "source": [
        "def mse(preds, targets): return ((preds-targets)**2).mean().sqrt()"
      ],
      "execution_count": null,
      "outputs": []
    },
    {
      "cell_type": "code",
      "metadata": {
        "id": "g7kUql7sN4FI"
      },
      "source": [
        "params = torch.randn(3).requires_grad_()  #assigne random values to a,b and C\n",
        "orig_params = params.clone()"
      ],
      "execution_count": null,
      "outputs": []
    },
    {
      "cell_type": "code",
      "metadata": {
        "id": "cmG1fTUhOtwi"
      },
      "source": [
        "preds = f(time, params)"
      ],
      "execution_count": null,
      "outputs": []
    },
    {
      "cell_type": "code",
      "metadata": {
        "colab": {
          "base_uri": "https://localhost:8080/",
          "height": 269
        },
        "id": "L9Z9w0E2N4Bz",
        "outputId": "5e173061-c62a-4901-b562-4895e1871315"
      },
      "source": [
        "def show_preds(preds, ax=None):\n",
        "    if ax is None: ax=plt.subplots()[1]\n",
        "    ax.scatter(time, speed)\n",
        "    ax.scatter(time, to_np(preds), color='red')\n",
        "    ax.set_ylim(-300,100)\n",
        "\n",
        "show_preds(preds)"
      ],
      "execution_count": null,
      "outputs": [
        {
          "output_type": "display_data",
          "data": {
            "image/png": "[encoded data removed]",
            "text/plain": [
              "<Figure size 432x288 with 1 Axes>"
            ]
          },
          "metadata": {
            "tags": [],
            "needs_background": "light"
          }
        }
      ]
    },
    {
      "cell_type": "code",
      "metadata": {
        "colab": {
          "base_uri": "https://localhost:8080/"
        },
        "id": "4eE0PwQ1N3ar",
        "outputId": "669d514e-b245-4a89-d0dd-087106ce5430"
      },
      "source": [
        "loss = mse(preds, speed)\n",
        "loss"
      ],
      "execution_count": null,
      "outputs": [
        {
          "output_type": "execute_result",
          "data": {
            "text/plain": [
              "tensor(160.7062, grad_fn=<SqrtBackward>)"
            ]
          },
          "metadata": {
            "tags": []
          },
          "execution_count": 89
        }
      ]
    },
    {
      "cell_type": "code",
      "metadata": {
        "colab": {
          "base_uri": "https://localhost:8080/"
        },
        "id": "_0AG-UulSkxw",
        "outputId": "65fd71c5-39cf-467f-e877-96b522dfb4c2"
      },
      "source": [
        "loss.backward()\n",
        "params.grad"
      ],
      "execution_count": null,
      "outputs": [
        {
          "output_type": "execute_result",
          "data": {
            "text/plain": [
              "tensor([-165.5072,  -10.6399,   -0.7901])"
            ]
          },
          "metadata": {
            "tags": []
          },
          "execution_count": 90
        }
      ]
    },
    {
      "cell_type": "code",
      "metadata": {
        "colab": {
          "base_uri": "https://localhost:8080/"
        },
        "id": "33gFNiFoS23E",
        "outputId": "33147d81-909d-4987-824c-47978d8fca43"
      },
      "source": [
        "params.grad * 1e-5"
      ],
      "execution_count": null,
      "outputs": [
        {
          "output_type": "execute_result",
          "data": {
            "text/plain": [
              "tensor([-1.6551e-03, -1.0640e-04, -7.9006e-06])"
            ]
          },
          "metadata": {
            "tags": []
          },
          "execution_count": 91
        }
      ]
    },
    {
      "cell_type": "code",
      "metadata": {
        "colab": {
          "base_uri": "https://localhost:8080/"
        },
        "id": "-avhwHsZTRro",
        "outputId": "adf58204-9c1e-4ea8-8e4a-9c7a9d4c38db"
      },
      "source": [
        "params"
      ],
      "execution_count": null,
      "outputs": [
        {
          "output_type": "execute_result",
          "data": {
            "text/plain": [
              "tensor([-0.7658, -0.7506,  1.3525], requires_grad=True)"
            ]
          },
          "metadata": {
            "tags": []
          },
          "execution_count": 92
        }
      ]
    },
    {
      "cell_type": "code",
      "metadata": {
        "id": "F9cq1cM4Te5g"
      },
      "source": [
        "lr = 1e-5\n",
        "params.data -= lr * params.grad.data #when useing the .data in this calcualtion it does not calcualte the weights\n",
        "params.grad = None"
      ],
      "execution_count": null,
      "outputs": []
    },
    {
      "cell_type": "code",
      "metadata": {
        "colab": {
          "base_uri": "https://localhost:8080/"
        },
        "id": "cZPX3_UAUG1U",
        "outputId": "9e905a6a-04b8-4fc2-d3be-7f4f71bd65c2"
      },
      "source": [
        "preds = f(time,params)\n",
        "mse(preds, speed)"
      ],
      "execution_count": null,
      "outputs": [
        {
          "output_type": "execute_result",
          "data": {
            "text/plain": [
              "tensor(160.4311, grad_fn=<SqrtBackward>)"
            ]
          },
          "metadata": {
            "tags": []
          },
          "execution_count": 94
        }
      ]
    },
    {
      "cell_type": "code",
      "metadata": {
        "colab": {
          "base_uri": "https://localhost:8080/",
          "height": 269
        },
        "id": "P-lxmBWJUGrd",
        "outputId": "6ea3a116-99fe-4d9d-c81c-e9d2ec8cfe58"
      },
      "source": [
        "show_preds(preds)"
      ],
      "execution_count": null,
      "outputs": [
        {
          "output_type": "display_data",
          "data": {
            "image/png": "[encoded data removed]",
            "text/plain": [
              "<Figure size 432x288 with 1 Axes>"
            ]
          },
          "metadata": {
            "tags": [],
            "needs_background": "light"
          }
        }
      ]
    },
    {
      "cell_type": "code",
      "metadata": {
        "id": "DXu8ELwvUGiV"
      },
      "source": [
        "def apply_step(params, prn=True):\n",
        "    preds = f(time, params)\n",
        "    loss = mse(preds, speed)\n",
        "    loss.backward()\n",
        "    params.data -= lr * params.grad.data\n",
        "    params.grad = None\n",
        "    if prn: print(loss.item())\n",
        "    return preds"
      ],
      "execution_count": null,
      "outputs": []
    },
    {
      "cell_type": "code",
      "metadata": {
        "colab": {
          "base_uri": "https://localhost:8080/"
        },
        "id": "B32lOZH9UfAR",
        "outputId": "927ee08d-5c99-46b9-d6b7-00f6e7d9411a"
      },
      "source": [
        "for i in range(10): apply_step(params)"
      ],
      "execution_count": null,
      "outputs": [
        {
          "output_type": "stream",
          "text": [
            "160.43112182617188\n",
            "160.1560821533203\n",
            "159.88107299804688\n",
            "159.60609436035156\n",
            "159.3311309814453\n",
            "159.05621337890625\n",
            "158.78131103515625\n",
            "158.5064239501953\n",
            "158.2315673828125\n",
            "157.9567413330078\n"
          ],
          "name": "stdout"
        }
      ]
    },
    {
      "cell_type": "code",
      "metadata": {
        "id": "1nV45qIJUv_e"
      },
      "source": [
        "params = orig_params.detach().requires_grad_()"
      ],
      "execution_count": null,
      "outputs": []
    },
    {
      "cell_type": "code",
      "metadata": {
        "colab": {
          "base_uri": "https://localhost:8080/",
          "height": 199
        },
        "id": "tFkGXAxoUxBT",
        "outputId": "fa585c01-1e5f-410a-9262-25a42e836231"
      },
      "source": [
        "_,axs = plt.subplots(1,4,figsize=(12,3))\n",
        "for ax in axs: show_preds(apply_step(params, False), ax)\n",
        "plt.tight_layout()"
      ],
      "execution_count": null,
      "outputs": [
        {
          "output_type": "display_data",
          "data": {
            "image/png": "[encoded data removed]",
            "text/plain": [
              "<Figure size 864x216 with 4 Axes>"
            ]
          },
          "metadata": {
            "tags": [],
            "needs_background": "light"
          }
        }
      ]
    },
    {
      "cell_type": "markdown",
      "metadata": {
        "id": "40IrfhLqVWhp"
      },
      "source": [
        "MNIST Loss Function"
      ]
    },
    {
      "cell_type": "code",
      "metadata": {
        "id": "gLFcZd48Uzcm"
      },
      "source": [
        "train_x = torch.cat([stacked_threes, stacked_sevens]).view(-1, 28*28)"
      ],
      "execution_count": null,
      "outputs": []
    },
    {
      "cell_type": "code",
      "metadata": {
        "colab": {
          "base_uri": "https://localhost:8080/"
        },
        "id": "zeTpQiqwc2ZY",
        "outputId": "a2425112-0457-4fac-ea62-26a9b1185b9c"
      },
      "source": [
        "train_y = tensor([1]*len(threes) + [0]*len(sevens)).unsqueeze(1)\n",
        "train_x.shape,train_y.shape"
      ],
      "execution_count": null,
      "outputs": [
        {
          "output_type": "execute_result",
          "data": {
            "text/plain": [
              "(torch.Size([12396, 784]), torch.Size([12396, 1]))"
            ]
          },
          "metadata": {
            "tags": []
          },
          "execution_count": 101
        }
      ]
    },
    {
      "cell_type": "code",
      "metadata": {
        "colab": {
          "base_uri": "https://localhost:8080/"
        },
        "id": "iQbB-3PrdDkz",
        "outputId": "816653a5-6aea-4b01-addf-11048f040d6c"
      },
      "source": [
        "dset = list(zip(train_x,train_y))\n",
        "x,y = dset[0]\n",
        "x.shape,y"
      ],
      "execution_count": null,
      "outputs": [
        {
          "output_type": "execute_result",
          "data": {
            "text/plain": [
              "(torch.Size([784]), tensor([1]))"
            ]
          },
          "metadata": {
            "tags": []
          },
          "execution_count": 102
        }
      ]
    },
    {
      "cell_type": "code",
      "metadata": {
        "id": "dTCoIoFDdEKJ"
      },
      "source": [
        "valid_x = torch.cat([valid_3_tens, valid_7_tens]).view(-1, 28*28)\n",
        "valid_y = tensor([1]*len(valid_3_tens) + [0]*len(valid_7_tens)).unsqueeze(1)\n",
        "valid_dset = list(zip(valid_x,valid_y))"
      ],
      "execution_count": null,
      "outputs": []
    },
    {
      "cell_type": "code",
      "metadata": {
        "id": "mg2NKUpzdJn5"
      },
      "source": [
        "def init_params(size, std=1.0): return (torch.randn(size)*std).requires_grad_()"
      ],
      "execution_count": null,
      "outputs": []
    },
    {
      "cell_type": "code",
      "metadata": {
        "id": "Q17B_BDodVgK"
      },
      "source": [
        "weights = init_params((28*28,1))"
      ],
      "execution_count": null,
      "outputs": []
    },
    {
      "cell_type": "markdown",
      "metadata": {
        "id": "inSmLo9LuZsf"
      },
      "source": [
        "MNIST Loss Funtion\n",
        "\n",
        "x's are going to be pixels"
      ]
    },
    {
      "cell_type": "code",
      "metadata": {
        "id": "_Imq4pHYdX4Z"
      },
      "source": [
        "#torch.cat = concatenate \n",
        "#view changes the shape of the tensor without chaning the contents \n",
        "#     in view \"-1\" is a special character that means all the data\n",
        "train_x = torch.cat([stacked_threes, stacked_sevens]).view(-1, 28*28)"
      ],
      "execution_count": null,
      "outputs": []
    },
    {
      "cell_type": "code",
      "metadata": {
        "colab": {
          "base_uri": "https://localhost:8080/"
        },
        "id": "iZzhAFr-vry6",
        "outputId": "66581fa4-c76e-489c-9eee-8fced55ceee4"
      },
      "source": [
        "#label the images\n",
        "#unsqueeze here turns the vector into a matrix \n",
        "train_y = tensor([1]*len(threes) + [0]*len(sevens)).unsqueeze(1)\n",
        "train_x.shape,train_y.shape"
      ],
      "execution_count": null,
      "outputs": [
        {
          "output_type": "execute_result",
          "data": {
            "text/plain": [
              "(torch.Size([12396, 784]), torch.Size([12396, 1]))"
            ]
          },
          "metadata": {
            "tags": []
          },
          "execution_count": 107
        }
      ]
    },
    {
      "cell_type": "code",
      "metadata": {
        "colab": {
          "base_uri": "https://localhost:8080/"
        },
        "id": "Bov0R63FxQYT",
        "outputId": "d32663c5-fd46-46d6-958d-efc7350c5ea7"
      },
      "source": [
        "# returns a tuple ... zip combines the lists 1 + 1 \n",
        "dset = list(zip(train_x,train_y))\n",
        "x,y = dset[0]\n",
        "x.shape,y"
      ],
      "execution_count": null,
      "outputs": [
        {
          "output_type": "execute_result",
          "data": {
            "text/plain": [
              "(torch.Size([784]), tensor([1]))"
            ]
          },
          "metadata": {
            "tags": []
          },
          "execution_count": 108
        }
      ]
    },
    {
      "cell_type": "code",
      "metadata": {
        "id": "Hs8zfmsKxQB5"
      },
      "source": [
        "valid_x = torch.cat([valid_3_tens, valid_7_tens]).view(-1, 28*28)\n",
        "valid_y = tensor([1]*len(valid_3_tens) + [0]*len(valid_7_tens)).unsqueeze(1)\n",
        "valid_dset = list(zip(valid_x,valid_y))"
      ],
      "execution_count": null,
      "outputs": []
    },
    {
      "cell_type": "code",
      "metadata": {
        "id": "3IydDF4_xP0o"
      },
      "source": [
        "def init_params(size, std=1.0): return (torch.randn(size)*std).requires_grad_()"
      ],
      "execution_count": null,
      "outputs": []
    },
    {
      "cell_type": "code",
      "metadata": {
        "id": "eAkUR83TyLbO"
      },
      "source": [
        "#each pixle needs a weight ... \n",
        "weights = init_params((28*28,1))"
      ],
      "execution_count": null,
      "outputs": []
    },
    {
      "cell_type": "code",
      "metadata": {
        "id": "SmOpWpfpybgR"
      },
      "source": [
        "#weights and bias are the parameters\n",
        "bias = init_params(1)"
      ],
      "execution_count": null,
      "outputs": []
    },
    {
      "cell_type": "code",
      "metadata": {
        "colab": {
          "base_uri": "https://localhost:8080/"
        },
        "id": "jfaxA1NxybdI",
        "outputId": "fcba3ede-b33c-4f1e-fbe7-0f729f56a28b"
      },
      "source": [
        "#this is for 1, need to repeat, don't use a for loop\n",
        "(train_x[0]*weights.T).sum() + bias"
      ],
      "execution_count": null,
      "outputs": [
        {
          "output_type": "execute_result",
          "data": {
            "text/plain": [
              "tensor([-13.2578], grad_fn=<AddBackward0>)"
            ]
          },
          "metadata": {
            "tags": []
          },
          "execution_count": 113
        }
      ]
    },
    {
      "cell_type": "code",
      "metadata": {
        "colab": {
          "base_uri": "https://localhost:8080/"
        },
        "id": "9s4JcchpybZZ",
        "outputId": "7c6ab5b0-54ce-4be4-c137-7b6fb9f39ec2"
      },
      "source": [
        "def linear1(xb): return xb@weights + bias\n",
        "preds = linear1(train_x)\n",
        "preds"
      ],
      "execution_count": null,
      "outputs": [
        {
          "output_type": "execute_result",
          "data": {
            "text/plain": [
              "tensor([[-13.2578],\n",
              "        [ -4.6854],\n",
              "        [-12.4631],\n",
              "        ...,\n",
              "        [-12.4171],\n",
              "        [  2.4253],\n",
              "        [  1.5262]], grad_fn=<AddBackward0>)"
            ]
          },
          "metadata": {
            "tags": []
          },
          "execution_count": 114
        }
      ]
    },
    {
      "cell_type": "code",
      "metadata": {
        "colab": {
          "base_uri": "https://localhost:8080/"
        },
        "id": "5m5R_cmKzRCp",
        "outputId": "89fe8925-0a09-460b-a25c-eabda5dddd20"
      },
      "source": [
        "corrects = (preds>0.5).float() == train_y\n",
        "corrects"
      ],
      "execution_count": null,
      "outputs": [
        {
          "output_type": "execute_result",
          "data": {
            "text/plain": [
              "tensor([[False],\n",
              "        [False],\n",
              "        [False],\n",
              "        ...,\n",
              "        [ True],\n",
              "        [False],\n",
              "        [False]])"
            ]
          },
          "metadata": {
            "tags": []
          },
          "execution_count": 115
        }
      ]
    },
    {
      "cell_type": "code",
      "metadata": {
        "colab": {
          "base_uri": "https://localhost:8080/"
        },
        "id": "uqg7sBsKzodp",
        "outputId": "41f8052b-0a0c-4459-98c2-b7a09891f32a"
      },
      "source": [
        "#.item in here changes the result from a rank 1 tensor to a number\n",
        "corrects.float().mean().item()"
      ],
      "execution_count": null,
      "outputs": [
        {
          "output_type": "execute_result",
          "data": {
            "text/plain": [
              "0.4353823959827423"
            ]
          },
          "metadata": {
            "tags": []
          },
          "execution_count": 116
        }
      ]
    },
    {
      "cell_type": "code",
      "metadata": {
        "id": "a87fKeuLzobM"
      },
      "source": [
        "with torch.no_grad():\n",
        "  weights[0] *= 1.0001"
      ],
      "execution_count": null,
      "outputs": []
    },
    {
      "cell_type": "code",
      "metadata": {
        "colab": {
          "base_uri": "https://localhost:8080/"
        },
        "id": "XGtxygd-zoYL",
        "outputId": "3daf7801-16bc-464f-b4a4-f52c2922e1ad"
      },
      "source": [
        "preds = linear1(train_x)\n",
        "((preds>0.0).float() == train_y).float().mean().item()"
      ],
      "execution_count": null,
      "outputs": [
        {
          "output_type": "execute_result",
          "data": {
            "text/plain": [
              "0.42739593982696533"
            ]
          },
          "metadata": {
            "tags": []
          },
          "execution_count": 120
        }
      ]
    },
    {
      "cell_type": "code",
      "metadata": {
        "id": "dgS5cEzd0Lu1"
      },
      "source": [
        "trgts  = tensor([1,0,1])\n",
        "prds   = tensor([0.9, 0.4, 0.2])"
      ],
      "execution_count": null,
      "outputs": []
    },
    {
      "cell_type": "code",
      "metadata": {
        "id": "GcA6c0Ar7N5l"
      },
      "source": [
        "#trgts  = tensor([1,0,1])\n",
        "#prds   = 1-tensor([1, 0, 1])"
      ],
      "execution_count": null,
      "outputs": []
    },
    {
      "cell_type": "code",
      "metadata": {
        "id": "tubSDVwe06U_"
      },
      "source": [
        "def mnist_loss(predictions, targets):\n",
        "    return torch.where(targets==1, 1-predictions, predictions).mean()"
      ],
      "execution_count": null,
      "outputs": []
    },
    {
      "cell_type": "code",
      "metadata": {
        "colab": {
          "base_uri": "https://localhost:8080/"
        },
        "id": "59pO4NNK7I8Y",
        "outputId": "2273b20d-5e95-4c21-b4b9-5388f3a2bf26"
      },
      "source": [
        "torch.where(trgts==1, 1-prds, prds)"
      ],
      "execution_count": null,
      "outputs": [
        {
          "output_type": "execute_result",
          "data": {
            "text/plain": [
              "tensor([0.1000, 0.4000, 0.8000])"
            ]
          },
          "metadata": {
            "tags": []
          },
          "execution_count": 124
        }
      ]
    },
    {
      "cell_type": "code",
      "metadata": {
        "colab": {
          "base_uri": "https://localhost:8080/"
        },
        "id": "FRC9Kifh7KNX",
        "outputId": "a2d687e4-bd88-4f09-ef8e-599e3a32d68b"
      },
      "source": [
        "#take the mean\n",
        "mnist_loss(prds,trgts)"
      ],
      "execution_count": null,
      "outputs": [
        {
          "output_type": "execute_result",
          "data": {
            "text/plain": [
              "tensor(0.4333)"
            ]
          },
          "metadata": {
            "tags": []
          },
          "execution_count": 125
        }
      ]
    },
    {
      "cell_type": "markdown",
      "metadata": {
        "id": "CiToGokV8HL2"
      },
      "source": [
        "Sigmoid"
      ]
    },
    {
      "cell_type": "code",
      "metadata": {
        "id": "EKaNrLMq8QQJ"
      },
      "source": [
        "def sigmoid(x): return 1/(1+torch.exp(-x))"
      ],
      "execution_count": null,
      "outputs": []
    },
    {
      "cell_type": "code",
      "metadata": {
        "colab": {
          "base_uri": "https://localhost:8080/"
        },
        "id": "jlh1mH2B8Qpd",
        "outputId": "bf006567-e914-41bf-8359-ede172c024d4"
      },
      "source": [
        "math.e"
      ],
      "execution_count": null,
      "outputs": [
        {
          "output_type": "execute_result",
          "data": {
            "text/plain": [
              "2.718281828459045"
            ]
          },
          "metadata": {
            "tags": []
          },
          "execution_count": 127
        }
      ]
    },
    {
      "cell_type": "code",
      "metadata": {
        "colab": {
          "base_uri": "https://localhost:8080/"
        },
        "id": "5whky2tG8lvG",
        "outputId": "4a503ccf-c301-414b-b3d1-bc34e9809208"
      },
      "source": [
        "torch.exp(tensor(1.))"
      ],
      "execution_count": null,
      "outputs": [
        {
          "output_type": "execute_result",
          "data": {
            "text/plain": [
              "tensor(2.7183)"
            ]
          },
          "metadata": {
            "tags": []
          },
          "execution_count": 128
        }
      ]
    },
    {
      "cell_type": "code",
      "metadata": {
        "colab": {
          "base_uri": "https://localhost:8080/",
          "height": 281
        },
        "id": "CMWr8rPK8Xo9",
        "outputId": "763032f1-6bb1-4f9c-f9b7-013c9405f7f3"
      },
      "source": [
        "plot_function(torch.sigmoid, title='Sigmoid', min=-4, max=4)"
      ],
      "execution_count": null,
      "outputs": [
        {
          "output_type": "display_data",
          "data": {
            "image/png": "[encoded data removed]",
            "text/plain": [
              "<Figure size 432x288 with 1 Axes>"
            ]
          },
          "metadata": {
            "tags": [],
            "needs_background": "light"
          }
        }
      ]
    },
    {
      "cell_type": "code",
      "metadata": {
        "id": "m3HZMQMk8bhH"
      },
      "source": [
        "def mnist_loss(predictions, targets):\n",
        "    predictions = predictions.sigmoid()\n",
        "    return torch.where(targets==1, 1-predictions, predictions).mean()"
      ],
      "execution_count": null,
      "outputs": []
    },
    {
      "cell_type": "markdown",
      "metadata": {
        "id": "Z9Jz4VLo-B_d"
      },
      "source": [
        "Data Loaders"
      ]
    },
    {
      "cell_type": "code",
      "metadata": {
        "colab": {
          "base_uri": "https://localhost:8080/"
        },
        "id": "8SitzGEo9C5-",
        "outputId": "d92a6f39-0c23-4669-fde0-7d9763eb992f"
      },
      "source": [
        "coll = range(30)\n",
        "dl = DataLoader(coll, batch_size=10, shuffle=True)\n",
        "list(dl)"
      ],
      "execution_count": null,
      "outputs": [
        {
          "output_type": "execute_result",
          "data": {
            "text/plain": [
              "[tensor([ 7, 24, 26, 17, 21,  5, 23, 19, 20,  9]),\n",
              " tensor([15, 14,  4, 27,  0, 18, 28, 13, 29,  3]),\n",
              " tensor([ 2, 11, 12, 22,  1, 10,  8, 25, 16,  6])]"
            ]
          },
          "metadata": {
            "tags": []
          },
          "execution_count": 132
        }
      ]
    },
    {
      "cell_type": "code",
      "metadata": {
        "colab": {
          "base_uri": "https://localhost:8080/"
        },
        "id": "glAzPV0n-q2v",
        "outputId": "57c1904a-408c-4ab5-9d13-278f589babfa"
      },
      "source": [
        "ds = L(enumerate(string.ascii_lowercase))\n",
        "ds"
      ],
      "execution_count": null,
      "outputs": [
        {
          "output_type": "execute_result",
          "data": {
            "text/plain": [
              "(#26) [(0, 'a'),(1, 'b'),(2, 'c'),(3, 'd'),(4, 'e'),(5, 'f'),(6, 'g'),(7, 'h'),(8, 'i'),(9, 'j')...]"
            ]
          },
          "metadata": {
            "tags": []
          },
          "execution_count": 133
        }
      ]
    },
    {
      "cell_type": "code",
      "metadata": {
        "colab": {
          "base_uri": "https://localhost:8080/"
        },
        "id": "Z7aIf9lI-qwk",
        "outputId": "0c54691a-cc1d-4be4-88ac-3cdf65f016c5"
      },
      "source": [
        "dl = DataLoader(ds, batch_size=6, shuffle=True)\n",
        "list(dl)"
      ],
      "execution_count": null,
      "outputs": [
        {
          "output_type": "execute_result",
          "data": {
            "text/plain": [
              "[(tensor([17, 18, 10, 22,  8, 14]), ('r', 's', 'k', 'w', 'i', 'o')),\n",
              " (tensor([20, 15,  9, 13, 21, 12]), ('u', 'p', 'j', 'n', 'v', 'm')),\n",
              " (tensor([ 7, 25,  6,  5, 11, 23]), ('h', 'z', 'g', 'f', 'l', 'x')),\n",
              " (tensor([ 1,  3,  0, 24, 19, 16]), ('b', 'd', 'a', 'y', 't', 'q')),\n",
              " (tensor([2, 4]), ('c', 'e'))]"
            ]
          },
          "metadata": {
            "tags": []
          },
          "execution_count": 134
        }
      ]
    },
    {
      "cell_type": "markdown",
      "metadata": {
        "id": "5ZSa6JACARnH"
      },
      "source": [
        "```python\n",
        "for x,y in dl:                         #for ... in dl returns a tuple, destructure it x,y\n",
        "    pred = model(x)                    #calculate the prediction\n",
        "    loss = loss_func(pred, y)          #calculate the loss\n",
        "    loss.backward()                    #calculate the grad\n",
        "    parameters -= parameters.grad * lr #update the parameters\n",
        "```"
      ]
    },
    {
      "cell_type": "code",
      "metadata": {
        "id": "C5oRs9EP-qk6"
      },
      "source": [
        "# initialise params\n",
        "weights = init_params((28*28,1))\n",
        "bias = init_params(1)"
      ],
      "execution_count": null,
      "outputs": []
    },
    {
      "cell_type": "code",
      "metadata": {
        "colab": {
          "base_uri": "https://localhost:8080/"
        },
        "id": "cl2A1HzlAxFs",
        "outputId": "de14b49b-ca97-44ef-c750-0b04244623c9"
      },
      "source": [
        "# creat dataloader\n",
        "dl = DataLoader(dset, batch_size=256)\n",
        "xb,yb = first(dl)   #grabes the first thing in a the dl\n",
        "xb.shape,yb.shape"
      ],
      "execution_count": null,
      "outputs": [
        {
          "output_type": "execute_result",
          "data": {
            "text/plain": [
              "(torch.Size([256, 784]), torch.Size([256, 1]))"
            ]
          },
          "metadata": {
            "tags": []
          },
          "execution_count": 136
        }
      ]
    },
    {
      "cell_type": "code",
      "metadata": {
        "id": "S0xDPbDgA3gC"
      },
      "source": [
        "valid_dl = DataLoader(valid_dset, batch_size=256)"
      ],
      "execution_count": null,
      "outputs": []
    },
    {
      "cell_type": "code",
      "metadata": {
        "colab": {
          "base_uri": "https://localhost:8080/"
        },
        "id": "aZwL790yA_80",
        "outputId": "4464fc1d-bf86-48d1-e940-f0254a874b36"
      },
      "source": [
        "batch = train_x[:4]\n",
        "batch.shape"
      ],
      "execution_count": null,
      "outputs": [
        {
          "output_type": "execute_result",
          "data": {
            "text/plain": [
              "torch.Size([4, 784])"
            ]
          },
          "metadata": {
            "tags": []
          },
          "execution_count": 138
        }
      ]
    },
    {
      "cell_type": "code",
      "metadata": {
        "colab": {
          "base_uri": "https://localhost:8080/"
        },
        "id": "GeF5-vM8BKk0",
        "outputId": "9eace4ff-6a0e-4f0d-93cc-d5d911c165fe"
      },
      "source": [
        "preds = linear1(batch)\n",
        "preds"
      ],
      "execution_count": null,
      "outputs": [
        {
          "output_type": "execute_result",
          "data": {
            "text/plain": [
              "tensor([[-6.0345],\n",
              "        [ 4.8424],\n",
              "        [-6.8445],\n",
              "        [-5.8458]], grad_fn=<AddBackward0>)"
            ]
          },
          "metadata": {
            "tags": []
          },
          "execution_count": 139
        }
      ]
    },
    {
      "cell_type": "code",
      "metadata": {
        "colab": {
          "base_uri": "https://localhost:8080/"
        },
        "id": "sZq000W2BRm-",
        "outputId": "b3c6d922-0774-45e4-eaf9-f67f8c00e407"
      },
      "source": [
        "loss = mnist_loss(preds, train_y[:4])\n",
        "loss"
      ],
      "execution_count": null,
      "outputs": [
        {
          "output_type": "execute_result",
          "data": {
            "text/plain": [
              "tensor(0.7504, grad_fn=<MeanBackward0>)"
            ]
          },
          "metadata": {
            "tags": []
          },
          "execution_count": 140
        }
      ]
    },
    {
      "cell_type": "code",
      "metadata": {
        "colab": {
          "base_uri": "https://localhost:8080/"
        },
        "id": "M8RdDQLdBV0M",
        "outputId": "ae1c1655-6c02-43e5-9c3e-f40c84742eaf"
      },
      "source": [
        "loss.backward()\n",
        "weights.grad.shape,weights.grad.mean(),bias.grad"
      ],
      "execution_count": null,
      "outputs": [
        {
          "output_type": "execute_result",
          "data": {
            "text/plain": [
              "(torch.Size([784, 1]), tensor(-0.0005), tensor([-0.0035]))"
            ]
          },
          "metadata": {
            "tags": []
          },
          "execution_count": 141
        }
      ]
    },
    {
      "cell_type": "code",
      "metadata": {
        "id": "FKE_xtslB36t"
      },
      "source": [
        "def calc_grad(xb, yb, model):\n",
        "    preds = model(xb)\n",
        "    loss = mnist_loss(preds, yb)\n",
        "    loss.backward()"
      ],
      "execution_count": null,
      "outputs": []
    },
    {
      "cell_type": "code",
      "metadata": {
        "colab": {
          "base_uri": "https://localhost:8080/"
        },
        "id": "a64EIG2cB_95",
        "outputId": "0b377f46-d7f9-4df2-f3a8-93456b69d842"
      },
      "source": [
        "calc_grad(batch, train_y[:4], linear1)\n",
        "weights.grad.mean(),bias.grad"
      ],
      "execution_count": null,
      "outputs": [
        {
          "output_type": "execute_result",
          "data": {
            "text/plain": [
              "(tensor(-0.0011), tensor([-0.0070]))"
            ]
          },
          "metadata": {
            "tags": []
          },
          "execution_count": 143
        }
      ]
    },
    {
      "cell_type": "code",
      "metadata": {
        "colab": {
          "base_uri": "https://localhost:8080/"
        },
        "id": "xXgal5eGC0ZQ",
        "outputId": "1d32ffcc-5f90-40c4-afca-adabeff7d574"
      },
      "source": [
        "calc_grad(batch, train_y[:4], linear1)\n",
        "weights.grad.mean(),bias.grad"
      ],
      "execution_count": null,
      "outputs": [
        {
          "output_type": "execute_result",
          "data": {
            "text/plain": [
              "(tensor(-0.0016), tensor([-0.0106]))"
            ]
          },
          "metadata": {
            "tags": []
          },
          "execution_count": 144
        }
      ]
    },
    {
      "cell_type": "code",
      "metadata": {
        "colab": {
          "base_uri": "https://localhost:8080/"
        },
        "id": "8ZOXqcA1ExiS",
        "outputId": "b34f9b4f-ddab-462c-a96b-6e4f54c8786a"
      },
      "source": [
        "calc_grad(batch, train_y[:4], linear1)\n",
        "weights.grad.mean(),bias.grad"
      ],
      "execution_count": null,
      "outputs": [
        {
          "output_type": "execute_result",
          "data": {
            "text/plain": [
              "(tensor(-0.0021), tensor([-0.0141]))"
            ]
          },
          "metadata": {
            "tags": []
          },
          "execution_count": 145
        }
      ]
    },
    {
      "cell_type": "code",
      "metadata": {
        "id": "GTLKLD_5Gn5d"
      },
      "source": [
        "weights.grad.zero_()\n",
        "bias.grad.zero_();"
      ],
      "execution_count": null,
      "outputs": []
    },
    {
      "cell_type": "code",
      "metadata": {
        "id": "ij548D7xG1ux"
      },
      "source": [
        "def train_epoch(model, lr, params):\n",
        "    for xb,yb in dl:\n",
        "        calc_grad(xb, yb, model)\n",
        "        for p in params:\n",
        "            p.data -= p.grad*lr\n",
        "            p.grad.zero_()"
      ],
      "execution_count": null,
      "outputs": []
    },
    {
      "cell_type": "code",
      "metadata": {
        "colab": {
          "base_uri": "https://localhost:8080/"
        },
        "id": "918QT69THRgP",
        "outputId": "d3c21633-c569-414b-ef3f-a6e81d4b9cce"
      },
      "source": [
        "(preds>0.0).float() == train_y[:4]"
      ],
      "execution_count": null,
      "outputs": [
        {
          "output_type": "execute_result",
          "data": {
            "text/plain": [
              "tensor([[False],\n",
              "        [ True],\n",
              "        [False],\n",
              "        [False]])"
            ]
          },
          "metadata": {
            "tags": []
          },
          "execution_count": 148
        }
      ]
    },
    {
      "cell_type": "code",
      "metadata": {
        "id": "a-eNhQzlLNRt"
      },
      "source": [
        "def batch_accuracy(xb, yb):\n",
        "    preds = xb.sigmoid()\n",
        "    correct = (preds>0.5) == yb\n",
        "    return correct.float().mean()"
      ],
      "execution_count": null,
      "outputs": []
    },
    {
      "cell_type": "code",
      "metadata": {
        "colab": {
          "base_uri": "https://localhost:8080/"
        },
        "id": "h6p1SG_sLOBA",
        "outputId": "f04e6166-c2eb-4e79-8da0-9de63129ed56"
      },
      "source": [
        "batch_accuracy(linear1(batch), train_y[:4])"
      ],
      "execution_count": null,
      "outputs": [
        {
          "output_type": "execute_result",
          "data": {
            "text/plain": [
              "tensor(0.2500)"
            ]
          },
          "metadata": {
            "tags": []
          },
          "execution_count": 150
        }
      ]
    },
    {
      "cell_type": "code",
      "metadata": {
        "id": "aBv0KHciLRV-"
      },
      "source": [
        "def validate_epoch(model):\n",
        "    accs = [batch_accuracy(model(xb), yb) for xb,yb in valid_dl]\n",
        "    return round(torch.stack(accs).mean().item(), 4)"
      ],
      "execution_count": null,
      "outputs": []
    },
    {
      "cell_type": "code",
      "metadata": {
        "colab": {
          "base_uri": "https://localhost:8080/"
        },
        "id": "oIt8rhdoL4jp",
        "outputId": "8e5f050f-3a99-4387-d100-77c712d8e808"
      },
      "source": [
        "validate_epoch(linear1)"
      ],
      "execution_count": null,
      "outputs": [
        {
          "output_type": "execute_result",
          "data": {
            "text/plain": [
              "0.4043"
            ]
          },
          "metadata": {
            "tags": []
          },
          "execution_count": 152
        }
      ]
    },
    {
      "cell_type": "code",
      "metadata": {
        "colab": {
          "base_uri": "https://localhost:8080/"
        },
        "id": "PFO31C7jMAdb",
        "outputId": "6b9f3038-2a4b-4079-f2b6-f16d91c7faaa"
      },
      "source": [
        "lr = 1.\n",
        "params = weights,bias\n",
        "train_epoch(linear1, lr, params)\n",
        "validate_epoch(linear1)"
      ],
      "execution_count": null,
      "outputs": [
        {
          "output_type": "execute_result",
          "data": {
            "text/plain": [
              "0.6063"
            ]
          },
          "metadata": {
            "tags": []
          },
          "execution_count": 153
        }
      ]
    },
    {
      "cell_type": "code",
      "metadata": {
        "colab": {
          "base_uri": "https://localhost:8080/"
        },
        "id": "R-an5ElBMbwr",
        "outputId": "59e7a984-e1f2-426e-cd27-3eb010cb1d84"
      },
      "source": [
        "for i in range(20):\n",
        "    train_epoch(linear1, lr, params)\n",
        "    print(validate_epoch(linear1), end=' ')"
      ],
      "execution_count": null,
      "outputs": [
        {
          "output_type": "stream",
          "text": [
            "0.8066 0.8939 0.9237 0.9408 0.9511 0.9545 0.957 0.9584 0.9604 0.9623 0.9633 0.9638 0.9657 0.9667 0.9672 0.9677 0.9677 0.9707 0.9707 0.9721 "
          ],
          "name": "stdout"
        }
      ]
    },
    {
      "cell_type": "code",
      "metadata": {
        "id": "CqaXLUSZMcW0"
      },
      "source": [
        "linear_model = nn.Linear(28*28,1)"
      ],
      "execution_count": null,
      "outputs": []
    },
    {
      "cell_type": "code",
      "metadata": {
        "colab": {
          "base_uri": "https://localhost:8080/"
        },
        "id": "x28HA2GWM4Uf",
        "outputId": "e75a54d1-1b9b-4674-98ee-bbadbfaf5d20"
      },
      "source": [
        "w,b = linear_model.parameters()\n",
        "w.shape,b.shape"
      ],
      "execution_count": null,
      "outputs": [
        {
          "output_type": "execute_result",
          "data": {
            "text/plain": [
              "(torch.Size([1, 784]), torch.Size([1]))"
            ]
          },
          "metadata": {
            "tags": []
          },
          "execution_count": 156
        }
      ]
    },
    {
      "cell_type": "code",
      "metadata": {
        "id": "_H8waNJlNCuW"
      },
      "source": [
        "class BasicOptim:\n",
        "    def __init__(self,params,lr): self.params,self.lr = list(params),lr\n",
        "\n",
        "    def step(self, *args, **kwargs):\n",
        "        for p in self.params: p.data -= p.grad.data * self.lr\n",
        "\n",
        "    def zero_grad(self, *args, **kwargs):\n",
        "        for p in self.params: p.grad = None"
      ],
      "execution_count": null,
      "outputs": []
    },
    {
      "cell_type": "code",
      "metadata": {
        "id": "JOpi-ndrNQQp"
      },
      "source": [
        "opt = BasicOptim(linear_model.parameters(), lr)"
      ],
      "execution_count": null,
      "outputs": []
    },
    {
      "cell_type": "code",
      "metadata": {
        "id": "V4UNooxuNXsx"
      },
      "source": [
        "def train_epoch(model):\n",
        "    for xb,yb in dl:\n",
        "        calc_grad(xb, yb, model)\n",
        "        opt.step()\n",
        "        opt.zero_grad()"
      ],
      "execution_count": null,
      "outputs": []
    },
    {
      "cell_type": "code",
      "metadata": {
        "colab": {
          "base_uri": "https://localhost:8080/"
        },
        "id": "Lw37OD8cNbvg",
        "outputId": "1d852ecb-b9b0-4f21-8615-8caf60e902ea"
      },
      "source": [
        "validate_epoch(linear_model)"
      ],
      "execution_count": null,
      "outputs": [
        {
          "output_type": "execute_result",
          "data": {
            "text/plain": [
              "0.3647"
            ]
          },
          "metadata": {
            "tags": []
          },
          "execution_count": 160
        }
      ]
    },
    {
      "cell_type": "code",
      "metadata": {
        "id": "dAW4_xr7NjJz"
      },
      "source": [
        "def train_model(model, epochs):\n",
        "    for i in range(epochs):\n",
        "        train_epoch(model)\n",
        "        print(validate_epoch(model), end=' ')"
      ],
      "execution_count": null,
      "outputs": []
    },
    {
      "cell_type": "code",
      "metadata": {
        "colab": {
          "base_uri": "https://localhost:8080/"
        },
        "id": "ZzzybA-PNj9H",
        "outputId": "d8a4a3e4-a261-4fbf-9838-678d0be5344d"
      },
      "source": [
        "train_model(linear_model, 20)"
      ],
      "execution_count": null,
      "outputs": [
        {
          "output_type": "stream",
          "text": [
            "0.4932 0.8476 0.8286 0.9106 0.9336 0.9472 0.956 0.9614 0.9653 0.9672 0.9692 0.9717 0.9731 0.9746 0.9761 0.9765 0.9775 0.978 0.9785 0.9785 "
          ],
          "name": "stdout"
        }
      ]
    },
    {
      "cell_type": "code",
      "metadata": {
        "colab": {
          "base_uri": "https://localhost:8080/"
        },
        "id": "YduYJNOqOhUw",
        "outputId": "17f52a33-3ec0-4054-cbe6-b5562535f478"
      },
      "source": [
        "linear_model = nn.Linear(28*28,1)\n",
        "opt = SGD(linear_model.parameters(), lr)\n",
        "train_model(linear_model, 20)"
      ],
      "execution_count": null,
      "outputs": [
        {
          "output_type": "stream",
          "text": [
            "0.4932 0.8784 0.8232 0.9087 0.9326 0.9487 0.955 0.9619 0.9653 0.9668 0.9692 0.9712 0.9741 0.9751 0.9761 0.9761 0.978 0.978 0.978 0.979 "
          ],
          "name": "stdout"
        }
      ]
    },
    {
      "cell_type": "code",
      "metadata": {
        "id": "1etlG8qQOiIR"
      },
      "source": [
        "dls = DataLoaders(dl, valid_dl) "
      ],
      "execution_count": null,
      "outputs": []
    },
    {
      "cell_type": "code",
      "metadata": {
        "id": "BvZwVey4PCpg"
      },
      "source": [
        "learn = Learner(dls, nn.Linear(28*28,1), opt_func=SGD,\n",
        "                loss_func=mnist_loss, metrics=batch_accuracy)"
      ],
      "execution_count": null,
      "outputs": []
    },
    {
      "cell_type": "code",
      "metadata": {
        "colab": {
          "base_uri": "https://localhost:8080/",
          "height": 348
        },
        "id": "FdT5WVj8PIkS",
        "outputId": "c94e8cf6-fe53-4a8e-a0be-c8d4c050a907"
      },
      "source": [
        "learn.fit(10, lr=lr)"
      ],
      "execution_count": null,
      "outputs": [
        {
          "output_type": "display_data",
          "data": {
            "text/html": [
              "<table border=\"1\" class=\"dataframe\">\n",
              "  <thead>\n",
              "    <tr style=\"text-align: left;\">\n",
              "      <th>epoch</th>\n",
              "      <th>train_loss</th>\n",
              "      <th>valid_loss</th>\n",
              "      <th>batch_accuracy</th>\n",
              "      <th>time</th>\n",
              "    </tr>\n",
              "  </thead>\n",
              "  <tbody>\n",
              "    <tr>\n",
              "      <td>0</td>\n",
              "      <td>0.636673</td>\n",
              "      <td>0.501062</td>\n",
              "      <td>0.495584</td>\n",
              "      <td>00:00</td>\n",
              "    </tr>\n",
              "    <tr>\n",
              "      <td>1</td>\n",
              "      <td>0.285501</td>\n",
              "      <td>0.314162</td>\n",
              "      <td>0.678116</td>\n",
              "      <td>00:00</td>\n",
              "    </tr>\n",
              "    <tr>\n",
              "      <td>2</td>\n",
              "      <td>0.114067</td>\n",
              "      <td>0.149121</td>\n",
              "      <td>0.867517</td>\n",
              "      <td>00:00</td>\n",
              "    </tr>\n",
              "    <tr>\n",
              "      <td>3</td>\n",
              "      <td>0.055704</td>\n",
              "      <td>0.095189</td>\n",
              "      <td>0.919038</td>\n",
              "      <td>00:00</td>\n",
              "    </tr>\n",
              "    <tr>\n",
              "      <td>4</td>\n",
              "      <td>0.033689</td>\n",
              "      <td>0.071907</td>\n",
              "      <td>0.937684</td>\n",
              "      <td>00:00</td>\n",
              "    </tr>\n",
              "    <tr>\n",
              "      <td>5</td>\n",
              "      <td>0.024745</td>\n",
              "      <td>0.058754</td>\n",
              "      <td>0.951423</td>\n",
              "      <td>00:00</td>\n",
              "    </tr>\n",
              "    <tr>\n",
              "      <td>6</td>\n",
              "      <td>0.020858</td>\n",
              "      <td>0.050384</td>\n",
              "      <td>0.958783</td>\n",
              "      <td>00:00</td>\n",
              "    </tr>\n",
              "    <tr>\n",
              "      <td>7</td>\n",
              "      <td>0.018980</td>\n",
              "      <td>0.044713</td>\n",
              "      <td>0.963690</td>\n",
              "      <td>00:00</td>\n",
              "    </tr>\n",
              "    <tr>\n",
              "      <td>8</td>\n",
              "      <td>0.017921</td>\n",
              "      <td>0.040664</td>\n",
              "      <td>0.966143</td>\n",
              "      <td>00:00</td>\n",
              "    </tr>\n",
              "    <tr>\n",
              "      <td>9</td>\n",
              "      <td>0.017216</td>\n",
              "      <td>0.037641</td>\n",
              "      <td>0.968597</td>\n",
              "      <td>00:00</td>\n",
              "    </tr>\n",
              "  </tbody>\n",
              "</table>"
            ],
            "text/plain": [
              "<IPython.core.display.HTML object>"
            ]
          },
          "metadata": {
            "tags": []
          }
        }
      ]
    },
    {
      "cell_type": "code",
      "metadata": {
        "id": "XI4gALJlPgKB"
      },
      "source": [
        "def simple_net(xb): \n",
        "    res = xb@w1 + b1\n",
        "    res = res.max(tensor(0.0))\n",
        "    res = res@w2 + b2\n",
        "    return res"
      ],
      "execution_count": null,
      "outputs": []
    },
    {
      "cell_type": "code",
      "metadata": {
        "id": "B3oda1_uPg4I"
      },
      "source": [
        "w1 = init_params((28*28,30))\n",
        "b1 = init_params(30)\n",
        "w2 = init_params((30,1))\n",
        "b2 = init_params(1)"
      ],
      "execution_count": null,
      "outputs": []
    },
    {
      "cell_type": "code",
      "metadata": {
        "colab": {
          "base_uri": "https://localhost:8080/",
          "height": 265
        },
        "id": "QsCbfyyyPwEh",
        "outputId": "188f357e-38b2-4d83-ea71-c3ce1a069588"
      },
      "source": [
        "plot_function(F.relu)"
      ],
      "execution_count": null,
      "outputs": [
        {
          "output_type": "display_data",
          "data": {
            "image/png": "[encoded data removed]",
            "text/plain": [
              "<Figure size 432x288 with 1 Axes>"
            ]
          },
          "metadata": {
            "tags": [],
            "needs_background": "light"
          }
        }
      ]
    },
    {
      "cell_type": "code",
      "metadata": {
        "id": "264_Yr5mPyXG"
      },
      "source": [
        "simple_net = nn.Sequential(\n",
        "    nn.Linear(28*28,30),\n",
        "    nn.ReLU(),\n",
        "    nn.Linear(30,1)\n",
        ")"
      ],
      "execution_count": null,
      "outputs": []
    },
    {
      "cell_type": "code",
      "metadata": {
        "id": "rbG-q15VQYZd"
      },
      "source": [
        "learn = Learner(dls, simple_net, opt_func=SGD,\n",
        "                loss_func=mnist_loss, metrics=batch_accuracy)"
      ],
      "execution_count": null,
      "outputs": []
    },
    {
      "cell_type": "code",
      "metadata": {
        "colab": {
          "base_uri": "https://localhost:8080/",
          "height": 1000
        },
        "id": "IRP0Vyr3RA_B",
        "outputId": "888fbdb4-4b8a-41d3-f872-34ad08e51392"
      },
      "source": [
        "#hide_output\n",
        "learn.fit(40, 0.1)"
      ],
      "execution_count": null,
      "outputs": [
        {
          "output_type": "display_data",
          "data": {
            "text/html": [
              "<table border=\"1\" class=\"dataframe\">\n",
              "  <thead>\n",
              "    <tr style=\"text-align: left;\">\n",
              "      <th>epoch</th>\n",
              "      <th>train_loss</th>\n",
              "      <th>valid_loss</th>\n",
              "      <th>batch_accuracy</th>\n",
              "      <th>time</th>\n",
              "    </tr>\n",
              "  </thead>\n",
              "  <tbody>\n",
              "    <tr>\n",
              "      <td>0</td>\n",
              "      <td>0.347378</td>\n",
              "      <td>0.401283</td>\n",
              "      <td>0.506869</td>\n",
              "      <td>00:00</td>\n",
              "    </tr>\n",
              "    <tr>\n",
              "      <td>1</td>\n",
              "      <td>0.156700</td>\n",
              "      <td>0.244920</td>\n",
              "      <td>0.782139</td>\n",
              "      <td>00:00</td>\n",
              "    </tr>\n",
              "    <tr>\n",
              "      <td>2</td>\n",
              "      <td>0.085043</td>\n",
              "      <td>0.120720</td>\n",
              "      <td>0.913150</td>\n",
              "      <td>00:00</td>\n",
              "    </tr>\n",
              "    <tr>\n",
              "      <td>3</td>\n",
              "      <td>0.054847</td>\n",
              "      <td>0.080137</td>\n",
              "      <td>0.939647</td>\n",
              "      <td>00:00</td>\n",
              "    </tr>\n",
              "    <tr>\n",
              "      <td>4</td>\n",
              "      <td>0.041056</td>\n",
              "      <td>0.061969</td>\n",
              "      <td>0.955348</td>\n",
              "      <td>00:00</td>\n",
              "    </tr>\n",
              "    <tr>\n",
              "      <td>5</td>\n",
              "      <td>0.034131</td>\n",
              "      <td>0.051872</td>\n",
              "      <td>0.963690</td>\n",
              "      <td>00:00</td>\n",
              "    </tr>\n",
              "    <tr>\n",
              "      <td>6</td>\n",
              "      <td>0.030217</td>\n",
              "      <td>0.045568</td>\n",
              "      <td>0.964181</td>\n",
              "      <td>00:00</td>\n",
              "    </tr>\n",
              "    <tr>\n",
              "      <td>7</td>\n",
              "      <td>0.027711</td>\n",
              "      <td>0.041296</td>\n",
              "      <td>0.968106</td>\n",
              "      <td>00:00</td>\n",
              "    </tr>\n",
              "    <tr>\n",
              "      <td>8</td>\n",
              "      <td>0.025923</td>\n",
              "      <td>0.038219</td>\n",
              "      <td>0.969578</td>\n",
              "      <td>00:00</td>\n",
              "    </tr>\n",
              "    <tr>\n",
              "      <td>9</td>\n",
              "      <td>0.024545</td>\n",
              "      <td>0.035893</td>\n",
              "      <td>0.971541</td>\n",
              "      <td>00:00</td>\n",
              "    </tr>\n",
              "    <tr>\n",
              "      <td>10</td>\n",
              "      <td>0.023431</td>\n",
              "      <td>0.034061</td>\n",
              "      <td>0.972522</td>\n",
              "      <td>00:00</td>\n",
              "    </tr>\n",
              "    <tr>\n",
              "      <td>11</td>\n",
              "      <td>0.022502</td>\n",
              "      <td>0.032569</td>\n",
              "      <td>0.973013</td>\n",
              "      <td>00:00</td>\n",
              "    </tr>\n",
              "    <tr>\n",
              "      <td>12</td>\n",
              "      <td>0.021710</td>\n",
              "      <td>0.031321</td>\n",
              "      <td>0.973994</td>\n",
              "      <td>00:00</td>\n",
              "    </tr>\n",
              "    <tr>\n",
              "      <td>13</td>\n",
              "      <td>0.021025</td>\n",
              "      <td>0.030253</td>\n",
              "      <td>0.974975</td>\n",
              "      <td>00:00</td>\n",
              "    </tr>\n",
              "    <tr>\n",
              "      <td>14</td>\n",
              "      <td>0.020425</td>\n",
              "      <td>0.029320</td>\n",
              "      <td>0.975957</td>\n",
              "      <td>00:00</td>\n",
              "    </tr>\n",
              "    <tr>\n",
              "      <td>15</td>\n",
              "      <td>0.019893</td>\n",
              "      <td>0.028498</td>\n",
              "      <td>0.975957</td>\n",
              "      <td>00:00</td>\n",
              "    </tr>\n",
              "    <tr>\n",
              "      <td>16</td>\n",
              "      <td>0.019417</td>\n",
              "      <td>0.027763</td>\n",
              "      <td>0.976938</td>\n",
              "      <td>00:00</td>\n",
              "    </tr>\n",
              "    <tr>\n",
              "      <td>17</td>\n",
              "      <td>0.018989</td>\n",
              "      <td>0.027103</td>\n",
              "      <td>0.977429</td>\n",
              "      <td>00:00</td>\n",
              "    </tr>\n",
              "    <tr>\n",
              "      <td>18</td>\n",
              "      <td>0.018599</td>\n",
              "      <td>0.026504</td>\n",
              "      <td>0.977920</td>\n",
              "      <td>00:00</td>\n",
              "    </tr>\n",
              "    <tr>\n",
              "      <td>19</td>\n",
              "      <td>0.018243</td>\n",
              "      <td>0.025960</td>\n",
              "      <td>0.978901</td>\n",
              "      <td>00:00</td>\n",
              "    </tr>\n",
              "    <tr>\n",
              "      <td>20</td>\n",
              "      <td>0.017915</td>\n",
              "      <td>0.025461</td>\n",
              "      <td>0.978901</td>\n",
              "      <td>00:00</td>\n",
              "    </tr>\n",
              "    <tr>\n",
              "      <td>21</td>\n",
              "      <td>0.017611</td>\n",
              "      <td>0.025004</td>\n",
              "      <td>0.979882</td>\n",
              "      <td>00:00</td>\n",
              "    </tr>\n",
              "    <tr>\n",
              "      <td>22</td>\n",
              "      <td>0.017328</td>\n",
              "      <td>0.024582</td>\n",
              "      <td>0.979882</td>\n",
              "      <td>00:00</td>\n",
              "    </tr>\n",
              "    <tr>\n",
              "      <td>23</td>\n",
              "      <td>0.017065</td>\n",
              "      <td>0.024192</td>\n",
              "      <td>0.980373</td>\n",
              "      <td>00:00</td>\n",
              "    </tr>\n",
              "    <tr>\n",
              "      <td>24</td>\n",
              "      <td>0.016817</td>\n",
              "      <td>0.023831</td>\n",
              "      <td>0.980864</td>\n",
              "      <td>00:00</td>\n",
              "    </tr>\n",
              "    <tr>\n",
              "      <td>25</td>\n",
              "      <td>0.016585</td>\n",
              "      <td>0.023495</td>\n",
              "      <td>0.980864</td>\n",
              "      <td>00:00</td>\n",
              "    </tr>\n",
              "    <tr>\n",
              "      <td>26</td>\n",
              "      <td>0.016365</td>\n",
              "      <td>0.023182</td>\n",
              "      <td>0.980864</td>\n",
              "      <td>00:00</td>\n",
              "    </tr>\n",
              "    <tr>\n",
              "      <td>27</td>\n",
              "      <td>0.016157</td>\n",
              "      <td>0.022891</td>\n",
              "      <td>0.980864</td>\n",
              "      <td>00:00</td>\n",
              "    </tr>\n",
              "    <tr>\n",
              "      <td>28</td>\n",
              "      <td>0.015961</td>\n",
              "      <td>0.022618</td>\n",
              "      <td>0.981354</td>\n",
              "      <td>00:00</td>\n",
              "    </tr>\n",
              "    <tr>\n",
              "      <td>29</td>\n",
              "      <td>0.015774</td>\n",
              "      <td>0.022364</td>\n",
              "      <td>0.981845</td>\n",
              "      <td>00:00</td>\n",
              "    </tr>\n",
              "    <tr>\n",
              "      <td>30</td>\n",
              "      <td>0.015595</td>\n",
              "      <td>0.022126</td>\n",
              "      <td>0.981845</td>\n",
              "      <td>00:00</td>\n",
              "    </tr>\n",
              "    <tr>\n",
              "      <td>31</td>\n",
              "      <td>0.015425</td>\n",
              "      <td>0.021903</td>\n",
              "      <td>0.981845</td>\n",
              "      <td>00:00</td>\n",
              "    </tr>\n",
              "    <tr>\n",
              "      <td>32</td>\n",
              "      <td>0.015263</td>\n",
              "      <td>0.021693</td>\n",
              "      <td>0.982336</td>\n",
              "      <td>00:00</td>\n",
              "    </tr>\n",
              "    <tr>\n",
              "      <td>33</td>\n",
              "      <td>0.015107</td>\n",
              "      <td>0.021497</td>\n",
              "      <td>0.982826</td>\n",
              "      <td>00:00</td>\n",
              "    </tr>\n",
              "    <tr>\n",
              "      <td>34</td>\n",
              "      <td>0.014958</td>\n",
              "      <td>0.021312</td>\n",
              "      <td>0.982336</td>\n",
              "      <td>00:00</td>\n",
              "    </tr>\n",
              "    <tr>\n",
              "      <td>35</td>\n",
              "      <td>0.014815</td>\n",
              "      <td>0.021138</td>\n",
              "      <td>0.982336</td>\n",
              "      <td>00:00</td>\n",
              "    </tr>\n",
              "    <tr>\n",
              "      <td>36</td>\n",
              "      <td>0.014677</td>\n",
              "      <td>0.020974</td>\n",
              "      <td>0.982826</td>\n",
              "      <td>00:00</td>\n",
              "    </tr>\n",
              "    <tr>\n",
              "      <td>37</td>\n",
              "      <td>0.014545</td>\n",
              "      <td>0.020819</td>\n",
              "      <td>0.982826</td>\n",
              "      <td>00:00</td>\n",
              "    </tr>\n",
              "    <tr>\n",
              "      <td>38</td>\n",
              "      <td>0.014417</td>\n",
              "      <td>0.020673</td>\n",
              "      <td>0.982826</td>\n",
              "      <td>00:00</td>\n",
              "    </tr>\n",
              "    <tr>\n",
              "      <td>39</td>\n",
              "      <td>0.014294</td>\n",
              "      <td>0.020534</td>\n",
              "      <td>0.982826</td>\n",
              "      <td>00:00</td>\n",
              "    </tr>\n",
              "  </tbody>\n",
              "</table>"
            ],
            "text/plain": [
              "<IPython.core.display.HTML object>"
            ]
          },
          "metadata": {
            "tags": []
          }
        }
      ]
    },
    {
      "cell_type": "code",
      "metadata": {
        "colab": {
          "base_uri": "https://localhost:8080/",
          "height": 267
        },
        "id": "NY1c9A1FRDXd",
        "outputId": "7b9f39ef-cd3f-44e6-e745-a426e3c343f4"
      },
      "source": [
        "plt.plot(L(learn.recorder.values).itemgot(2));"
      ],
      "execution_count": null,
      "outputs": [
        {
          "output_type": "display_data",
          "data": {
            "image/png": "[encoded data removed]",
            "text/plain": [
              "<Figure size 432x288 with 1 Axes>"
            ]
          },
          "metadata": {
            "tags": [],
            "needs_background": "light"
          }
        }
      ]
    },
    {
      "cell_type": "code",
      "metadata": {
        "colab": {
          "base_uri": "https://localhost:8080/"
        },
        "id": "R5m84VjaRL8R",
        "outputId": "baaf851d-aa0d-4d25-d1c5-232a692cfd58"
      },
      "source": [
        "learn.recorder.values[-1][2]"
      ],
      "execution_count": null,
      "outputs": [
        {
          "output_type": "execute_result",
          "data": {
            "text/plain": [
              "0.982826292514801"
            ]
          },
          "metadata": {
            "tags": []
          },
          "execution_count": 174
        }
      ]
    },
    {
      "cell_type": "code",
      "metadata": {
        "colab": {
          "base_uri": "https://localhost:8080/"
        },
        "id": "MoLss3NWRVrL",
        "outputId": "14344994-1d87-426e-e491-249bcd7e57e3"
      },
      "source": [
        "m = learn.model\n",
        "m"
      ],
      "execution_count": null,
      "outputs": [
        {
          "output_type": "execute_result",
          "data": {
            "text/plain": [
              "Sequential(\n",
              "  (0): Linear(in_features=784, out_features=30, bias=True)\n",
              "  (1): ReLU()\n",
              "  (2): Linear(in_features=30, out_features=1, bias=True)\n",
              ")"
            ]
          },
          "metadata": {
            "tags": []
          },
          "execution_count": 175
        }
      ]
    },
    {
      "cell_type": "code",
      "metadata": {
        "id": "PjCoH237Rk90"
      },
      "source": [
        "w,b = m[0].parameters()"
      ],
      "execution_count": null,
      "outputs": []
    },
    {
      "cell_type": "code",
      "metadata": {
        "colab": {
          "base_uri": "https://localhost:8080/"
        },
        "id": "I9gZk22eR1Mn",
        "outputId": "becfc3c2-f99d-4861-c421-5f7b6dd52520"
      },
      "source": [
        "w.shape"
      ],
      "execution_count": null,
      "outputs": [
        {
          "output_type": "execute_result",
          "data": {
            "text/plain": [
              "torch.Size([30, 784])"
            ]
          },
          "metadata": {
            "tags": []
          },
          "execution_count": 177
        }
      ]
    },
    {
      "cell_type": "code",
      "metadata": {
        "colab": {
          "base_uri": "https://localhost:8080/",
          "height": 103
        },
        "id": "4BIk0Wn4SDMo",
        "outputId": "6a15eaa2-3eca-478c-fe45-c41d0db1d76a"
      },
      "source": [
        "show_image(w[0].view(28,28))"
      ],
      "execution_count": null,
      "outputs": [
        {
          "output_type": "execute_result",
          "data": {
            "text/plain": [
              "<matplotlib.axes._subplots.AxesSubplot at 0x7ff03db62390>"
            ]
          },
          "metadata": {
            "tags": []
          },
          "execution_count": 178
        },
        {
          "output_type": "display_data",
          "data": {
            "image/png": "[encoded data removed]",
            "text/plain": [
              "<Figure size 72x72 with 1 Axes>"
            ]
          },
          "metadata": {
            "tags": [],
            "needs_background": "light"
          }
        }
      ]
    },
    {
      "cell_type": "code",
      "metadata": {
        "colab": {
          "base_uri": "https://localhost:8080/",
          "height": 78
        },
        "id": "GdrDUMmzSYc5",
        "outputId": "0f7ae0ce-c6b8-4795-daba-a98ec7f32e58"
      },
      "source": [
        "dls = ImageDataLoaders.from_folder(path)\n",
        "learn = cnn_learner(dls, resnet18, pretrained=False,\n",
        "                    loss_func=F.cross_entropy, metrics=accuracy)\n",
        "learn.fit_one_cycle(1, 0.1)"
      ],
      "execution_count": null,
      "outputs": [
        {
          "output_type": "display_data",
          "data": {
            "text/html": [
              "<table border=\"1\" class=\"dataframe\">\n",
              "  <thead>\n",
              "    <tr style=\"text-align: left;\">\n",
              "      <th>epoch</th>\n",
              "      <th>train_loss</th>\n",
              "      <th>valid_loss</th>\n",
              "      <th>accuracy</th>\n",
              "      <th>time</th>\n",
              "    </tr>\n",
              "  </thead>\n",
              "  <tbody>\n",
              "    <tr>\n",
              "      <td>0</td>\n",
              "      <td>0.156408</td>\n",
              "      <td>0.022394</td>\n",
              "      <td>0.995584</td>\n",
              "      <td>00:14</td>\n",
              "    </tr>\n",
              "  </tbody>\n",
              "</table>"
            ],
            "text/plain": [
              "<IPython.core.display.HTML object>"
            ]
          },
          "metadata": {
            "tags": []
          }
        }
      ]
    },
    {
      "cell_type": "code",
      "metadata": {
        "colab": {
          "base_uri": "https://localhost:8080/",
          "height": 108
        },
        "id": "cPtQXe7rSvIG",
        "outputId": "5a95cd37-4095-4dfd-ea5c-c5481b61986c"
      },
      "source": [
        "dls = ImageDataLoaders.from_folder(path)\n",
        "learn = cnn_learner(dls, resnet18, pretrained=False,\n",
        "                    loss_func=F.cross_entropy, metrics=accuracy)\n",
        "learn.fit_one_cycle(2, 0.1)"
      ],
      "execution_count": null,
      "outputs": [
        {
          "output_type": "display_data",
          "data": {
            "text/html": [
              "<table border=\"1\" class=\"dataframe\">\n",
              "  <thead>\n",
              "    <tr style=\"text-align: left;\">\n",
              "      <th>epoch</th>\n",
              "      <th>train_loss</th>\n",
              "      <th>valid_loss</th>\n",
              "      <th>accuracy</th>\n",
              "      <th>time</th>\n",
              "    </tr>\n",
              "  </thead>\n",
              "  <tbody>\n",
              "    <tr>\n",
              "      <td>0</td>\n",
              "      <td>0.333473</td>\n",
              "      <td>0.037076</td>\n",
              "      <td>0.995584</td>\n",
              "      <td>00:15</td>\n",
              "    </tr>\n",
              "    <tr>\n",
              "      <td>1</td>\n",
              "      <td>0.039568</td>\n",
              "      <td>0.014091</td>\n",
              "      <td>0.997547</td>\n",
              "      <td>00:14</td>\n",
              "    </tr>\n",
              "  </tbody>\n",
              "</table>"
            ],
            "text/plain": [
              "<IPython.core.display.HTML object>"
            ]
          },
          "metadata": {
            "tags": []
          }
        }
      ]
    },
    {
      "cell_type": "markdown",
      "metadata": {
        "id": "BQKdoXqPTpdL"
      },
      "source": [
        "Image Classification time stamp 1:09:40 Lesson 4"
      ]
    }
  ]
}