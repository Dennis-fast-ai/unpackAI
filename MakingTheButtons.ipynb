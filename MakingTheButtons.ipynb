{
  "nbformat": 4,
  "nbformat_minor": 0,
  "metadata": {
    "colab": {
      "name": "MakingTheButtons.ipynb",
      "provenance": [],
      "authorship_tag": "ABX9TyPqBWPWCMNmKJu+rJ0Dqq4H",
      "include_colab_link": true
    },
    "kernelspec": {
      "name": "python3",
      "display_name": "Python 3"
    },
    "language_info": {
      "name": "python"
    }
  },
  "cells": [
    {
      "cell_type": "markdown",
      "metadata": {
        "id": "view-in-github",
        "colab_type": "text"
      },
      "source": [
        "<a href=\"https://colab.research.google.com/github/Dennis-fast-ai/unpackAI/blob/main/MakingTheButtons.ipynb\" target=\"_parent\"><img src=\"https://colab.research.google.com/assets/colab-badge.svg\" alt=\"Open In Colab\"/></a>"
      ]
    },
    {
      "cell_type": "markdown",
      "metadata": {
        "id": "44cDuDQPt43B"
      },
      "source": [
        "### Using the Model for Inference\n",
        "\n",
        "after you have trained your model must be a current session that you trained do the following:"
      ]
    },
    {
      "cell_type": "code",
      "metadata": {
        "id": "ndboGaH_tyfF"
      },
      "source": [
        "learn.export() #this takes the trained model and saves it, you cannot change anything in this it is a fixed model"
      ],
      "execution_count": null,
      "outputs": []
    },
    {
      "cell_type": "code",
      "metadata": {
        "id": "UO1Sh-AyuSDY"
      },
      "source": [
        "path = Path()\n",
        "path.ls(file_exts='.pkl') #this just checks to see that you successfully saved the .pkl filr ... it should say [Path('export.pkl')]"
      ],
      "execution_count": null,
      "outputs": []
    },
    {
      "cell_type": "code",
      "metadata": {
        "id": "khBe7JybuSBA"
      },
      "source": [
        "learn_inf = load_learner(path/'export.pkl')"
      ],
      "execution_count": null,
      "outputs": []
    },
    {
      "cell_type": "code",
      "metadata": {
        "id": "lDgcxBUouR2a"
      },
      "source": [
        "learn_inf.predict('your file name and location here') #you can just put a picture in you gdrive folder, make sure you have the correct path it should read something like\n",
        "                                                      #'/content/gdrive/Mydrive/.../0001.jpg'"
      ],
      "execution_count": null,
      "outputs": []
    },
    {
      "cell_type": "code",
      "metadata": {
        "id": "OXvrdyo1uRt5"
      },
      "source": [
        "learn_inf.dls.vocab #this is used to see what classes you can predict with this pkl"
      ],
      "execution_count": null,
      "outputs": []
    },
    {
      "cell_type": "markdown",
      "metadata": {
        "id": "NsFp2xlbyQGc"
      },
      "source": [
        "####Creating a button to upload files from your computer not in the gdrive"
      ]
    },
    {
      "cell_type": "code",
      "metadata": {
        "id": "Gwd3uL1Bx-Tz"
      },
      "source": [
        "btn_upload = widgets.FileUpload()\n",
        "btn_upload"
      ],
      "execution_count": null,
      "outputs": []
    },
    {
      "cell_type": "code",
      "metadata": {
        "id": "E6Jm9w9ox-NE"
      },
      "source": [
        "btn_upload = SimpleNamespace(data = ['use the same file as above'])"
      ],
      "execution_count": null,
      "outputs": []
    },
    {
      "cell_type": "code",
      "metadata": {
        "id": "APn7qtkAyru_"
      },
      "source": [
        "img = PILImage.create(btn_upload.data[-1]) #should show your image"
      ],
      "execution_count": null,
      "outputs": []
    },
    {
      "cell_type": "code",
      "metadata": {
        "id": "ESXMwcL_x-DB"
      },
      "source": [
        "out_pl = widgets.Output()\n",
        "out_pl.clear_output()\n",
        "with out_pl: display(img.to_thumb(128,128))\n",
        "out_pl"
      ],
      "execution_count": null,
      "outputs": []
    },
    {
      "cell_type": "code",
      "metadata": {
        "id": "0zVrCmZzy2sU"
      },
      "source": [
        "pred,pred_idx,probs = learn_inf.predict(img)"
      ],
      "execution_count": null,
      "outputs": []
    },
    {
      "cell_type": "code",
      "metadata": {
        "id": "VoHk4MzWy2k9"
      },
      "source": [
        "lbl_pred = widgets.Label()\n",
        "lbl_pred.value = f'Prediction: {pred}; Probability: {probs[pred_idx]:.04f}'\n",
        "lbl_pred"
      ],
      "execution_count": null,
      "outputs": []
    },
    {
      "cell_type": "code",
      "metadata": {
        "id": "VfyLmJw7y2eT"
      },
      "source": [
        "btn_run = widgets.Button(description='Classify')  #a button to do the classification\n",
        "btn_run"
      ],
      "execution_count": null,
      "outputs": []
    },
    {
      "cell_type": "code",
      "metadata": {
        "id": "QWrY7stAzLv8"
      },
      "source": [
        "def on_click_classify(change):\n",
        "    img = PILImage.create(btn_upload.data[-1])\n",
        "    out_pl.clear_output()\n",
        "    with out_pl: display(img.to_thumb(128,128))\n",
        "    pred,pred_idx,probs = learn_inf.predict(img)\n",
        "    lbl_pred.value = f'Prediction: {pred}; Probability: {probs[pred_idx]:.04f}'\n",
        "\n",
        "btn_run.on_click(on_click_classify)"
      ],
      "execution_count": null,
      "outputs": []
    },
    {
      "cell_type": "code",
      "metadata": {
        "id": "Yfb8Qm4wzRiZ"
      },
      "source": [
        "btn_upload = widgets.FileUpload()"
      ],
      "execution_count": null,
      "outputs": []
    },
    {
      "cell_type": "code",
      "metadata": {
        "id": "sL3lP7LZzYUL"
      },
      "source": [
        "VBox([widgets.Label('Select your bear!'), \n",
        "      btn_upload, btn_run, out_pl, lbl_pred])"
      ],
      "execution_count": null,
      "outputs": []
    }
  ]
}